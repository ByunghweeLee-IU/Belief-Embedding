{
 "cells": [
  {
   "cell_type": "code",
   "execution_count": 49,
   "id": "80846042",
   "metadata": {},
   "outputs": [],
   "source": [
    "import pandas as pd\n",
    "import numpy as np\n",
    "import seaborn as sns\n",
    "from matplotlib import pyplot as plt\n",
    "from matplotlib import font_manager as fm\n",
    "from matplotlib import rc\n",
    "\n",
    "import matplotlib\n",
    "matplotlib.rcParams['figure.dpi'] = 100\n",
    "f_path = \"/System/Library/Fonts/Helvetica.ttc\"\n",
    "font_name = fm.FontProperties(fname=f_path).get_name()\n",
    "rc('font', family=font_name, size=13)"
   ]
  },
  {
   "cell_type": "markdown",
   "id": "60629820",
   "metadata": {},
   "source": [
    "## Annotaion result"
   ]
  },
  {
   "cell_type": "code",
   "execution_count": 50,
   "id": "2e4ecff0",
   "metadata": {},
   "outputs": [],
   "source": [
    "df_annot = pd.read_excel('../dataset/03_belief_filtering_GPT4_result_essential_data/Belief_Annotation_Result.xlsx')"
   ]
  },
  {
   "cell_type": "code",
   "execution_count": 51,
   "id": "d28d7f2d",
   "metadata": {
    "scrolled": true
   },
   "outputs": [
    {
     "data": {
      "text/html": [
       "<div>\n",
       "<style scoped>\n",
       "    .dataframe tbody tr th:only-of-type {\n",
       "        vertical-align: middle;\n",
       "    }\n",
       "\n",
       "    .dataframe tbody tr th {\n",
       "        vertical-align: top;\n",
       "    }\n",
       "\n",
       "    .dataframe thead th {\n",
       "        text-align: right;\n",
       "    }\n",
       "</style>\n",
       "<table border=\"1\" class=\"dataframe\">\n",
       "  <thead>\n",
       "    <tr style=\"text-align: right;\">\n",
       "      <th></th>\n",
       "      <th>debate_title</th>\n",
       "      <th>Annotator_1</th>\n",
       "      <th>Annotator_2</th>\n",
       "      <th>Annotator_3</th>\n",
       "      <th>GPT-4</th>\n",
       "      <th>Majority</th>\n",
       "      <th>Matched</th>\n",
       "    </tr>\n",
       "  </thead>\n",
       "  <tbody>\n",
       "    <tr>\n",
       "      <th>0</th>\n",
       "      <td>In the United States, Minor Jail Time Ought to...</td>\n",
       "      <td>1</td>\n",
       "      <td>1</td>\n",
       "      <td>1</td>\n",
       "      <td>1</td>\n",
       "      <td>1</td>\n",
       "      <td>1</td>\n",
       "    </tr>\n",
       "    <tr>\n",
       "      <th>1</th>\n",
       "      <td>should gay marriage be legal?</td>\n",
       "      <td>1</td>\n",
       "      <td>1</td>\n",
       "      <td>1</td>\n",
       "      <td>0</td>\n",
       "      <td>1</td>\n",
       "      <td>0</td>\n",
       "    </tr>\n",
       "    <tr>\n",
       "      <th>2</th>\n",
       "      <td>Stand your ground.</td>\n",
       "      <td>0</td>\n",
       "      <td>0</td>\n",
       "      <td>0</td>\n",
       "      <td>0</td>\n",
       "      <td>0</td>\n",
       "      <td>1</td>\n",
       "    </tr>\n",
       "    <tr>\n",
       "      <th>3</th>\n",
       "      <td>Prove that the god according to the bible love...</td>\n",
       "      <td>0</td>\n",
       "      <td>0</td>\n",
       "      <td>0</td>\n",
       "      <td>0</td>\n",
       "      <td>0</td>\n",
       "      <td>1</td>\n",
       "    </tr>\n",
       "    <tr>\n",
       "      <th>4</th>\n",
       "      <td>Do or Do Not there is no try. Do you Agree?</td>\n",
       "      <td>1</td>\n",
       "      <td>1</td>\n",
       "      <td>0</td>\n",
       "      <td>1</td>\n",
       "      <td>1</td>\n",
       "      <td>1</td>\n",
       "    </tr>\n",
       "  </tbody>\n",
       "</table>\n",
       "</div>"
      ],
      "text/plain": [
       "                                        debate_title  Annotator_1  \\\n",
       "0  In the United States, Minor Jail Time Ought to...            1   \n",
       "1                      should gay marriage be legal?            1   \n",
       "2                                 Stand your ground.            0   \n",
       "3  Prove that the god according to the bible love...            0   \n",
       "4        Do or Do Not there is no try. Do you Agree?            1   \n",
       "\n",
       "   Annotator_2  Annotator_3  GPT-4  Majority  Matched  \n",
       "0            1            1      1         1        1  \n",
       "1            1            1      0         1        0  \n",
       "2            0            0      0         0        1  \n",
       "3            0            0      0         0        1  \n",
       "4            1            0      1         1        1  "
      ]
     },
     "execution_count": 51,
     "metadata": {},
     "output_type": "execute_result"
    }
   ],
   "source": [
    "df_annot.head()"
   ]
  },
  {
   "cell_type": "code",
   "execution_count": 52,
   "id": "b24433ba",
   "metadata": {},
   "outputs": [],
   "source": [
    "from statsmodels.stats import inter_rater\n",
    "from statsmodels.stats.inter_rater import fleiss_kappa"
   ]
  },
  {
   "cell_type": "code",
   "execution_count": 53,
   "id": "a25b36ff",
   "metadata": {},
   "outputs": [],
   "source": [
    "rater_result = inter_rater.aggregate_raters(df_annot.iloc[:, 1:4], n_cat=2)"
   ]
  },
  {
   "cell_type": "code",
   "execution_count": 54,
   "id": "8565b948",
   "metadata": {},
   "outputs": [
    {
     "name": "stdout",
     "output_type": "stream",
     "text": [
      "Fleiss' Kappa: 0.8666429587482222\n"
     ]
    }
   ],
   "source": [
    "kappa_score = fleiss_kappa(rater_result[0], method='fleiss')\n",
    "print(f\"Fleiss' Kappa: {kappa_score}\")"
   ]
  },
  {
   "cell_type": "markdown",
   "id": "e1d18182",
   "metadata": {},
   "source": [
    "## Consistency with gpt-4"
   ]
  },
  {
   "cell_type": "code",
   "execution_count": 55,
   "id": "63cbf161",
   "metadata": {},
   "outputs": [],
   "source": [
    "data = df_annot"
   ]
  },
  {
   "cell_type": "code",
   "execution_count": 56,
   "id": "529d3a1d",
   "metadata": {},
   "outputs": [
    {
     "data": {
      "text/html": [
       "<div>\n",
       "<style scoped>\n",
       "    .dataframe tbody tr th:only-of-type {\n",
       "        vertical-align: middle;\n",
       "    }\n",
       "\n",
       "    .dataframe tbody tr th {\n",
       "        vertical-align: top;\n",
       "    }\n",
       "\n",
       "    .dataframe thead th {\n",
       "        text-align: right;\n",
       "    }\n",
       "</style>\n",
       "<table border=\"1\" class=\"dataframe\">\n",
       "  <thead>\n",
       "    <tr style=\"text-align: right;\">\n",
       "      <th></th>\n",
       "      <th>debate_title</th>\n",
       "      <th>Annotator_1</th>\n",
       "      <th>Annotator_2</th>\n",
       "      <th>Annotator_3</th>\n",
       "      <th>GPT-4</th>\n",
       "      <th>Majority</th>\n",
       "      <th>Matched</th>\n",
       "    </tr>\n",
       "  </thead>\n",
       "  <tbody>\n",
       "    <tr>\n",
       "      <th>0</th>\n",
       "      <td>In the United States, Minor Jail Time Ought to...</td>\n",
       "      <td>1</td>\n",
       "      <td>1</td>\n",
       "      <td>1</td>\n",
       "      <td>1</td>\n",
       "      <td>1</td>\n",
       "      <td>1</td>\n",
       "    </tr>\n",
       "    <tr>\n",
       "      <th>1</th>\n",
       "      <td>should gay marriage be legal?</td>\n",
       "      <td>1</td>\n",
       "      <td>1</td>\n",
       "      <td>1</td>\n",
       "      <td>0</td>\n",
       "      <td>1</td>\n",
       "      <td>0</td>\n",
       "    </tr>\n",
       "    <tr>\n",
       "      <th>2</th>\n",
       "      <td>Stand your ground.</td>\n",
       "      <td>0</td>\n",
       "      <td>0</td>\n",
       "      <td>0</td>\n",
       "      <td>0</td>\n",
       "      <td>0</td>\n",
       "      <td>1</td>\n",
       "    </tr>\n",
       "    <tr>\n",
       "      <th>3</th>\n",
       "      <td>Prove that the god according to the bible love...</td>\n",
       "      <td>0</td>\n",
       "      <td>0</td>\n",
       "      <td>0</td>\n",
       "      <td>0</td>\n",
       "      <td>0</td>\n",
       "      <td>1</td>\n",
       "    </tr>\n",
       "    <tr>\n",
       "      <th>4</th>\n",
       "      <td>Do or Do Not there is no try. Do you Agree?</td>\n",
       "      <td>1</td>\n",
       "      <td>1</td>\n",
       "      <td>0</td>\n",
       "      <td>1</td>\n",
       "      <td>1</td>\n",
       "      <td>1</td>\n",
       "    </tr>\n",
       "  </tbody>\n",
       "</table>\n",
       "</div>"
      ],
      "text/plain": [
       "                                        debate_title  Annotator_1  \\\n",
       "0  In the United States, Minor Jail Time Ought to...            1   \n",
       "1                      should gay marriage be legal?            1   \n",
       "2                                 Stand your ground.            0   \n",
       "3  Prove that the god according to the bible love...            0   \n",
       "4        Do or Do Not there is no try. Do you Agree?            1   \n",
       "\n",
       "   Annotator_2  Annotator_3  GPT-4  Majority  Matched  \n",
       "0            1            1      1         1        1  \n",
       "1            1            1      0         1        0  \n",
       "2            0            0      0         0        1  \n",
       "3            0            0      0         0        1  \n",
       "4            1            0      1         1        1  "
      ]
     },
     "execution_count": 56,
     "metadata": {},
     "output_type": "execute_result"
    }
   ],
   "source": [
    "data.head()"
   ]
  },
  {
   "cell_type": "code",
   "execution_count": 75,
   "id": "0ee253ef",
   "metadata": {},
   "outputs": [],
   "source": [
    "def get_color_from_palette(ratio, cmap_name='viridis'):\n",
    "    cmap = plt.get_cmap(cmap_name)\n",
    "    color = cmap(ratio)  # Get RGBA color\n",
    "    return matplotlib.colors.rgb2hex(color)"
   ]
  },
  {
   "cell_type": "code",
   "execution_count": 110,
   "id": "43452dd0",
   "metadata": {},
   "outputs": [
    {
     "data": {
      "image/png": "[encoded data removed]",
      "text/plain": [
       "<Figure size 1800x500 with 4 Axes>"
      ]
     },
     "metadata": {
      "needs_background": "light"
     },
     "output_type": "display_data"
    }
   ],
   "source": [
    "# Create a figure to hold multiple plots\n",
    "fig, axes = plt.subplots(1, 3, figsize=(18, 5))\n",
    "\n",
    "# Plot 1: Bar plot of mean values for annotators and GPT-4\n",
    "mean_values = data[['GPT-4', 'Annotator_1', 'Annotator_2', 'Annotator_3']].mean()\n",
    "\n",
    "colors = [get_color_from_palette(0.8)]\n",
    "for i in range(3):\n",
    "    colors.append(get_color_from_palette(0.3))\n",
    "\n",
    "sns.barplot(x=mean_values.index, y=mean_values.values, palette=colors, ax=axes[0])\n",
    "axes[0].set_xticklabels(['GPT-4\\n(sampled to be\\n50%)', 'Annotator_1', 'Annotator_2', 'Annotator_3'])\n",
    "axes[0].set_title('Belief annotation results')\n",
    "axes[0].set_ylabel(\"Proportion of beliefs classified as 'true'\")\n",
    "axes[0].set_ylim(0, 1)\n",
    "\n",
    "# Plot 2: Agreement rate of GPT-4 with majority vote\n",
    "agreement_counts = data['Matched'].value_counts()\n",
    "sns.barplot(x=agreement_counts.index, y=agreement_counts.values, palette=[get_color_from_palette(0.9,'coolwarm'), get_color_from_palette(0.3,'viridis') ], ax=axes[1])\n",
    "axes[1].set_title('GPT-4 Agreement with Majority Vote')\n",
    "axes[1].set_xticklabels(['Disagree', 'Agree'])\n",
    "axes[1].set_ylabel('Count')\n",
    "axes[1].set_ylim(0, data.shape[0])\n",
    "\n",
    "# Plot 3: Heatmap of agreement between individual annotators and GPT-4\n",
    "comparison_matrix = data[['GPT-4', 'Annotator_1', 'Annotator_2', 'Annotator_3']].corr()\n",
    "sns.heatmap(comparison_matrix, annot=True, cmap=\"viridis\", ax=axes[2], vmin=0)\n",
    "axes[2].set_title('Correlation Matrix of Classifications')\n",
    "\n",
    "# Display the plots\n",
    "plt.tight_layout()\n",
    "plt.savefig('../fig/SI/Annotation_task_result.pdf', transparent=True, bbox_inches='tight')\n",
    "plt.show()"
   ]
  },
  {
   "cell_type": "code",
   "execution_count": null,
   "id": "51b773ec",
   "metadata": {},
   "outputs": [],
   "source": []
  }
 ],
 "metadata": {
  "kernelspec": {
   "display_name": "Python 3 (ipykernel)",
   "language": "python",
   "name": "python3"
  },
  "language_info": {
   "codemirror_mode": {
    "name": "ipython",
    "version": 3
   },
   "file_extension": ".py",
   "mimetype": "text/x-python",
   "name": "python",
   "nbconvert_exporter": "python",
   "pygments_lexer": "ipython3",
   "version": "3.9.10"
  }
 },
 "nbformat": 4,
 "nbformat_minor": 5
}
