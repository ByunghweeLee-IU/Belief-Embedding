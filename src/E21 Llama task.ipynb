{
 "cells": [
  {
   "cell_type": "code",
   "execution_count": 1,
   "id": "9cbbf502",
   "metadata": {},
   "outputs": [],
   "source": [
    "import pandas as pd"
   ]
  },
  {
   "cell_type": "code",
   "execution_count": 9,
   "id": "c3d3eb1c",
   "metadata": {},
   "outputs": [],
   "source": [
    "df_train = pd.read_pickle('../dataset/04_K-fold_dataset_commonusers/df_commonuser_train_idx0.p')\n",
    "df_test = pd.read_pickle('../dataset/04_K-fold_dataset_commonusers/df_commonuser_test_idx0.p')"
   ]
  },
  {
   "cell_type": "code",
   "execution_count": 10,
   "id": "897d4ee9",
   "metadata": {},
   "outputs": [
    {
     "data": {
      "text/html": [
       "<div>\n",
       "<style scoped>\n",
       "    .dataframe tbody tr th:only-of-type {\n",
       "        vertical-align: middle;\n",
       "    }\n",
       "\n",
       "    .dataframe tbody tr th {\n",
       "        vertical-align: top;\n",
       "    }\n",
       "\n",
       "    .dataframe thead th {\n",
       "        text-align: right;\n",
       "    }\n",
       "</style>\n",
       "<table border=\"1\" class=\"dataframe\">\n",
       "  <thead>\n",
       "    <tr style=\"text-align: right;\">\n",
       "      <th></th>\n",
       "      <th>debate_key</th>\n",
       "      <th>debate_title</th>\n",
       "      <th>username</th>\n",
       "      <th>debate_date</th>\n",
       "      <th>position</th>\n",
       "      <th>is_belief</th>\n",
       "      <th>belief_statement</th>\n",
       "    </tr>\n",
       "  </thead>\n",
       "  <tbody>\n",
       "    <tr>\n",
       "      <th>1</th>\n",
       "      <td>.-Audis-are-junkers-except-to-rich-kids-with-l...</td>\n",
       "      <td>. Audis are junkers, except to rich kids with ...</td>\n",
       "      <td>Max.Wallace</td>\n",
       "      <td>2014-09-04</td>\n",
       "      <td>Pro</td>\n",
       "      <td>1.0</td>\n",
       "      <td>I agree with the following: . Audis are junker...</td>\n",
       "    </tr>\n",
       "    <tr>\n",
       "      <th>2</th>\n",
       "      <td>....-Former-Secretary-of-State-Madeleine-Albri...</td>\n",
       "      <td>....\"Former Secretary of State Madeleine Albri...</td>\n",
       "      <td>Lookingatissues</td>\n",
       "      <td>2017-01-30</td>\n",
       "      <td>Pro</td>\n",
       "      <td>1.0</td>\n",
       "      <td>I agree with the following: ....\"Former Secret...</td>\n",
       "    </tr>\n",
       "    <tr>\n",
       "      <th>4</th>\n",
       "      <td>.9-repeated-is-equal-to-1./1/</td>\n",
       "      <td>.9 repeated is equal to 1.</td>\n",
       "      <td>cowpie1998</td>\n",
       "      <td>2011-04-07</td>\n",
       "      <td>Pro</td>\n",
       "      <td>1.0</td>\n",
       "      <td>I agree with the following: .9 repeated is equ...</td>\n",
       "    </tr>\n",
       "    <tr>\n",
       "      <th>5</th>\n",
       "      <td>.99-is-equal-to-one./1/</td>\n",
       "      <td>.99 is equal to one.</td>\n",
       "      <td>SweetCrackerJack</td>\n",
       "      <td>2013-12-24</td>\n",
       "      <td>Pro</td>\n",
       "      <td>1.0</td>\n",
       "      <td>I agree with the following: .99 is equal to one.</td>\n",
       "    </tr>\n",
       "    <tr>\n",
       "      <th>7</th>\n",
       "      <td>.999-repeating-is-equal-to-1-in-reality/1/</td>\n",
       "      <td>.999 repeating is equal to 1 in reality</td>\n",
       "      <td>batman</td>\n",
       "      <td>2008-01-05</td>\n",
       "      <td>Pro</td>\n",
       "      <td>1.0</td>\n",
       "      <td>I agree with the following: .999 repeating is ...</td>\n",
       "    </tr>\n",
       "  </tbody>\n",
       "</table>\n",
       "</div>"
      ],
      "text/plain": [
       "                                          debate_key  \\\n",
       "1  .-Audis-are-junkers-except-to-rich-kids-with-l...   \n",
       "2  ....-Former-Secretary-of-State-Madeleine-Albri...   \n",
       "4                      .9-repeated-is-equal-to-1./1/   \n",
       "5                            .99-is-equal-to-one./1/   \n",
       "7         .999-repeating-is-equal-to-1-in-reality/1/   \n",
       "\n",
       "                                        debate_title          username  \\\n",
       "1  . Audis are junkers, except to rich kids with ...       Max.Wallace   \n",
       "2  ....\"Former Secretary of State Madeleine Albri...   Lookingatissues   \n",
       "4                         .9 repeated is equal to 1.        cowpie1998   \n",
       "5                               .99 is equal to one.  SweetCrackerJack   \n",
       "7            .999 repeating is equal to 1 in reality            batman   \n",
       "\n",
       "  debate_date position  is_belief  \\\n",
       "1  2014-09-04      Pro        1.0   \n",
       "2  2017-01-30      Pro        1.0   \n",
       "4  2011-04-07      Pro        1.0   \n",
       "5  2013-12-24      Pro        1.0   \n",
       "7  2008-01-05      Pro        1.0   \n",
       "\n",
       "                                    belief_statement  \n",
       "1  I agree with the following: . Audis are junker...  \n",
       "2  I agree with the following: ....\"Former Secret...  \n",
       "4  I agree with the following: .9 repeated is equ...  \n",
       "5   I agree with the following: .99 is equal to one.  \n",
       "7  I agree with the following: .999 repeating is ...  "
      ]
     },
     "execution_count": 10,
     "metadata": {},
     "output_type": "execute_result"
    }
   ],
   "source": [
    "df_test.head()"
   ]
  },
  {
   "cell_type": "code",
   "execution_count": 11,
   "id": "6ae60581",
   "metadata": {},
   "outputs": [
    {
     "data": {
      "text/plain": [
       "(115432, 34091)"
      ]
     },
     "execution_count": 11,
     "metadata": {},
     "output_type": "execute_result"
    }
   ],
   "source": [
    "len(df_train), len(df_test)"
   ]
  },
  {
   "cell_type": "code",
   "execution_count": null,
   "id": "be4c9b43",
   "metadata": {},
   "outputs": [],
   "source": []
  }
 ],
 "metadata": {
  "kernelspec": {
   "display_name": "Python 3 (ipykernel)",
   "language": "python",
   "name": "python3"
  },
  "language_info": {
   "codemirror_mode": {
    "name": "ipython",
    "version": 3
   },
   "file_extension": ".py",
   "mimetype": "text/x-python",
   "name": "python",
   "nbconvert_exporter": "python",
   "pygments_lexer": "ipython3",
   "version": "3.9.10"
  }
 },
 "nbformat": 4,
 "nbformat_minor": 5
}
