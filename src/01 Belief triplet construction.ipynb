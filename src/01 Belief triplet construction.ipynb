{
 "cells": [
  {
   "cell_type": "code",
   "execution_count": 1,
   "id": "9b3b6cbc",
   "metadata": {},
   "outputs": [],
   "source": [
    "import pickle\n",
    "import pandas as pd\n",
    "from pandas import Series\n",
    "from tqdm import tqdm\n",
    "import seaborn as sns\n",
    "import numpy as np\n",
    "import matplotlib\n",
    "\n",
    "%matplotlib inline\n",
    "from matplotlib import pyplot as plt\n",
    "from matplotlib import font_manager as fm\n",
    "from matplotlib import rc\n",
    "\n",
    "\n",
    "matplotlib.rcParams['figure.dpi'] = 150\n",
    "f_path = \"/System/Library/Fonts/Helvetica.ttc\"\n",
    "font_name = fm.FontProperties(fname=f_path).get_name()\n",
    "rc('font', family=font_name, size=13)"
   ]
  },
  {
   "cell_type": "markdown",
   "id": "3ab0cda0",
   "metadata": {},
   "source": [
    "# Generation of Belief triplets"
   ]
  },
  {
   "cell_type": "markdown",
   "id": "450cf039",
   "metadata": {},
   "source": [
    "### Load dataset"
   ]
  },
  {
   "cell_type": "code",
   "execution_count": 45,
   "id": "fc4d53ae",
   "metadata": {},
   "outputs": [],
   "source": [
    "df = pd.read_pickle('../dataset/01_Final_dataframe/df_ddo_including_only_truebeliefs_nodup(N192307).p')"
   ]
  },
  {
   "cell_type": "code",
   "execution_count": 46,
   "id": "4e3b9470",
   "metadata": {},
   "outputs": [
    {
     "data": {
      "text/html": [
       "<div>\n",
       "<style scoped>\n",
       "    .dataframe tbody tr th:only-of-type {\n",
       "        vertical-align: middle;\n",
       "    }\n",
       "\n",
       "    .dataframe tbody tr th {\n",
       "        vertical-align: top;\n",
       "    }\n",
       "\n",
       "    .dataframe thead th {\n",
       "        text-align: right;\n",
       "    }\n",
       "</style>\n",
       "<table border=\"1\" class=\"dataframe\">\n",
       "  <thead>\n",
       "    <tr style=\"text-align: right;\">\n",
       "      <th></th>\n",
       "      <th>debate_key</th>\n",
       "      <th>debate_title</th>\n",
       "      <th>username</th>\n",
       "      <th>debate_date</th>\n",
       "      <th>position</th>\n",
       "      <th>is_belief</th>\n",
       "      <th>belief_statement</th>\n",
       "    </tr>\n",
       "  </thead>\n",
       "  <tbody>\n",
       "    <tr>\n",
       "      <th>1</th>\n",
       "      <td>.-Audis-are-junkers-except-to-rich-kids-with-l...</td>\n",
       "      <td>. Audis are junkers, except to rich kids with ...</td>\n",
       "      <td>Max.Wallace</td>\n",
       "      <td>2014-09-04</td>\n",
       "      <td>Pro</td>\n",
       "      <td>1.0</td>\n",
       "      <td>I agree with the following: . Audis are junker...</td>\n",
       "    </tr>\n",
       "    <tr>\n",
       "      <th>2</th>\n",
       "      <td>....-Former-Secretary-of-State-Madeleine-Albri...</td>\n",
       "      <td>....\"Former Secretary of State Madeleine Albri...</td>\n",
       "      <td>Lookingatissues</td>\n",
       "      <td>2017-01-30</td>\n",
       "      <td>Pro</td>\n",
       "      <td>1.0</td>\n",
       "      <td>I agree with the following: ....\"Former Secret...</td>\n",
       "    </tr>\n",
       "    <tr>\n",
       "      <th>3</th>\n",
       "      <td>...Words-can-t-hurt-me-any./1/</td>\n",
       "      <td>...Words can't hurt me any.</td>\n",
       "      <td>NonInDelicto</td>\n",
       "      <td>2007-12-19</td>\n",
       "      <td>Pro</td>\n",
       "      <td>1.0</td>\n",
       "      <td>I agree with the following: ...Words can't hur...</td>\n",
       "    </tr>\n",
       "    <tr>\n",
       "      <th>4</th>\n",
       "      <td>.9-repeated-is-equal-to-1./1/</td>\n",
       "      <td>.9 repeated is equal to 1.</td>\n",
       "      <td>cowpie1998</td>\n",
       "      <td>2011-04-07</td>\n",
       "      <td>Pro</td>\n",
       "      <td>1.0</td>\n",
       "      <td>I agree with the following: .9 repeated is equ...</td>\n",
       "    </tr>\n",
       "    <tr>\n",
       "      <th>5</th>\n",
       "      <td>.99-is-equal-to-one./1/</td>\n",
       "      <td>.99 is equal to one.</td>\n",
       "      <td>SweetCrackerJack</td>\n",
       "      <td>2013-12-24</td>\n",
       "      <td>Pro</td>\n",
       "      <td>1.0</td>\n",
       "      <td>I agree with the following: .99 is equal to one.</td>\n",
       "    </tr>\n",
       "  </tbody>\n",
       "</table>\n",
       "</div>"
      ],
      "text/plain": [
       "                                          debate_key  \\\n",
       "1  .-Audis-are-junkers-except-to-rich-kids-with-l...   \n",
       "2  ....-Former-Secretary-of-State-Madeleine-Albri...   \n",
       "3                     ...Words-can-t-hurt-me-any./1/   \n",
       "4                      .9-repeated-is-equal-to-1./1/   \n",
       "5                            .99-is-equal-to-one./1/   \n",
       "\n",
       "                                        debate_title          username  \\\n",
       "1  . Audis are junkers, except to rich kids with ...       Max.Wallace   \n",
       "2  ....\"Former Secretary of State Madeleine Albri...   Lookingatissues   \n",
       "3                        ...Words can't hurt me any.      NonInDelicto   \n",
       "4                         .9 repeated is equal to 1.        cowpie1998   \n",
       "5                               .99 is equal to one.  SweetCrackerJack   \n",
       "\n",
       "  debate_date position  is_belief  \\\n",
       "1  2014-09-04      Pro        1.0   \n",
       "2  2017-01-30      Pro        1.0   \n",
       "3  2007-12-19      Pro        1.0   \n",
       "4  2011-04-07      Pro        1.0   \n",
       "5  2013-12-24      Pro        1.0   \n",
       "\n",
       "                                    belief_statement  \n",
       "1  I agree with the following: . Audis are junker...  \n",
       "2  I agree with the following: ....\"Former Secret...  \n",
       "3  I agree with the following: ...Words can't hur...  \n",
       "4  I agree with the following: .9 repeated is equ...  \n",
       "5   I agree with the following: .99 is equal to one.  "
      ]
     },
     "execution_count": 46,
     "metadata": {},
     "output_type": "execute_result"
    }
   ],
   "source": [
    "df.head()"
   ]
  },
  {
   "cell_type": "markdown",
   "id": "28cd050d",
   "metadata": {},
   "source": [
    "### Basic statistics"
   ]
  },
  {
   "cell_type": "code",
   "execution_count": 4,
   "id": "a84aca31",
   "metadata": {},
   "outputs": [
    {
     "name": "stdout",
     "output_type": "stream",
     "text": [
      "data size: 192307\n",
      "num debates: 65861\n",
      "num debate title: 59986\n",
      "num users: 40280\n",
      "average participation: 4.7742552135054614\n",
      "Unique beliefs 119972\n"
     ]
    }
   ],
   "source": [
    "print('data size:', len(df))\n",
    "print('num debates:', len(df['debate_key'].unique()))\n",
    "print('num debate title:', len(df['debate_title'].unique()))\n",
    "print('num users:', len(df['username'].unique()))\n",
    "print('average participation:', len(df)/len(df['username'].unique())  )\n",
    "print('Unique beliefs', len(df['belief_statement'].unique()))"
   ]
  },
  {
   "cell_type": "markdown",
   "id": "926cba98",
   "metadata": {},
   "source": [
    "### 5-fold dataset \n",
    "\n",
    " * From the original dataframe we generate 5-fold dataset based on debate titles"
   ]
  },
  {
   "cell_type": "code",
   "execution_count": 17,
   "id": "0e1516fe",
   "metadata": {},
   "outputs": [],
   "source": [
    "from sklearn.model_selection import train_test_split\n",
    "from sklearn.model_selection import KFold"
   ]
  },
  {
   "cell_type": "code",
   "execution_count": 18,
   "id": "af523257",
   "metadata": {},
   "outputs": [
    {
     "name": "stdout",
     "output_type": "stream",
     "text": [
      "There are 59986 unique debates in debate.org dataset\n"
     ]
    }
   ],
   "source": [
    "debate_titles = df.debate_title.unique()\n",
    "print(f\"There are {len(debate_titles)} unique debates in debate.org dataset\")"
   ]
  },
  {
   "cell_type": "code",
   "execution_count": 19,
   "id": "eaa1c139",
   "metadata": {},
   "outputs": [
    {
     "data": {
      "text/plain": [
       "5"
      ]
     },
     "execution_count": 19,
     "metadata": {},
     "output_type": "execute_result"
    }
   ],
   "source": [
    "kf = KFold(n_splits=5)\n",
    "kf.get_n_splits(debate_titles)"
   ]
  },
  {
   "cell_type": "code",
   "execution_count": 20,
   "id": "a6fb4538",
   "metadata": {},
   "outputs": [
    {
     "name": "stdout",
     "output_type": "stream",
     "text": [
      "Fold 0:\n",
      "  Train: index=[11998 11999 12000 ... 59983 59984 59985]\n",
      "  Test:  index=[    0     1     2 ... 11995 11996 11997]\n",
      "47988 11998\n",
      "Fold 1:\n",
      "  Train: index=[    0     1     2 ... 59983 59984 59985]\n",
      "  Test:  index=[11998 11999 12000 ... 23992 23993 23994]\n",
      "47989 11997\n",
      "Fold 2:\n",
      "  Train: index=[    0     1     2 ... 59983 59984 59985]\n",
      "  Test:  index=[23995 23996 23997 ... 35989 35990 35991]\n",
      "47989 11997\n",
      "Fold 3:\n",
      "  Train: index=[    0     1     2 ... 59983 59984 59985]\n",
      "  Test:  index=[35992 35993 35994 ... 47986 47987 47988]\n",
      "47989 11997\n",
      "Fold 4:\n",
      "  Train: index=[    0     1     2 ... 47986 47987 47988]\n",
      "  Test:  index=[47989 47990 47991 ... 59983 59984 59985]\n",
      "47989 11997\n"
     ]
    }
   ],
   "source": [
    "train_indices = []\n",
    "test_indices  = []\n",
    "\n",
    "for i, (train_index, test_index) in enumerate(kf.split(debate_titles)):\n",
    "    print(f\"Fold {i}:\")\n",
    "    print(f\"  Train: index={train_index}\")  \n",
    "    print(f\"  Test:  index={test_index}\")    \n",
    "    print(len(train_index), len(test_index))\n",
    "\n",
    "    train_indices.append(train_index)\n",
    "    test_indices.append(test_index)"
   ]
  },
  {
   "cell_type": "code",
   "execution_count": 21,
   "id": "2f780d40",
   "metadata": {},
   "outputs": [
    {
     "name": "stdout",
     "output_type": "stream",
     "text": [
      "Train size: 153698 Test size: 38609\n",
      "Train size: 151618 Test size: 40689\n",
      "Train size: 151524 Test size: 40783\n",
      "Train size: 157602 Test size: 34705\n",
      "Train size: 154786 Test size: 37521\n"
     ]
    }
   ],
   "source": [
    "for i in range(5):\n",
    "    \n",
    "    train_titles = debate_titles[train_indices[i]]\n",
    "    test_titles = debate_titles[test_indices[i]]\n",
    "    df_train = df[df['debate_title'].isin(train_titles)]\n",
    "    df_test  = df[df['debate_title'].isin(test_titles)]\n",
    "        \n",
    "    df_train.to_pickle('../dataset/04_K-fold_dataset/df_train_idx%d.p'%(i))\n",
    "    df_test.to_pickle('../dataset/04_K-fold_dataset/df_test_idx%d.p'%(i))\n",
    "    \n",
    "    print(\"Train size:\",len(df_train), \"Test size:\",len(df_test))"
   ]
  },
  {
   "cell_type": "markdown",
   "id": "ebaa04d1",
   "metadata": {},
   "source": [
    "## Generation of the Triplet dataset"
   ]
  },
  {
   "cell_type": "code",
   "execution_count": 23,
   "id": "15b3b19b",
   "metadata": {},
   "outputs": [],
   "source": [
    "from collections import defaultdict \n",
    "from itertools import combinations"
   ]
  },
  {
   "cell_type": "code",
   "execution_count": 26,
   "id": "c48dfa02",
   "metadata": {},
   "outputs": [],
   "source": [
    "pro_phrase = 'I agree with the following: '\n",
    "con_phrase = 'I disagree with the following: '\n",
    "\n",
    "def get_reverse_phrase(phrase):\n",
    "    if phrase == pro_phrase:\n",
    "        return con_phrase\n",
    "    elif phrase == con_phrase:\n",
    "        return pro_phrase\n",
    "    else: \n",
    "        print('error')\n",
    "        \n",
    "def get_opposite_belief(belief_statement):\n",
    "    position = \" \".join(belief_statement.split()[:5]) + ' '\n",
    "    title = \" \".join(belief_statement.split()[5:]) \n",
    "    \n",
    "    position_r = get_reverse_phrase(position)\n",
    "    opposite_belief = position_r + title\n",
    "    return opposite_belief        "
   ]
  },
  {
   "cell_type": "code",
   "execution_count": 32,
   "id": "73daeebf",
   "metadata": {},
   "outputs": [
    {
     "data": {
      "text/plain": [
       "'I disagree with the following: apples are delicious.'"
      ]
     },
     "execution_count": 32,
     "metadata": {},
     "output_type": "execute_result"
    }
   ],
   "source": [
    "#example \n",
    "get_opposite_belief('I agree with the following: apples are delicious.')"
   ]
  },
  {
   "cell_type": "code",
   "execution_count": 33,
   "id": "198ddf3f",
   "metadata": {},
   "outputs": [],
   "source": [
    "#get a belief co-occurrence dictionary\n",
    "def get_belief_cooccurrence_dic(df):\n",
    "    \n",
    "    df_g = df.groupby('username')\n",
    "    corpus = []\n",
    "\n",
    "    for g, data in df_g:\n",
    "\n",
    "        data = data.sort_values(by='debate_date')\n",
    "        user_beliefs = list(data['belief_statement'].unique())\n",
    "        corpus.append(user_beliefs)\n",
    "        \n",
    "    \n",
    "    belief2list = defaultdict(list)\n",
    "    \n",
    "    for b_list in corpus:\n",
    "        if len(b_list) == 1: \n",
    "            continue\n",
    "\n",
    "        for e1 in b_list:\n",
    "            for e2 in b_list:\n",
    "                if e1 != e2:\n",
    "                    belief2list[e1].append(e2)\n",
    "                    \n",
    "    return belief2list"
   ]
  },
  {
   "cell_type": "code",
   "execution_count": 34,
   "id": "1ba11409",
   "metadata": {},
   "outputs": [],
   "source": [
    "dic_co = get_belief_cooccurrence_dic(df)"
   ]
  },
  {
   "cell_type": "code",
   "execution_count": 35,
   "id": "0ab76190",
   "metadata": {},
   "outputs": [
    {
     "data": {
      "text/plain": [
       "102881"
      ]
     },
     "execution_count": 35,
     "metadata": {},
     "output_type": "execute_result"
    }
   ],
   "source": [
    "len(dic_co)"
   ]
  },
  {
   "cell_type": "code",
   "execution_count": 36,
   "id": "622a0ca9",
   "metadata": {},
   "outputs": [],
   "source": [
    "#Get triplets using the belief co-occurrence dictionary\n",
    "def get_stance_triplet(belief2list):\n",
    "    \n",
    "    belief_triplet = []\n",
    "\n",
    "    for s in tqdm(belief2list):\n",
    "\n",
    "        anchor = s\n",
    "        positive_samples = belief2list[s] \n",
    "        opposite_belief = get_opposite_belief(s)\n",
    "\n",
    "        if not opposite_belief in belief2list: #use only direct opposite stance as a negative sample\n",
    "            negative_samples = [opposite_belief]\n",
    "        else:\n",
    "            negative_samples = [opposite_belief] + belief2list[opposite_belief]\n",
    "\n",
    "        #if vote history is too long: Sample 5 stances from history \n",
    "        thres = 5\n",
    "        if len(positive_samples) > thres-1:\n",
    "            positive_samples = np.random.choice(positive_samples, size=thres, replace=False)\n",
    "\n",
    "        if len(negative_samples) > thres-1:\n",
    "            #to ensure including directly opposite stance\n",
    "            other_samples = np.random.choice(negative_samples[1:], size=thres-1, replace=False)        \n",
    "            negative_samples = np.concatenate((negative_samples[:1], other_samples)) \n",
    "\n",
    "        #make triplet examples \n",
    "        for pos in positive_samples:\n",
    "            for neg in negative_samples:\n",
    "                example = [anchor, pos, neg]\n",
    "                belief_triplet.append(example)\n",
    "    \n",
    "    return belief_triplet"
   ]
  },
  {
   "cell_type": "code",
   "execution_count": 37,
   "id": "e7dfd079",
   "metadata": {
    "scrolled": true
   },
   "outputs": [
    {
     "name": "stderr",
     "output_type": "stream",
     "text": [
      "  0%|                                                     | 0/5 [00:00<?, ?it/s]\n",
      "  0%|                                                 | 0/80441 [00:00<?, ?it/s]\u001b[A\n",
      "  0%|▏                                    | 374/80441 [00:00<00:21, 3736.64it/s]\u001b[A\n",
      "  1%|▎                                    | 748/80441 [00:00<00:22, 3611.45it/s]\u001b[A\n",
      "  1%|▍                                   | 1110/80441 [00:00<00:22, 3543.83it/s]\u001b[A\n",
      "  2%|▋                                   | 1633/80441 [00:00<00:18, 4192.04it/s]\u001b[A\n",
      "  3%|█▏                                  | 2593/80441 [00:00<00:12, 6055.18it/s]\u001b[A\n",
      "  5%|█▋                                  | 3710/80441 [00:00<00:09, 7761.23it/s]\u001b[A\n",
      "  6%|██▏                                 | 4807/80441 [00:00<00:08, 8796.11it/s]\u001b[A\n",
      "  7%|██▌                                 | 5690/80441 [00:01<00:13, 5503.04it/s]\u001b[A\n",
      "  8%|███                                 | 6716/80441 [00:01<00:11, 6548.37it/s]\u001b[A\n",
      " 10%|███▌                                | 7902/80441 [00:01<00:09, 7812.14it/s]\u001b[A\n",
      " 11%|███▉                                | 8855/80441 [00:01<00:08, 8248.64it/s]\u001b[A\n",
      " 13%|████▍                              | 10107/80441 [00:01<00:07, 9379.54it/s]\u001b[A\n",
      " 14%|████▊                             | 11337/80441 [00:01<00:06, 10184.18it/s]\u001b[A\n",
      " 15%|█████▎                            | 12425/80441 [00:01<00:06, 10059.18it/s]\u001b[A\n",
      " 17%|█████▊                             | 13480/80441 [00:01<00:06, 9919.89it/s]\u001b[A\n",
      " 18%|██████▎                            | 14506/80441 [00:02<00:10, 6337.20it/s]\u001b[A\n",
      " 19%|██████▋                            | 15324/80441 [00:02<00:10, 6436.32it/s]\u001b[A\n",
      " 21%|███████▎                           | 16681/80441 [00:02<00:07, 7985.01it/s]\u001b[A\n",
      " 22%|███████▋                           | 17728/80441 [00:02<00:07, 8571.10it/s]\u001b[A\n",
      " 23%|████████▏                          | 18862/80441 [00:02<00:06, 9268.90it/s]\u001b[A\n",
      " 25%|████████▌                         | 20168/80441 [00:02<00:05, 10271.14it/s]\u001b[A\n",
      " 27%|█████████                         | 21494/80441 [00:02<00:05, 11089.16it/s]\u001b[A\n",
      " 28%|█████████▌                        | 22668/80441 [00:02<00:05, 11101.78it/s]\u001b[A\n",
      " 30%|██████████▏                       | 24028/80441 [00:02<00:04, 11807.17it/s]\u001b[A\n",
      " 32%|██████████▊                       | 25714/80441 [00:02<00:04, 13263.05it/s]\u001b[A\n",
      " 34%|███████████▊                       | 27072/80441 [00:03<00:06, 7849.04it/s]\u001b[A\n",
      " 35%|████████████▍                      | 28508/80441 [00:03<00:05, 9129.99it/s]\u001b[A\n",
      " 37%|████████████▌                     | 29854/80441 [00:03<00:05, 10078.90it/s]\u001b[A\n",
      " 39%|█████████████▏                    | 31084/80441 [00:03<00:04, 10434.85it/s]\u001b[A\n",
      " 40%|█████████████▋                    | 32290/80441 [00:03<00:04, 10806.37it/s]\u001b[A\n",
      " 42%|██████████████▏                   | 33666/80441 [00:03<00:04, 11582.46it/s]\u001b[A\n",
      " 43%|██████████████▊                   | 34931/80441 [00:03<00:03, 11873.91it/s]\u001b[A\n",
      " 45%|███████████████▎                  | 36209/80441 [00:04<00:03, 12127.24it/s]\u001b[A\n",
      " 47%|███████████████▉                  | 37670/80441 [00:04<00:03, 12831.65it/s]\u001b[A\n",
      " 49%|████████████████▌                 | 39313/80441 [00:04<00:02, 13872.68it/s]\u001b[A\n",
      " 51%|█████████████████▋                 | 40731/80441 [00:04<00:05, 7854.43it/s]\u001b[A\n",
      " 53%|██████████████████▍                | 42404/80441 [00:04<00:03, 9544.69it/s]\u001b[A\n",
      " 55%|██████████████████▌               | 43965/80441 [00:04<00:03, 10842.36it/s]\u001b[A\n",
      " 56%|███████████████████▏              | 45328/80441 [00:04<00:03, 10507.49it/s]\u001b[A\n",
      " 59%|███████████████████▉              | 47197/80441 [00:05<00:02, 12417.37it/s]\u001b[A\n",
      " 61%|████████████████████▋             | 49015/80441 [00:05<00:02, 13860.57it/s]\u001b[A\n",
      " 63%|█████████████████████▍            | 50635/80441 [00:05<00:02, 14477.00it/s]\u001b[A\n",
      " 65%|██████████████████████▏           | 52461/80441 [00:05<00:01, 15497.50it/s]\u001b[A\n",
      " 68%|██████████████████████▉           | 54389/80441 [00:05<00:01, 16548.15it/s]\u001b[A\n",
      " 70%|███████████████████████▋          | 56118/80441 [00:05<00:01, 16436.61it/s]\u001b[A\n",
      " 72%|████████████████████████▌         | 58154/80441 [00:05<00:01, 17555.82it/s]\u001b[A\n",
      " 75%|█████████████████████████▎        | 59951/80441 [00:05<00:01, 17321.92it/s]\u001b[A\n",
      " 77%|██████████████████████████▊        | 61713/80441 [00:06<00:02, 9302.24it/s]\u001b[A\n",
      " 79%|██████████████████████████▉       | 63616/80441 [00:06<00:01, 11059.07it/s]\u001b[A\n",
      " 82%|███████████████████████████▋      | 65628/80441 [00:06<00:01, 12915.96it/s]\u001b[A\n",
      " 84%|████████████████████████████▍     | 67300/80441 [00:06<00:00, 13498.90it/s]\u001b[A\n",
      " 86%|█████████████████████████████▎    | 69285/80441 [00:06<00:00, 15019.55it/s]\u001b[A\n",
      " 88%|██████████████████████████████    | 71020/80441 [00:06<00:00, 12422.02it/s]\u001b[A\n",
      " 91%|███████████████████████████████   | 73445/80441 [00:06<00:00, 15085.10it/s]\u001b[A\n",
      " 94%|████████████████████████████████  | 75758/80441 [00:06<00:00, 17030.82it/s]\u001b[A\n",
      " 97%|█████████████████████████████████ | 78179/80441 [00:07<00:00, 18880.41it/s]\u001b[A\n",
      "100%|██████████████████████████████████| 80441/80441 [00:07<00:00, 11201.14it/s]\u001b[A\n",
      "\n",
      "  0%|                                                 | 0/16939 [00:00<?, ?it/s]\u001b[A\n",
      " 13%|████▋                              | 2275/16939 [00:00<00:00, 22748.56it/s]\u001b[A\n",
      " 29%|██████████▏                        | 4943/16939 [00:00<00:00, 25055.82it/s]\u001b[A\n",
      " 44%|███████████████▍                   | 7449/16939 [00:00<00:00, 10226.86it/s]\u001b[A\n",
      " 64%|█████████████████████▊            | 10840/16939 [00:00<00:00, 15205.27it/s]\u001b[A\n",
      "100%|██████████████████████████████████| 16939/16939 [00:00<00:00, 19325.74it/s]\u001b[A\n",
      " 20%|█████████                                    | 1/5 [00:22<01:31, 22.76s/it]\n",
      "  0%|                                                 | 0/80404 [00:00<?, ?it/s]\u001b[A\n",
      "  1%|▏                                    | 436/80404 [00:00<00:18, 4356.82it/s]\u001b[A\n",
      "  1%|▍                                    | 872/80404 [00:00<00:20, 3884.16it/s]\u001b[A\n",
      "  2%|▋                                   | 1409/80404 [00:00<00:17, 4518.21it/s]\u001b[A\n",
      "  3%|█                                   | 2329/80404 [00:00<00:12, 6292.89it/s]\u001b[A\n",
      "  4%|█▌                                  | 3391/80404 [00:00<00:09, 7808.60it/s]\u001b[A\n",
      "  6%|██                                  | 4532/80404 [00:00<00:08, 9011.32it/s]\u001b[A\n",
      "  7%|██▌                                 | 5618/80404 [00:00<00:07, 9602.71it/s]\u001b[A\n",
      "  8%|██▉                                | 6711/80404 [00:00<00:07, 10007.50it/s]\u001b[A\n",
      " 10%|███▍                               | 7861/80404 [00:00<00:06, 10463.13it/s]\u001b[A\n",
      " 11%|███▉                               | 8911/80404 [00:01<00:06, 10299.20it/s]\u001b[A\n",
      " 13%|████▎                             | 10215/80404 [00:01<00:06, 11124.36it/s]\u001b[A\n",
      " 14%|████▉                              | 11331/80404 [00:01<00:13, 4992.75it/s]\u001b[A\n",
      " 15%|█████▍                             | 12429/80404 [00:01<00:11, 5960.02it/s]\u001b[A\n",
      " 17%|█████▉                             | 13500/80404 [00:01<00:09, 6850.81it/s]\u001b[A\n",
      " 18%|██████▍                            | 14713/80404 [00:01<00:08, 7966.19it/s]\u001b[A\n",
      " 20%|██████▊                            | 15754/80404 [00:02<00:08, 8066.75it/s]\u001b[A\n",
      " 21%|███████▍                           | 16969/80404 [00:02<00:07, 9034.59it/s]\u001b[A\n",
      " 22%|███████▊                           | 18067/80404 [00:02<00:06, 9528.19it/s]\u001b[A\n",
      " 24%|████████▏                         | 19390/80404 [00:02<00:05, 10506.80it/s]\u001b[A\n",
      " 26%|████████▋                         | 20633/80404 [00:02<00:05, 11036.21it/s]\u001b[A\n",
      " 27%|█████████▏                        | 21805/80404 [00:02<00:05, 11108.18it/s]\u001b[A\n",
      " 29%|█████████▋                        | 22964/80404 [00:02<00:05, 11030.91it/s]\u001b[A\n",
      " 30%|██████████▎                       | 24403/80404 [00:02<00:04, 11983.76it/s]\u001b[A\n",
      " 32%|██████████▉                       | 25814/80404 [00:02<00:04, 12588.44it/s]\u001b[A\n",
      " 34%|███████████▌                      | 27254/80404 [00:02<00:04, 13117.82it/s]\u001b[A\n",
      " 36%|████████████                      | 28669/80404 [00:03<00:03, 13413.37it/s]\u001b[A\n",
      " 37%|████████████▋                     | 30023/80404 [00:03<00:03, 13433.36it/s]\u001b[A\n",
      " 39%|█████████████▎                    | 31375/80404 [00:03<00:03, 12701.01it/s]\u001b[A\n",
      " 41%|█████████████▊                    | 32659/80404 [00:03<00:03, 12350.90it/s]\u001b[A\n",
      " 42%|██████████████▍                   | 34082/80404 [00:03<00:03, 12882.11it/s]\u001b[A\n",
      " 44%|███████████████                   | 35552/80404 [00:03<00:03, 13403.33it/s]\u001b[A\n",
      " 46%|███████████████▌                  | 36902/80404 [00:03<00:03, 13161.78it/s]\u001b[A\n",
      " 48%|████████████████▎                 | 38632/80404 [00:03<00:02, 14358.70it/s]\u001b[A\n",
      " 50%|████████████████▉                 | 40077/80404 [00:03<00:02, 14237.76it/s]\u001b[A\n",
      " 52%|█████████████████▋                | 41932/80404 [00:04<00:02, 15500.18it/s]\u001b[A\n",
      " 54%|██████████████████▍               | 43490/80404 [00:04<00:02, 14579.37it/s]\u001b[A\n",
      " 56%|███████████████████▌               | 44964/80404 [00:04<00:05, 6269.70it/s]\u001b[A\n",
      " 58%|████████████████████▎              | 46768/80404 [00:04<00:04, 8010.64it/s]\u001b[A\n",
      " 60%|█████████████████████▏             | 48640/80404 [00:04<00:03, 9873.06it/s]\u001b[A\n",
      " 62%|█████████████████████▏            | 50122/80404 [00:05<00:02, 10813.34it/s]\u001b[A\n",
      " 65%|█████████████████████▉            | 51981/80404 [00:05<00:02, 12525.72it/s]\u001b[A\n",
      " 67%|██████████████████████▊           | 53850/80404 [00:05<00:01, 14004.14it/s]\u001b[A\n",
      " 69%|███████████████████████▍          | 55522/80404 [00:05<00:01, 13990.51it/s]\u001b[A\n",
      " 72%|████████████████████████▎         | 57569/80404 [00:05<00:01, 15658.38it/s]\u001b[A\n",
      " 74%|█████████████████████████         | 59296/80404 [00:05<00:01, 15759.09it/s]\u001b[A\n",
      " 76%|█████████████████████████▊        | 60985/80404 [00:05<00:01, 16032.64it/s]\u001b[A\n",
      " 78%|██████████████████████████▌       | 62670/80404 [00:05<00:01, 15681.51it/s]\u001b[A\n",
      " 80%|███████████████████████████▏      | 64390/80404 [00:05<00:00, 16101.01it/s]\u001b[A\n",
      " 82%|████████████████████████████      | 66225/80404 [00:05<00:00, 16738.83it/s]\u001b[A\n",
      " 84%|████████████████████████████▋     | 67933/80404 [00:06<00:00, 16602.46it/s]\u001b[A\n",
      " 87%|█████████████████████████████▍    | 69617/80404 [00:06<00:00, 12424.19it/s]\u001b[A\n",
      " 89%|██████████████████████████████▍   | 71846/80404 [00:06<00:00, 14746.51it/s]\u001b[A\n",
      " 92%|███████████████████████████████▍  | 74368/80404 [00:06<00:00, 17380.85it/s]\u001b[A\n",
      " 95%|████████████████████████████████▎ | 76533/80404 [00:06<00:00, 18509.51it/s]\u001b[A\n",
      "100%|██████████████████████████████████| 80404/80404 [00:06<00:00, 11889.15it/s]\u001b[A\n",
      "\n",
      "  0%|                                                 | 0/16925 [00:00<?, ?it/s]\u001b[A\n",
      " 13%|████▍                              | 2133/16925 [00:00<00:00, 21314.83it/s]\u001b[A\n",
      " 30%|██████████▍                        | 5061/16925 [00:00<00:00, 25997.04it/s]\u001b[A\n",
      " 49%|█████████████████                  | 8274/16925 [00:00<00:00, 28796.41it/s]\u001b[A\n",
      " 66%|██████████████████████▍           | 11154/16925 [00:00<00:00, 11602.35it/s]\u001b[A\n",
      "100%|██████████████████████████████████| 16925/16925 [00:00<00:00, 18493.99it/s]\u001b[A\n",
      " 40%|██████████████████                           | 2/5 [00:44<01:05, 21.89s/it]\n",
      "  0%|                                                 | 0/80113 [00:00<?, ?it/s]\u001b[A\n",
      "  0%|▏                                    | 395/80113 [00:00<00:20, 3947.44it/s]\u001b[A\n",
      "  1%|▎                                    | 790/80113 [00:00<00:20, 3812.58it/s]\u001b[A\n",
      "  2%|▌                                   | 1353/80113 [00:00<00:17, 4623.63it/s]\u001b[A\n",
      "  3%|█                                   | 2281/80113 [00:00<00:12, 6438.08it/s]\u001b[A\n",
      "  4%|█▌                                  | 3439/80113 [00:00<00:09, 8272.96it/s]\u001b[A\n",
      "  6%|██                                  | 4464/80113 [00:00<00:08, 8940.72it/s]\u001b[A\n",
      "  7%|██▌                                 | 5617/80113 [00:00<00:07, 9781.94it/s]\u001b[A\n",
      "  8%|██▉                                | 6790/80113 [00:00<00:07, 10394.13it/s]\u001b[A\n",
      " 10%|███▌                               | 8059/80113 [00:00<00:06, 11108.92it/s]\u001b[A\n",
      " 11%|████                               | 9176/80113 [00:01<00:06, 11127.49it/s]\u001b[A\n",
      " 13%|████▍                             | 10468/80113 [00:01<00:05, 11673.46it/s]\u001b[A\n",
      " 15%|████▉                             | 11761/80113 [00:01<00:05, 12047.66it/s]\u001b[A\n",
      " 16%|█████▌                            | 12967/80113 [00:01<00:05, 11751.17it/s]\u001b[A\n",
      " 18%|██████                            | 14199/80113 [00:01<00:05, 11918.40it/s]\u001b[A\n",
      " 19%|██████▌                           | 15393/80113 [00:01<00:05, 11325.05it/s]\u001b[A\n",
      " 21%|███████                           | 16766/80113 [00:01<00:05, 12014.84it/s]\u001b[A\n",
      " 22%|███████▋                          | 17976/80113 [00:01<00:05, 11848.59it/s]\u001b[A\n",
      " 24%|████████▎                          | 19167/80113 [00:02<00:11, 5509.57it/s]\u001b[A\n",
      " 26%|████████▉                          | 20518/80113 [00:02<00:08, 6801.25it/s]\u001b[A\n",
      " 27%|█████████▍                         | 21735/80113 [00:02<00:07, 7804.81it/s]\u001b[A\n",
      " 29%|██████████                         | 22977/80113 [00:02<00:06, 8778.18it/s]\u001b[A\n",
      " 31%|██████████▍                       | 24544/80113 [00:02<00:05, 10370.76it/s]\u001b[A\n",
      " 32%|███████████                       | 26017/80113 [00:02<00:04, 11454.47it/s]\u001b[A\n",
      " 34%|███████████▋                      | 27497/80113 [00:02<00:04, 12330.48it/s]\u001b[A\n",
      " 36%|████████████▎                     | 28885/80113 [00:02<00:04, 12751.48it/s]\u001b[A\n",
      " 38%|████████████▊                     | 30263/80113 [00:03<00:03, 12721.89it/s]\u001b[A\n",
      " 39%|█████████████▍                    | 31607/80113 [00:03<00:03, 12854.67it/s]\u001b[A\n",
      " 41%|█████████████▉                    | 32958/80113 [00:03<00:03, 13035.92it/s]\u001b[A\n",
      " 43%|██████████████▌                   | 34404/80113 [00:03<00:03, 13446.01it/s]\u001b[A\n",
      " 45%|███████████████▏                  | 35856/80113 [00:03<00:03, 13758.07it/s]\u001b[A\n",
      " 47%|███████████████▉                  | 37437/80113 [00:03<00:02, 14359.47it/s]\u001b[A\n",
      " 49%|████████████████▌                 | 39100/80113 [00:03<00:02, 15027.79it/s]\u001b[A\n",
      " 51%|█████████████████▍                | 41016/80113 [00:03<00:02, 16238.30it/s]\u001b[A\n",
      " 53%|██████████████████                | 42649/80113 [00:03<00:02, 16174.12it/s]\u001b[A\n",
      " 55%|██████████████████▊               | 44273/80113 [00:04<00:02, 14092.71it/s]\u001b[A\n",
      " 58%|███████████████████▋              | 46419/80113 [00:04<00:02, 16080.22it/s]\u001b[A\n",
      " 60%|████████████████████▌             | 48400/80113 [00:04<00:01, 17117.30it/s]\u001b[A\n",
      " 63%|█████████████████████▎            | 50161/80113 [00:04<00:01, 17014.54it/s]\u001b[A\n",
      " 65%|██████████████████████            | 52078/80113 [00:04<00:01, 17610.40it/s]\u001b[A\n",
      " 67%|██████████████████████▉           | 54060/80113 [00:04<00:01, 18249.33it/s]\u001b[A\n",
      " 70%|████████████████████████▍          | 55906/80113 [00:05<00:03, 7514.91it/s]\u001b[A\n",
      " 73%|█████████████████████████▍         | 58108/80113 [00:05<00:02, 9638.95it/s]\u001b[A\n",
      " 75%|█████████████████████████▍        | 59943/80113 [00:05<00:01, 11144.89it/s]\u001b[A\n",
      " 77%|██████████████████████████▏       | 61635/80113 [00:05<00:01, 12066.04it/s]\u001b[A\n",
      " 79%|██████████████████████████▉       | 63501/80113 [00:05<00:01, 13496.84it/s]\u001b[A\n",
      " 82%|███████████████████████████▊      | 65670/80113 [00:05<00:00, 15436.08it/s]\u001b[A\n",
      " 84%|████████████████████████████▋     | 67520/80113 [00:05<00:00, 16125.08it/s]\u001b[A\n",
      " 87%|█████████████████████████████▍    | 69358/80113 [00:05<00:00, 13469.20it/s]\u001b[A\n",
      " 90%|██████████████████████████████▌   | 71882/80113 [00:06<00:00, 16214.71it/s]\u001b[A\n",
      " 93%|███████████████████████████████▌  | 74510/80113 [00:06<00:00, 18728.98it/s]\u001b[A\n",
      " 96%|████████████████████████████████▋ | 76888/80113 [00:06<00:00, 20057.22it/s]\u001b[A\n",
      "100%|██████████████████████████████████| 80113/80113 [00:06<00:00, 12616.07it/s]\u001b[A\n",
      "\n",
      "  0%|                                                 | 0/17750 [00:00<?, ?it/s]\u001b[A\n",
      "  9%|███▏                               | 1639/17750 [00:00<00:00, 16379.39it/s]\u001b[A\n",
      " 22%|███████▊                           | 3941/17750 [00:00<00:00, 20281.33it/s]\u001b[A\n",
      " 37%|████████████▊                      | 6490/17750 [00:00<00:00, 22654.52it/s]\u001b[A\n",
      " 52%|██████████████████                 | 9152/17750 [00:00<00:00, 24217.63it/s]\u001b[A\n",
      " 68%|███████████████████████▎          | 12149/17750 [00:00<00:00, 26290.87it/s]\u001b[A\n",
      "100%|██████████████████████████████████| 17750/17750 [00:00<00:00, 25997.20it/s]\u001b[A\n",
      " 60%|███████████████████████████                  | 3/5 [01:04<00:42, 21.41s/it]\n",
      "  0%|                                                 | 0/81503 [00:00<?, ?it/s]\u001b[A\n",
      "  0%|▏                                    | 373/81503 [00:00<00:21, 3717.77it/s]\u001b[A\n",
      "  1%|▎                                    | 745/81503 [00:00<00:23, 3457.03it/s]\u001b[A\n",
      "  1%|▍                                   | 1092/81503 [00:00<00:24, 3261.75it/s]\u001b[A\n"
     ]
    },
    {
     "name": "stderr",
     "output_type": "stream",
     "text": [
      "  2%|▋                                   | 1664/81503 [00:00<00:19, 4173.07it/s]\u001b[A\n",
      "  3%|█                                   | 2490/81503 [00:00<00:14, 5587.30it/s]\u001b[A\n",
      "  4%|█▌                                  | 3491/81503 [00:00<00:11, 7049.00it/s]\u001b[A\n",
      "  5%|█▉                                  | 4412/81503 [00:00<00:09, 7738.34it/s]\u001b[A\n",
      "  7%|██▍                                 | 5450/81503 [00:00<00:08, 8566.00it/s]\u001b[A\n",
      "  8%|██▊                                 | 6491/81503 [00:00<00:08, 9130.83it/s]\u001b[A\n",
      "  9%|███▎                                | 7475/81503 [00:01<00:07, 9346.67it/s]\u001b[A\n",
      " 10%|███▊                                | 8554/81503 [00:01<00:07, 9776.38it/s]\u001b[A\n",
      " 12%|████▏                               | 9535/81503 [00:01<00:07, 9635.29it/s]\u001b[A\n",
      " 13%|████▍                             | 10759/81503 [00:01<00:06, 10411.16it/s]\u001b[A\n",
      " 15%|████▉                             | 11829/81503 [00:01<00:06, 10496.07it/s]\u001b[A\n",
      " 16%|█████▎                            | 12881/81503 [00:01<00:06, 10168.23it/s]\u001b[A\n",
      " 17%|█████▊                            | 13919/81503 [00:01<00:06, 10229.84it/s]\u001b[A\n",
      " 18%|██████▎                           | 15042/81503 [00:01<00:06, 10520.70it/s]\u001b[A\n",
      " 20%|██████▉                            | 16097/81503 [00:01<00:06, 9382.56it/s]\u001b[A\n",
      " 21%|███████▏                          | 17349/81503 [00:01<00:06, 10240.77it/s]\u001b[A\n",
      " 23%|███████▋                          | 18398/81503 [00:02<00:06, 10154.14it/s]\u001b[A\n",
      " 24%|████████▏                         | 19555/81503 [00:02<00:05, 10555.30it/s]\u001b[A\n",
      " 25%|████████▋                         | 20720/81503 [00:02<00:05, 10861.82it/s]\u001b[A\n",
      " 27%|█████████▏                        | 21993/81503 [00:02<00:05, 11404.00it/s]\u001b[A\n",
      " 28%|█████████▋                        | 23143/81503 [00:02<00:05, 11035.01it/s]\u001b[A\n",
      " 30%|██████████                        | 24256/81503 [00:02<00:05, 10968.70it/s]\u001b[A\n",
      " 31%|██████████▋                       | 25661/81503 [00:02<00:04, 11852.91it/s]\u001b[A\n",
      " 33%|███████████▏                      | 26966/81503 [00:02<00:04, 12201.70it/s]\u001b[A\n",
      " 35%|████████████                       | 28192/81503 [00:03<00:10, 5288.72it/s]\u001b[A\n",
      " 36%|████████████▋                      | 29549/81503 [00:03<00:07, 6565.14it/s]\u001b[A\n",
      " 38%|█████████████▏                     | 30705/81503 [00:03<00:06, 7466.08it/s]\u001b[A\n",
      " 39%|█████████████▋                     | 31832/81503 [00:03<00:06, 8245.60it/s]\u001b[A\n",
      " 40%|██████████████▏                    | 32930/81503 [00:03<00:05, 8841.57it/s]\u001b[A\n",
      " 42%|██████████████▌                    | 34034/81503 [00:03<00:05, 9373.17it/s]\u001b[A\n",
      " 43%|██████████████▋                   | 35261/81503 [00:03<00:04, 10119.40it/s]\u001b[A\n",
      " 45%|███████████████▎                  | 36667/81503 [00:04<00:04, 11176.44it/s]\u001b[A\n",
      " 47%|███████████████▊                  | 37945/81503 [00:04<00:03, 11618.13it/s]\u001b[A\n",
      " 49%|████████████████▌                 | 39598/81503 [00:04<00:03, 13010.96it/s]\u001b[A\n",
      " 50%|█████████████████                 | 40958/81503 [00:04<00:03, 13038.57it/s]\u001b[A\n",
      " 52%|█████████████████▊                | 42608/81503 [00:04<00:02, 14041.15it/s]\u001b[A\n",
      " 54%|██████████████████▎               | 44045/81503 [00:04<00:02, 13841.63it/s]\u001b[A\n",
      " 56%|██████████████████▉               | 45453/81503 [00:04<00:02, 12183.51it/s]\u001b[A\n",
      " 58%|███████████████████▌              | 46937/81503 [00:04<00:02, 12890.64it/s]\u001b[A\n",
      " 60%|████████████████████▍             | 48961/81503 [00:04<00:02, 14916.78it/s]\u001b[A\n",
      " 62%|█████████████████████             | 50502/81503 [00:05<00:02, 14553.04it/s]\u001b[A\n",
      " 64%|█████████████████████▊            | 52229/81503 [00:05<00:01, 15315.38it/s]\u001b[A\n",
      " 66%|██████████████████████▍           | 53901/81503 [00:05<00:01, 15716.88it/s]\u001b[A\n",
      " 68%|███████████████████████▏          | 55639/81503 [00:05<00:01, 16197.05it/s]\u001b[A\n",
      " 70%|███████████████████████▉          | 57277/81503 [00:05<00:01, 15752.61it/s]\u001b[A\n",
      " 73%|████████████████████████▋         | 59197/81503 [00:05<00:01, 16744.87it/s]\u001b[A\n",
      " 75%|█████████████████████████▍        | 60886/81503 [00:05<00:01, 15977.27it/s]\u001b[A\n",
      " 77%|██████████████████████████        | 62500/81503 [00:05<00:01, 15094.65it/s]\u001b[A\n",
      " 79%|██████████████████████████▊       | 64136/81503 [00:05<00:01, 15441.93it/s]\u001b[A\n",
      " 81%|███████████████████████████▌      | 65968/81503 [00:05<00:00, 16250.43it/s]\u001b[A\n",
      " 83%|█████████████████████████████      | 67609/81503 [00:06<00:02, 6322.65it/s]\u001b[A\n",
      " 85%|█████████████████████████████▊     | 69444/81503 [00:06<00:01, 7977.60it/s]\u001b[A\n",
      " 87%|██████████████████████████████▍    | 70852/81503 [00:06<00:01, 7693.07it/s]\u001b[A\n",
      " 89%|███████████████████████████████▎   | 72928/81503 [00:07<00:00, 9879.95it/s]\u001b[A\n",
      " 92%|███████████████████████████████▍  | 75275/81503 [00:07<00:00, 12495.44it/s]\u001b[A\n",
      " 95%|████████████████████████████████▎ | 77310/81503 [00:07<00:00, 14191.33it/s]\u001b[A\n",
      "100%|██████████████████████████████████| 81503/81503 [00:07<00:00, 10941.02it/s]\u001b[A\n",
      "\n",
      "  0%|                                                 | 0/15823 [00:00<?, ?it/s]\u001b[A\n",
      " 20%|███████▏                           | 3239/15823 [00:00<00:00, 32382.54it/s]\u001b[A\n",
      " 46%|████████████████                   | 7282/15823 [00:00<00:00, 37111.28it/s]\u001b[A\n",
      "100%|██████████████████████████████████| 15823/15823 [00:00<00:00, 41182.12it/s]\u001b[A\n",
      " 80%|████████████████████████████████████         | 4/5 [01:26<00:21, 21.62s/it]\n",
      "  0%|                                                 | 0/80312 [00:00<?, ?it/s]\u001b[A\n",
      "  0%|▏                                    | 360/80312 [00:00<00:22, 3599.43it/s]\u001b[A\n",
      "  1%|▎                                    | 720/80312 [00:00<00:23, 3389.25it/s]\u001b[A\n",
      "  1%|▍                                   | 1060/80312 [00:00<00:24, 3261.24it/s]\u001b[A\n",
      "  2%|▊                                   | 1683/80312 [00:00<00:17, 4381.06it/s]\u001b[A\n",
      "  3%|█▏                                  | 2596/80312 [00:00<00:12, 6005.45it/s]\u001b[A\n",
      "  5%|█▋                                  | 3728/80312 [00:00<00:09, 7768.61it/s]\u001b[A\n",
      "  6%|██▏                                 | 4785/80312 [00:00<00:08, 8669.47it/s]\u001b[A\n",
      "  7%|██▋                                 | 5906/80312 [00:00<00:07, 9467.65it/s]\u001b[A\n",
      "  9%|███                                 | 6924/80312 [00:00<00:07, 9684.39it/s]\u001b[A\n",
      " 10%|███▌                               | 8065/80312 [00:01<00:07, 10212.53it/s]\u001b[A\n",
      " 11%|███▉                               | 9090/80312 [00:01<00:07, 10160.15it/s]\u001b[A\n",
      " 13%|████▎                             | 10333/80312 [00:01<00:06, 10841.34it/s]\u001b[A\n",
      " 14%|████▉                             | 11566/80312 [00:01<00:06, 11287.24it/s]\u001b[A\n",
      " 16%|█████▍                            | 12697/80312 [00:01<00:06, 10959.78it/s]\u001b[A\n",
      " 17%|█████▊                            | 13805/80312 [00:01<00:06, 10993.87it/s]\u001b[A\n",
      " 19%|██████▍                            | 14907/80312 [00:02<00:13, 4915.54it/s]\u001b[A\n",
      " 20%|██████▊                            | 15742/80312 [00:02<00:12, 5297.85it/s]\u001b[A\n",
      " 21%|███████▍                           | 17066/80312 [00:02<00:09, 6730.20it/s]\u001b[A\n",
      " 23%|███████▉                           | 18085/80312 [00:02<00:08, 7438.86it/s]\u001b[A\n",
      " 24%|████████▍                          | 19486/80312 [00:02<00:06, 8926.89it/s]\u001b[A\n",
      " 26%|█████████                          | 20659/80312 [00:02<00:06, 9610.50it/s]\u001b[A\n",
      " 27%|█████████▎                        | 21881/80312 [00:02<00:05, 10284.93it/s]\u001b[A\n",
      " 29%|█████████▊                        | 23132/80312 [00:02<00:05, 10883.19it/s]\u001b[A\n",
      " 31%|██████████▍                       | 24667/80312 [00:02<00:04, 12124.80it/s]\u001b[A\n",
      " 32%|███████████                       | 26019/80312 [00:02<00:04, 12520.18it/s]\u001b[A\n",
      " 34%|███████████▋                      | 27471/80312 [00:03<00:04, 13091.77it/s]\u001b[A\n",
      " 36%|████████████▏                     | 28850/80312 [00:03<00:03, 13295.37it/s]\u001b[A\n",
      " 38%|████████████▊                     | 30209/80312 [00:03<00:03, 13237.60it/s]\u001b[A\n",
      " 39%|█████████████▎                    | 31553/80312 [00:03<00:03, 12713.01it/s]\u001b[A\n",
      " 41%|█████████████▉                    | 32843/80312 [00:03<00:03, 12349.00it/s]\u001b[A\n",
      " 43%|██████████████▌                   | 34276/80312 [00:03<00:03, 12904.52it/s]\u001b[A\n",
      " 44%|███████████████                   | 35702/80312 [00:03<00:03, 13291.64it/s]\u001b[A\n",
      " 46%|███████████████▋                  | 37079/80312 [00:03<00:03, 13424.61it/s]\u001b[A\n",
      " 48%|████████████████▍                 | 38780/80312 [00:03<00:02, 14475.12it/s]\u001b[A\n",
      " 50%|█████████████████                 | 40236/80312 [00:04<00:02, 14467.92it/s]\u001b[A\n",
      " 52%|█████████████████▊                | 42035/80312 [00:04<00:02, 15509.14it/s]\u001b[A\n",
      " 54%|██████████████████▍               | 43591/80312 [00:04<00:02, 14886.91it/s]\u001b[A\n",
      " 56%|███████████████████               | 45089/80312 [00:04<00:02, 13380.18it/s]\u001b[A\n",
      " 58%|███████████████████▊              | 46877/80312 [00:04<00:02, 14597.89it/s]\u001b[A\n",
      " 61%|█████████████████████▏             | 48733/80312 [00:05<00:04, 6688.70it/s]\u001b[A\n",
      " 63%|█████████████████████▉             | 50296/80312 [00:05<00:03, 7984.23it/s]\u001b[A\n",
      " 65%|██████████████████████▋            | 52176/80312 [00:05<00:02, 9840.40it/s]\u001b[A\n",
      " 67%|██████████████████████▉           | 54120/80312 [00:05<00:02, 11726.60it/s]\u001b[A\n",
      " 69%|███████████████████████▌          | 55719/80312 [00:05<00:01, 12558.06it/s]\u001b[A\n",
      " 72%|████████████████████████▌         | 57889/80312 [00:05<00:01, 14721.69it/s]\u001b[A\n",
      " 74%|█████████████████████████▎        | 59646/80312 [00:05<00:01, 15354.68it/s]\u001b[A\n",
      " 76%|█████████████████████████▉        | 61392/80312 [00:05<00:01, 15396.96it/s]\u001b[A\n",
      " 79%|██████████████████████████▊       | 63325/80312 [00:05<00:01, 16449.11it/s]\u001b[A\n",
      " 81%|███████████████████████████▌      | 65185/80312 [00:05<00:00, 17043.86it/s]\u001b[A\n",
      " 83%|████████████████████████████▎     | 66976/80312 [00:06<00:00, 16778.39it/s]\u001b[A\n",
      " 86%|█████████████████████████████▏    | 69002/80312 [00:06<00:00, 17755.32it/s]\u001b[A\n",
      " 88%|█████████████████████████████▉    | 70827/80312 [00:06<00:00, 13970.28it/s]\u001b[A\n",
      " 91%|███████████████████████████████   | 73318/80312 [00:06<00:00, 16613.68it/s]\u001b[A\n",
      " 94%|████████████████████████████████  | 75857/80312 [00:06<00:00, 18869.76it/s]\u001b[A\n",
      "100%|██████████████████████████████████| 80312/80312 [00:06<00:00, 11847.83it/s]\u001b[A\n",
      "\n",
      "  0%|                                                 | 0/17193 [00:00<?, ?it/s]\u001b[A\n",
      " 13%|████▍                              | 2208/17193 [00:00<00:00, 22060.56it/s]\u001b[A\n",
      " 28%|█████████▉                         | 4881/17193 [00:00<00:00, 24797.51it/s]\u001b[A\n",
      " 46%|███████████████▉                   | 7843/17193 [00:00<00:00, 26993.66it/s]\u001b[A\n",
      " 66%|██████████████████████▎           | 11298/17193 [00:00<00:00, 29974.61it/s]\u001b[A\n",
      "100%|██████████████████████████████████| 17193/17193 [00:00<00:00, 30917.00it/s]\u001b[A\n",
      "100%|█████████████████████████████████████████████| 5/5 [01:47<00:00, 21.58s/it]\n"
     ]
    }
   ],
   "source": [
    "for i in tqdm(range(5)):\n",
    "    df_train = pd.read_pickle('../dataset/04_K-fold_dataset/df_train_idx%d.p'%(i))\n",
    "    df_test = pd.read_pickle('../dataset/04_K-fold_dataset/df_test_idx%d.p'%(i))\n",
    "\n",
    "    belief2list_train = get_belief_cooccurrence_dic(df_train)\n",
    "    belief2list_test  = get_belief_cooccurrence_dic(df_test)\n",
    "    \n",
    "    train_triplets = get_stance_triplet(belief2list_train)\n",
    "    test_triplets  = get_stance_triplet(belief2list_test)\n",
    "    \n",
    "    with open('../dataset/04_K-fold_triplets/train_triplet_idx%d.p'%i,'wb') as f:\n",
    "        pickle.dump(train_triplets, f)\n",
    "        \n",
    "    with open('../dataset/04_K-fold_triplets/test_triplet_idx%d.p'%i,'wb') as f:\n",
    "        pickle.dump(test_triplets, f)"
   ]
  },
  {
   "cell_type": "code",
   "execution_count": 39,
   "id": "6cba6b00",
   "metadata": {},
   "outputs": [
    {
     "data": {
      "text/plain": [
       "('#triplets ~', 1343346)"
      ]
     },
     "execution_count": 39,
     "metadata": {},
     "output_type": "execute_result"
    }
   ],
   "source": [
    "\"#triplets ~\",len(train_triplets)"
   ]
  },
  {
   "cell_type": "code",
   "execution_count": 40,
   "id": "a52e718c",
   "metadata": {},
   "outputs": [
    {
     "name": "stdout",
     "output_type": "stream",
     "text": [
      "train 0 1351986\n",
      "train 1 1355004\n",
      "train 2 1328074\n",
      "train 3 1412283\n",
      "train 4 1343346\n",
      "test 0 233404\n",
      "test 1 229331\n",
      "test 2 267252\n",
      "test 3 181810\n",
      "test 4 243191\n"
     ]
    }
   ],
   "source": [
    "numtrip_train = []\n",
    "\n",
    "for i in range(5):\n",
    "    with open('../dataset/04_K-fold_triplets/train_triplet_idx%d.p'%i,'rb') as f:\n",
    "        dat = pickle.load(f)\n",
    "    print(\"train\", i, len(dat))\n",
    "    \n",
    "    numtrip_train.append(len(dat))\n",
    "    \n",
    "numtrip_test = []\n",
    "\n",
    "for i in range(5):\n",
    "    with open('../dataset/04_K-fold_triplets/test_triplet_idx%d.p'%i,'rb') as f:\n",
    "        dat = pickle.load(f)\n",
    "    print(\"test\", i, len(dat))\n",
    "    \n",
    "    numtrip_test.append(len(dat))    "
   ]
  },
  {
   "cell_type": "code",
   "execution_count": 41,
   "id": "70eb075f",
   "metadata": {},
   "outputs": [
    {
     "name": "stdout",
     "output_type": "stream",
     "text": [
      "average train/test set size\n"
     ]
    },
    {
     "data": {
      "text/plain": [
       "(1358138.6, 230997.6)"
      ]
     },
     "execution_count": 41,
     "metadata": {},
     "output_type": "execute_result"
    }
   ],
   "source": [
    "print(\"average train/test set size\")\n",
    "np.average(numtrip_train), np.average(numtrip_test)"
   ]
  },
  {
   "cell_type": "markdown",
   "id": "1d74d7d4",
   "metadata": {},
   "source": [
    "### Train / Test set with commonly appearing users"
   ]
  },
  {
   "cell_type": "code",
   "execution_count": 43,
   "id": "ae0763f0",
   "metadata": {},
   "outputs": [
    {
     "name": "stdout",
     "output_type": "stream",
     "text": [
      "# votes: Train, Train_common, Test, Test_common\n",
      "153698 111724 38609 33208\n",
      "# voters: Train, Train_common, Test, Test_common\n",
      "35447 10173 15006 10173\n",
      "\n",
      "# votes: Train, Train_common, Test, Test_common\n",
      "151618 110860 40689 35171\n",
      "# voters: Train, Train_common, Test, Test_common\n",
      "35362 10401 15319 10401\n",
      "\n",
      "# votes: Train, Train_common, Test, Test_common\n",
      "151524 107163 40783 36060\n",
      "# voters: Train, Train_common, Test, Test_common\n",
      "36092 9706 13894 9706\n",
      "\n",
      "# votes: Train, Train_common, Test, Test_common\n",
      "157602 113625 34705 27733\n",
      "# voters: Train, Train_common, Test, Test_common\n",
      "34205 9675 15750 9675\n",
      "\n",
      "# votes: Train, Train_common, Test, Test_common\n",
      "154786 110227 37521 33007\n",
      "# voters: Train, Train_common, Test, Test_common\n",
      "36220 9744 13804 9744\n",
      "\n"
     ]
    }
   ],
   "source": [
    "train_sets = []\n",
    "test_sets  = []\n",
    "\n",
    "BASE_PATH = '../dataset/04_K-fold_dataset/'\n",
    "\n",
    "for i in range(5):    \n",
    "    \n",
    "    df_train = pd.read_pickle(BASE_PATH + 'df_train_idx%d.p'%(i))\n",
    "    df_test  = pd.read_pickle(BASE_PATH + 'df_test_idx%d.p'%(i))\n",
    "        \n",
    "    train_users = df_train.username.unique()\n",
    "    test_users  = df_test.username.unique()\n",
    "    \n",
    "    common_users = []\n",
    "    for u in test_users:\n",
    "        if u in train_users:\n",
    "            common_users.append(u)\n",
    "    \n",
    "    df_train_common = df_train[df_train['username'].isin(common_users)]\n",
    "    df_test_common  = df_test[df_test['username'].isin(common_users)]\n",
    "    \n",
    "    \n",
    "    train_sets.append(df_train_common)\n",
    "    test_sets.append(df_test_common)\n",
    "    \n",
    "    \n",
    "    print(\"# votes: Train, Train_common, Test, Test_common\")\n",
    "    print(len(df_train), len(df_train_common), len(df_test), len(df_test_common))\n",
    "    print(\"# voters: Train, Train_common, Test, Test_common\")\n",
    "    print(len(df_train.username.unique()), len(df_train_common.username.unique()), len(df_test.username.unique()), len(df_test_common.username.unique()))\n",
    "    print()"
   ]
  },
  {
   "cell_type": "code",
   "execution_count": 44,
   "id": "a434db89",
   "metadata": {},
   "outputs": [],
   "source": [
    "BASE_PATH = '../dataset/04_K-fold_dataset_commonusers/'\n",
    "\n",
    "for i in range(5):    \n",
    "    \n",
    "    train_sets[i].to_pickle(BASE_PATH + 'df_commonuser_train_idx%d.p'%(i))\n",
    "    test_sets[i].to_pickle(BASE_PATH + 'df_commonuser_test_idx%d.p'%(i))"
   ]
  }
 ],
 "metadata": {
  "kernelspec": {
   "display_name": "Python 3 (ipykernel)",
   "language": "python",
   "name": "python3"
  },
  "language_info": {
   "codemirror_mode": {
    "name": "ipython",
    "version": 3
   },
   "file_extension": ".py",
   "mimetype": "text/x-python",
   "name": "python",
   "nbconvert_exporter": "python",
   "pygments_lexer": "ipython3",
   "version": "3.9.10"
  }
 },
 "nbformat": 4,
 "nbformat_minor": 5
}
