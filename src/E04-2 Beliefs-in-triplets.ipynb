{
 "cells": [
  {
   "cell_type": "code",
   "execution_count": 1,
   "id": "ca4410ec",
   "metadata": {},
   "outputs": [],
   "source": [
    "import torch\n",
    "import pickle\n",
    "from tqdm import tqdm\n",
    "import numpy as np\n",
    "import pandas as pd\n",
    "\n",
    "%matplotlib inline\n",
    "import matplotlib\n",
    "from matplotlib import pyplot as plt\n",
    "from matplotlib import font_manager as fm\n",
    "from matplotlib import rc\n",
    "matplotlib.rcParams['figure.dpi'] = 150\n",
    "f_path = \"/System/Library/Fonts/Helvetica.ttc\"\n",
    "font_name = fm.FontProperties(fname=f_path).get_name()\n",
    "rc('font', family=font_name, size=13)\n",
    "\n",
    "import matplotlib.pyplot as plt\n",
    "from sentence_transformers import models, SentenceTransformer\n",
    "from collections import defaultdict\n",
    "import seaborn as sns\n",
    "from sklearn.metrics.pairwise import cosine_similarity\n",
    "from collections import Counter\n",
    "from scipy.stats import binned_statistic"
   ]
  },
  {
   "cell_type": "code",
   "execution_count": 21,
   "id": "d9c62c40",
   "metadata": {},
   "outputs": [],
   "source": [
    "dfs = []\n",
    "for i in range(5):\n",
    "    df_ = pd.read_pickle(\"../dataset/04_K-fold_dataset/df_train_idx%d.p\"%(i))\n",
    "    dfs.append(df_)"
   ]
  },
  {
   "cell_type": "code",
   "execution_count": 23,
   "id": "2285f57a",
   "metadata": {},
   "outputs": [],
   "source": [
    "dts = []\n",
    "for i in range(5):\n",
    "    \n",
    "    users_more_than2 = dfs[i].value_counts('username')[dfs[i].value_counts('username') > 1].index\n",
    "    \n",
    "    dt = dfs[i][dfs[i]['username'].isin(users_more_than2)]\n",
    "    dts.append(dt)\n",
    "    \n",
    "    dt.to_pickle(\"../dataset/04_K-fold_dataset_min2/df_train_min2_idx%d.p\"%(i))"
   ]
  },
  {
   "cell_type": "markdown",
   "id": "48f07420",
   "metadata": {},
   "source": [
    "Remove users that appear only once"
   ]
  },
  {
   "cell_type": "code",
   "execution_count": 5,
   "id": "968df1d9",
   "metadata": {},
   "outputs": [
    {
     "data": {
      "text/html": [
       "<div>\n",
       "<style scoped>\n",
       "    .dataframe tbody tr th:only-of-type {\n",
       "        vertical-align: middle;\n",
       "    }\n",
       "\n",
       "    .dataframe tbody tr th {\n",
       "        vertical-align: top;\n",
       "    }\n",
       "\n",
       "    .dataframe thead th {\n",
       "        text-align: right;\n",
       "    }\n",
       "</style>\n",
       "<table border=\"1\" class=\"dataframe\">\n",
       "  <thead>\n",
       "    <tr style=\"text-align: right;\">\n",
       "      <th></th>\n",
       "      <th>debate_key</th>\n",
       "      <th>debate_title</th>\n",
       "      <th>username</th>\n",
       "      <th>debate_date</th>\n",
       "      <th>position</th>\n",
       "      <th>is_belief</th>\n",
       "      <th>belief_statement</th>\n",
       "    </tr>\n",
       "  </thead>\n",
       "  <tbody>\n",
       "    <tr>\n",
       "      <th>16630</th>\n",
       "      <td>Dolphins-enjoy-wearing-turtleneck-sweaters/1/</td>\n",
       "      <td>Dolphins enjoy wearing turtleneck sweaters</td>\n",
       "      <td>frenchmoosetwo</td>\n",
       "      <td>2011-04-28</td>\n",
       "      <td>Pro</td>\n",
       "      <td>1.0</td>\n",
       "      <td>I agree with the following: Dolphins enjoy wea...</td>\n",
       "    </tr>\n",
       "    <tr>\n",
       "      <th>16632</th>\n",
       "      <td>Dolphins-should-be-legally-defined-as-non-huma...</td>\n",
       "      <td>Dolphins should be legally defined as non-huma...</td>\n",
       "      <td>Helium-Flash</td>\n",
       "      <td>2011-10-04</td>\n",
       "      <td>Pro</td>\n",
       "      <td>1.0</td>\n",
       "      <td>I agree with the following: Dolphins should be...</td>\n",
       "    </tr>\n",
       "  </tbody>\n",
       "</table>\n",
       "</div>"
      ],
      "text/plain": [
       "                                              debate_key  \\\n",
       "16630      Dolphins-enjoy-wearing-turtleneck-sweaters/1/   \n",
       "16632  Dolphins-should-be-legally-defined-as-non-huma...   \n",
       "\n",
       "                                            debate_title        username  \\\n",
       "16630         Dolphins enjoy wearing turtleneck sweaters  frenchmoosetwo   \n",
       "16632  Dolphins should be legally defined as non-huma...    Helium-Flash   \n",
       "\n",
       "      debate_date position  is_belief  \\\n",
       "16630  2011-04-28      Pro        1.0   \n",
       "16632  2011-10-04      Pro        1.0   \n",
       "\n",
       "                                        belief_statement  \n",
       "16630  I agree with the following: Dolphins enjoy wea...  \n",
       "16632  I agree with the following: Dolphins should be...  "
      ]
     },
     "execution_count": 5,
     "metadata": {},
     "output_type": "execute_result"
    }
   ],
   "source": [
    "dfs[0].head(2)"
   ]
  },
  {
   "cell_type": "code",
   "execution_count": 26,
   "id": "45e1732e",
   "metadata": {},
   "outputs": [
    {
     "name": "stdout",
     "output_type": "stream",
     "text": [
      "157796 138251\n",
      "155639 136016\n",
      "155116 135165\n",
      "161952 143364\n",
      "158721 138676\n"
     ]
    }
   ],
   "source": [
    "for i in range(5):\n",
    "    print(len(dfs[i]), len(dts[i]))"
   ]
  },
  {
   "cell_type": "code",
   "execution_count": 27,
   "id": "37696442",
   "metadata": {},
   "outputs": [],
   "source": [
    "triplets = []\n",
    "for i in range(5):\n",
    "    with open(\"../dataset/04_K-fold_triplets/train_triplet_idx%d.p\"%(i), 'rb') as f:\n",
    "        triplets.append(pickle.load(f))"
   ]
  },
  {
   "cell_type": "code",
   "execution_count": 28,
   "id": "74ee0719",
   "metadata": {},
   "outputs": [],
   "source": [
    "for i in range(5):    \n",
    "    \n",
    "    beliefs = []\n",
    "    for e in triplets[i]:\n",
    "        beliefs += e\n",
    "        \n",
    "    beliefs = list(set(beliefs))\n",
    "    \n",
    "    with open(\"../dataset/04_trained_beliefs/trained_beliefs_idx%d.p\"%(i), 'wb') as f:\n",
    "        pickle.dump(beliefs, f)"
   ]
  },
  {
   "cell_type": "markdown",
   "id": "b0168f43",
   "metadata": {},
   "source": [
    "### random triplets"
   ]
  },
  {
   "cell_type": "code",
   "execution_count": 29,
   "id": "2efbfe17",
   "metadata": {},
   "outputs": [],
   "source": [
    "with open(\"../dataset/Randomized_triplets/train_triplet_rand-shuffle.p\", 'rb') as f:\n",
    "    random_triplets = pickle.load(f)"
   ]
  },
  {
   "cell_type": "code",
   "execution_count": 31,
   "id": "c6e46f63",
   "metadata": {},
   "outputs": [],
   "source": [
    "beliefs = []\n",
    "for e in random_triplets:\n",
    "    beliefs += e\n",
    "\n",
    "beliefs = list(set(beliefs))\n",
    "\n",
    "with open(\"../dataset/04_trained_beliefs/trained_beliefs_random_idx%d.p\"%(0), 'wb') as f:\n",
    "    pickle.dump(beliefs, f)"
   ]
  },
  {
   "cell_type": "code",
   "execution_count": null,
   "id": "35f3f033",
   "metadata": {},
   "outputs": [],
   "source": []
  }
 ],
 "metadata": {
  "kernelspec": {
   "display_name": "Python 3 (ipykernel)",
   "language": "python",
   "name": "python3"
  },
  "language_info": {
   "codemirror_mode": {
    "name": "ipython",
    "version": 3
   },
   "file_extension": ".py",
   "mimetype": "text/x-python",
   "name": "python",
   "nbconvert_exporter": "python",
   "pygments_lexer": "ipython3",
   "version": "3.9.10"
  }
 },
 "nbformat": 4,
 "nbformat_minor": 5
}
