{
 "cells": [
  {
   "cell_type": "code",
   "execution_count": 1,
   "id": "8650311a",
   "metadata": {},
   "outputs": [],
   "source": [
    "import pickle\n",
    "import pandas as pd\n",
    "from pandas import Series\n",
    "from tqdm import tqdm\n",
    "import seaborn as sns\n",
    "import numpy as np\n",
    "\n",
    "import matplotlib\n",
    "%matplotlib inline\n",
    "from matplotlib import pyplot as plt\n",
    "from matplotlib import font_manager as fm\n",
    "from matplotlib import rc\n",
    "\n",
    "\n",
    "matplotlib.rcParams['figure.dpi'] = 150\n",
    "f_path = \"/System/Library/Fonts/Helvetica.ttc\"\n",
    "font_name = fm.FontProperties(fname=f_path).get_name()\n",
    "rc('font', family=font_name, size=13)"
   ]
  },
  {
   "cell_type": "markdown",
   "id": "61361e94",
   "metadata": {},
   "source": [
    "## Finalize initial DDO Data preprocessing"
   ]
  },
  {
   "cell_type": "code",
   "execution_count": 2,
   "id": "44c08521",
   "metadata": {},
   "outputs": [],
   "source": [
    "df_original = pd.read_pickle('../dataset/02_ddo_initial_filtering/df_debater_vote_merged.p')\n",
    "\n",
    "df_isbelief = pd.read_pickle('../dataset/03_belief_filtering/df_isbelief(gpt4_results).p')"
   ]
  },
  {
   "cell_type": "code",
   "execution_count": 3,
   "id": "12486dc8",
   "metadata": {},
   "outputs": [
    {
     "data": {
      "text/html": [
       "<div>\n",
       "<style scoped>\n",
       "    .dataframe tbody tr th:only-of-type {\n",
       "        vertical-align: middle;\n",
       "    }\n",
       "\n",
       "    .dataframe tbody tr th {\n",
       "        vertical-align: top;\n",
       "    }\n",
       "\n",
       "    .dataframe thead th {\n",
       "        text-align: right;\n",
       "    }\n",
       "</style>\n",
       "<table border=\"1\" class=\"dataframe\">\n",
       "  <thead>\n",
       "    <tr style=\"text-align: right;\">\n",
       "      <th></th>\n",
       "      <th>debate_key</th>\n",
       "      <th>debate_title</th>\n",
       "      <th>username</th>\n",
       "      <th>debate_date</th>\n",
       "      <th>position</th>\n",
       "    </tr>\n",
       "  </thead>\n",
       "  <tbody>\n",
       "    <tr>\n",
       "      <th>0</th>\n",
       "      <td>.-.-.-Ha-YOURE-GOING-DOWN-BEEM0R/1/</td>\n",
       "      <td>. . . Ha! YOU'RE GOING DOWN, BEEM0R!</td>\n",
       "      <td>Logical-Master</td>\n",
       "      <td>2009-02-02</td>\n",
       "      <td>Pro</td>\n",
       "    </tr>\n",
       "    <tr>\n",
       "      <th>1</th>\n",
       "      <td>.-Audis-are-junkers-except-to-rich-kids-with-l...</td>\n",
       "      <td>. Audis are junkers, except to rich kids with ...</td>\n",
       "      <td>Max.Wallace</td>\n",
       "      <td>2014-09-04</td>\n",
       "      <td>Pro</td>\n",
       "    </tr>\n",
       "    <tr>\n",
       "      <th>2</th>\n",
       "      <td>....-Former-Secretary-of-State-Madeleine-Albri...</td>\n",
       "      <td>....\"Former Secretary of State Madeleine Albri...</td>\n",
       "      <td>Lookingatissues</td>\n",
       "      <td>2017-01-30</td>\n",
       "      <td>Pro</td>\n",
       "    </tr>\n",
       "    <tr>\n",
       "      <th>3</th>\n",
       "      <td>...Words-can-t-hurt-me-any./1/</td>\n",
       "      <td>...Words can't hurt me any.</td>\n",
       "      <td>NonInDelicto</td>\n",
       "      <td>2007-12-19</td>\n",
       "      <td>Pro</td>\n",
       "    </tr>\n",
       "    <tr>\n",
       "      <th>4</th>\n",
       "      <td>.9-repeated-is-equal-to-1./1/</td>\n",
       "      <td>.9 repeated is equal to 1.</td>\n",
       "      <td>cowpie1998</td>\n",
       "      <td>2011-04-07</td>\n",
       "      <td>Pro</td>\n",
       "    </tr>\n",
       "  </tbody>\n",
       "</table>\n",
       "</div>"
      ],
      "text/plain": [
       "                                          debate_key  \\\n",
       "0                .-.-.-Ha-YOURE-GOING-DOWN-BEEM0R/1/   \n",
       "1  .-Audis-are-junkers-except-to-rich-kids-with-l...   \n",
       "2  ....-Former-Secretary-of-State-Madeleine-Albri...   \n",
       "3                     ...Words-can-t-hurt-me-any./1/   \n",
       "4                      .9-repeated-is-equal-to-1./1/   \n",
       "\n",
       "                                        debate_title         username  \\\n",
       "0               . . . Ha! YOU'RE GOING DOWN, BEEM0R!   Logical-Master   \n",
       "1  . Audis are junkers, except to rich kids with ...      Max.Wallace   \n",
       "2  ....\"Former Secretary of State Madeleine Albri...  Lookingatissues   \n",
       "3                        ...Words can't hurt me any.     NonInDelicto   \n",
       "4                         .9 repeated is equal to 1.       cowpie1998   \n",
       "\n",
       "  debate_date position  \n",
       "0  2009-02-02      Pro  \n",
       "1  2014-09-04      Pro  \n",
       "2  2017-01-30      Pro  \n",
       "3  2007-12-19      Pro  \n",
       "4  2011-04-07      Pro  "
      ]
     },
     "execution_count": 3,
     "metadata": {},
     "output_type": "execute_result"
    }
   ],
   "source": [
    "df_original.head()"
   ]
  },
  {
   "cell_type": "code",
   "execution_count": 4,
   "id": "e302e65a",
   "metadata": {},
   "outputs": [
    {
     "data": {
      "text/plain": [
       "232691"
      ]
     },
     "execution_count": 4,
     "metadata": {},
     "output_type": "execute_result"
    }
   ],
   "source": [
    "len(df_original)"
   ]
  },
  {
   "cell_type": "code",
   "execution_count": 5,
   "id": "fc0fa747",
   "metadata": {},
   "outputs": [
    {
     "data": {
      "text/html": [
       "<div>\n",
       "<style scoped>\n",
       "    .dataframe tbody tr th:only-of-type {\n",
       "        vertical-align: middle;\n",
       "    }\n",
       "\n",
       "    .dataframe tbody tr th {\n",
       "        vertical-align: top;\n",
       "    }\n",
       "\n",
       "    .dataframe thead th {\n",
       "        text-align: right;\n",
       "    }\n",
       "</style>\n",
       "<table border=\"1\" class=\"dataframe\">\n",
       "  <thead>\n",
       "    <tr style=\"text-align: right;\">\n",
       "      <th></th>\n",
       "      <th>debate_title</th>\n",
       "      <th>is_belief</th>\n",
       "    </tr>\n",
       "  </thead>\n",
       "  <tbody>\n",
       "    <tr>\n",
       "      <th>0</th>\n",
       "      <td>. . . Ha! YOU'RE GOING DOWN, BEEM0R!</td>\n",
       "      <td>0</td>\n",
       "    </tr>\n",
       "    <tr>\n",
       "      <th>1</th>\n",
       "      <td>. Audis are junkers, except to rich kids with ...</td>\n",
       "      <td>1</td>\n",
       "    </tr>\n",
       "    <tr>\n",
       "      <th>2</th>\n",
       "      <td>....\"Former Secretary of State Madeleine Albri...</td>\n",
       "      <td>1</td>\n",
       "    </tr>\n",
       "    <tr>\n",
       "      <th>3</th>\n",
       "      <td>...Words can't hurt me any.</td>\n",
       "      <td>1</td>\n",
       "    </tr>\n",
       "    <tr>\n",
       "      <th>4</th>\n",
       "      <td>.9 repeated is equal to 1.</td>\n",
       "      <td>1</td>\n",
       "    </tr>\n",
       "  </tbody>\n",
       "</table>\n",
       "</div>"
      ],
      "text/plain": [
       "                                        debate_title  is_belief\n",
       "0               . . . Ha! YOU'RE GOING DOWN, BEEM0R!          0\n",
       "1  . Audis are junkers, except to rich kids with ...          1\n",
       "2  ....\"Former Secretary of State Madeleine Albri...          1\n",
       "3                        ...Words can't hurt me any.          1\n",
       "4                         .9 repeated is equal to 1.          1"
      ]
     },
     "execution_count": 5,
     "metadata": {},
     "output_type": "execute_result"
    }
   ],
   "source": [
    "df_isbelief.head()"
   ]
  },
  {
   "cell_type": "code",
   "execution_count": 6,
   "id": "34d6ab3b",
   "metadata": {},
   "outputs": [
    {
     "data": {
      "text/plain": [
       "(59986, 8904, 0.1292495282334156)"
      ]
     },
     "execution_count": 6,
     "metadata": {},
     "output_type": "execute_result"
    }
   ],
   "source": [
    "sum(df_isbelief['is_belief'] == 1), sum(df_isbelief['is_belief'] == 0), sum(df_isbelief['is_belief'] == 0)/len(df_isbelief)"
   ]
  },
  {
   "cell_type": "code",
   "execution_count": 7,
   "id": "dc76f7ca",
   "metadata": {},
   "outputs": [
    {
     "data": {
      "text/plain": [
       "68890"
      ]
     },
     "execution_count": 7,
     "metadata": {},
     "output_type": "execute_result"
    }
   ],
   "source": [
    "len(df_isbelief) #+ #no answer 10"
   ]
  },
  {
   "cell_type": "code",
   "execution_count": 8,
   "id": "cc388a26",
   "metadata": {},
   "outputs": [],
   "source": [
    "title2isbelief = dict(zip(df_isbelief['debate_title'], df_isbelief['is_belief']))\n",
    "df = df_original.copy()\n",
    "df['is_belief'] = df['debate_title'].map(title2isbelief)"
   ]
  },
  {
   "cell_type": "code",
   "execution_count": 9,
   "id": "5371163a",
   "metadata": {},
   "outputs": [
    {
     "data": {
      "text/html": [
       "<div>\n",
       "<style scoped>\n",
       "    .dataframe tbody tr th:only-of-type {\n",
       "        vertical-align: middle;\n",
       "    }\n",
       "\n",
       "    .dataframe tbody tr th {\n",
       "        vertical-align: top;\n",
       "    }\n",
       "\n",
       "    .dataframe thead th {\n",
       "        text-align: right;\n",
       "    }\n",
       "</style>\n",
       "<table border=\"1\" class=\"dataframe\">\n",
       "  <thead>\n",
       "    <tr style=\"text-align: right;\">\n",
       "      <th></th>\n",
       "      <th>debate_key</th>\n",
       "      <th>debate_title</th>\n",
       "      <th>username</th>\n",
       "      <th>debate_date</th>\n",
       "      <th>position</th>\n",
       "      <th>is_belief</th>\n",
       "    </tr>\n",
       "  </thead>\n",
       "  <tbody>\n",
       "    <tr>\n",
       "      <th>0</th>\n",
       "      <td>.-.-.-Ha-YOURE-GOING-DOWN-BEEM0R/1/</td>\n",
       "      <td>. . . Ha! YOU'RE GOING DOWN, BEEM0R!</td>\n",
       "      <td>Logical-Master</td>\n",
       "      <td>2009-02-02</td>\n",
       "      <td>Pro</td>\n",
       "      <td>0.0</td>\n",
       "    </tr>\n",
       "    <tr>\n",
       "      <th>1</th>\n",
       "      <td>.-Audis-are-junkers-except-to-rich-kids-with-l...</td>\n",
       "      <td>. Audis are junkers, except to rich kids with ...</td>\n",
       "      <td>Max.Wallace</td>\n",
       "      <td>2014-09-04</td>\n",
       "      <td>Pro</td>\n",
       "      <td>1.0</td>\n",
       "    </tr>\n",
       "    <tr>\n",
       "      <th>2</th>\n",
       "      <td>....-Former-Secretary-of-State-Madeleine-Albri...</td>\n",
       "      <td>....\"Former Secretary of State Madeleine Albri...</td>\n",
       "      <td>Lookingatissues</td>\n",
       "      <td>2017-01-30</td>\n",
       "      <td>Pro</td>\n",
       "      <td>1.0</td>\n",
       "    </tr>\n",
       "    <tr>\n",
       "      <th>3</th>\n",
       "      <td>...Words-can-t-hurt-me-any./1/</td>\n",
       "      <td>...Words can't hurt me any.</td>\n",
       "      <td>NonInDelicto</td>\n",
       "      <td>2007-12-19</td>\n",
       "      <td>Pro</td>\n",
       "      <td>1.0</td>\n",
       "    </tr>\n",
       "    <tr>\n",
       "      <th>4</th>\n",
       "      <td>.9-repeated-is-equal-to-1./1/</td>\n",
       "      <td>.9 repeated is equal to 1.</td>\n",
       "      <td>cowpie1998</td>\n",
       "      <td>2011-04-07</td>\n",
       "      <td>Pro</td>\n",
       "      <td>1.0</td>\n",
       "    </tr>\n",
       "  </tbody>\n",
       "</table>\n",
       "</div>"
      ],
      "text/plain": [
       "                                          debate_key  \\\n",
       "0                .-.-.-Ha-YOURE-GOING-DOWN-BEEM0R/1/   \n",
       "1  .-Audis-are-junkers-except-to-rich-kids-with-l...   \n",
       "2  ....-Former-Secretary-of-State-Madeleine-Albri...   \n",
       "3                     ...Words-can-t-hurt-me-any./1/   \n",
       "4                      .9-repeated-is-equal-to-1./1/   \n",
       "\n",
       "                                        debate_title         username  \\\n",
       "0               . . . Ha! YOU'RE GOING DOWN, BEEM0R!   Logical-Master   \n",
       "1  . Audis are junkers, except to rich kids with ...      Max.Wallace   \n",
       "2  ....\"Former Secretary of State Madeleine Albri...  Lookingatissues   \n",
       "3                        ...Words can't hurt me any.     NonInDelicto   \n",
       "4                         .9 repeated is equal to 1.       cowpie1998   \n",
       "\n",
       "  debate_date position  is_belief  \n",
       "0  2009-02-02      Pro        0.0  \n",
       "1  2014-09-04      Pro        1.0  \n",
       "2  2017-01-30      Pro        1.0  \n",
       "3  2007-12-19      Pro        1.0  \n",
       "4  2011-04-07      Pro        1.0  "
      ]
     },
     "execution_count": 9,
     "metadata": {},
     "output_type": "execute_result"
    }
   ],
   "source": [
    "df.head()"
   ]
  },
  {
   "cell_type": "code",
   "execution_count": 10,
   "id": "f49bdb08",
   "metadata": {
    "scrolled": true
   },
   "outputs": [
    {
     "data": {
      "text/plain": [
       "['Affirmative Action',\n",
       " 'Psychiatry',\n",
       " 'Lynch all liars.',\n",
       " 'Quotes',\n",
       " 'Gay Marraige',\n",
       " 'Abortion',\n",
       " 'World War 2 Code Debate',\n",
       " '\"Shipping\" in My Little Pony fanfictions is ...',\n",
       " 'My Pen is bigger than yours.',\n",
       " 'Barack Obama was recently pwnt by Rio de Janeiro',\n",
       " 'Hodor Hodor Hodor hodor hodor hodor',\n",
       " 'Community Service',\n",
       " 'Net neutrality laws.',\n",
       " 'Halo Or Call of Duty.',\n",
       " 'War on terror',\n",
       " 'The BAD argument debate',\n",
       " 'Longer Lunches',\n",
       " 'This is not valid in content',\n",
       " 'Rap battle 1',\n",
       " 'Death penalty',\n",
       " 'Insult war',\n",
       " 'Bill Cipher w/a physical body vs Discord (Gravity Falls vs My Little Pony FiM)',\n",
       " 'Abortion',\n",
       " 'Assault rifles',\n",
       " 'The Legalization of Prostitution',\n",
       " 'Resolved: On balance, the United States federal govenment is justified in interveening in the intern',\n",
       " 'Dinosaurs',\n",
       " 'funny yo mama jokes',\n",
       " 'Because we can.',\n",
       " 'wanna be friends?',\n",
       " 'Albert Wesker Vs',\n",
       " 'Cannabis Legalization in the United States (Medical and Recreational Uses)',\n",
       " 'Affirmative Action',\n",
       " 'Short Story Challenge',\n",
       " 'Gun Control',\n",
       " 'MOST UNIQUE YO MAMA JOKE (one round)',\n",
       " \"Britain's membership of the European Union\",\n",
       " 'Sonnet Challenge',\n",
       " 'Gay Marriage',\n",
       " 'The Bible is a book',\n",
       " 'The Perfect Murder',\n",
       " 'Waterboarding',\n",
       " 'Poetry collaboration',\n",
       " 'Gay Marriage',\n",
       " 'Model Debate : Kids',\n",
       " 'having sex',\n",
       " 'Gas prices and oil',\n",
       " 'Rap Battle - Come Hard With Your Bars Part IV',\n",
       " 'This picture is valid.',\n",
       " 'Debating on Debate.com',\n",
       " 'Debate On The Debate',\n",
       " 'Stalin > saboosa',\n",
       " 'Do you have a gun up your bum, or is that just Ted Nugent?',\n",
       " 'Tic Tac Toe V2',\n",
       " 'which pokemon starts small but grows to a power house',\n",
       " 'Superman vs. Batman',\n",
       " 'History Debate',\n",
       " 'god?',\n",
       " 'Young Earth Creationism',\n",
       " 'An alternative to Gasoline',\n",
       " \"FDR's New Deal\",\n",
       " 'Veganism',\n",
       " 'Topic To Be Chosen During Debate',\n",
       " 'i5;l6;k4;n3;k9;l6;l2; l6;k9;l5;k2;m5;k2;m0;n0; m1;k5;l8;l6;k9;m1;',\n",
       " 'The Outsiders: Ponyboy gets separated?',\n",
       " 'the best',\n",
       " 'Rap Battle.',\n",
       " 'The Minimum Wage',\n",
       " \"Quran vs. Bible-which is God's word. No one has posted\",\n",
       " 'Dog Debate',\n",
       " 'Gun control',\n",
       " 'Return Quiz',\n",
       " 'Global warming (full resolution in debate)',\n",
       " 'Opponent picks topic.',\n",
       " 'Cloning',\n",
       " 'European Union',\n",
       " 'Music battle: Rap [for flow only]',\n",
       " 'Stay mad kid',\n",
       " 'Mr Skeltal vs Epic Sax Guy',\n",
       " 'Flag Burning.....',\n",
       " 'Genetically Modified Foods',\n",
       " 'Common Sense riddles...',\n",
       " 'abortion',\n",
       " 'eagles should be forced to wearr shoes',\n",
       " 'drunk driving',\n",
       " 'Capitalism',\n",
       " 'Affirmative Action',\n",
       " 'a very fun wall',\n",
       " 'Snl funny skits!',\n",
       " 'Flat Tax',\n",
       " 'Rap Battle(2011)',\n",
       " 'Police carrying guns all the time',\n",
       " \"Hershey's or M&M's\",\n",
       " 'Abortion',\n",
       " 'Human Cloning',\n",
       " 'Mujahideen, goats arse.',\n",
       " \"Nintendo Death Battle: Player's Choice\",\n",
       " 'Abortion',\n",
       " 'The Free Market',\n",
       " 'Atheism']"
      ]
     },
     "execution_count": 10,
     "metadata": {},
     "output_type": "execute_result"
    }
   ],
   "source": [
    "df[df.is_belief==0]['debate_title'].sample(100).to_list()"
   ]
  },
  {
   "cell_type": "code",
   "execution_count": 13,
   "id": "a27a4008",
   "metadata": {},
   "outputs": [],
   "source": [
    "df.to_pickle('../dataset/03_Final_dataframe/df_ddo_with_isbelief_info(N232691).p')"
   ]
  },
  {
   "cell_type": "code",
   "execution_count": 14,
   "id": "05c8faa8",
   "metadata": {},
   "outputs": [
    {
     "data": {
      "text/plain": [
       "197306"
      ]
     },
     "execution_count": 14,
     "metadata": {},
     "output_type": "execute_result"
    }
   ],
   "source": [
    "df_filtered = df[df['is_belief']==1]\n",
    "df_filtered.head()\n",
    "len(df_filtered)"
   ]
  },
  {
   "cell_type": "code",
   "execution_count": 15,
   "id": "10774913",
   "metadata": {},
   "outputs": [
    {
     "data": {
      "text/html": [
       "<div>\n",
       "<style scoped>\n",
       "    .dataframe tbody tr th:only-of-type {\n",
       "        vertical-align: middle;\n",
       "    }\n",
       "\n",
       "    .dataframe tbody tr th {\n",
       "        vertical-align: top;\n",
       "    }\n",
       "\n",
       "    .dataframe thead th {\n",
       "        text-align: right;\n",
       "    }\n",
       "</style>\n",
       "<table border=\"1\" class=\"dataframe\">\n",
       "  <thead>\n",
       "    <tr style=\"text-align: right;\">\n",
       "      <th></th>\n",
       "      <th>debate_key</th>\n",
       "      <th>debate_title</th>\n",
       "      <th>username</th>\n",
       "      <th>debate_date</th>\n",
       "      <th>position</th>\n",
       "      <th>is_belief</th>\n",
       "    </tr>\n",
       "  </thead>\n",
       "  <tbody>\n",
       "    <tr>\n",
       "      <th>1</th>\n",
       "      <td>.-Audis-are-junkers-except-to-rich-kids-with-l...</td>\n",
       "      <td>. Audis are junkers, except to rich kids with ...</td>\n",
       "      <td>Max.Wallace</td>\n",
       "      <td>2014-09-04</td>\n",
       "      <td>Pro</td>\n",
       "      <td>1.0</td>\n",
       "    </tr>\n",
       "    <tr>\n",
       "      <th>2</th>\n",
       "      <td>....-Former-Secretary-of-State-Madeleine-Albri...</td>\n",
       "      <td>....\"Former Secretary of State Madeleine Albri...</td>\n",
       "      <td>Lookingatissues</td>\n",
       "      <td>2017-01-30</td>\n",
       "      <td>Pro</td>\n",
       "      <td>1.0</td>\n",
       "    </tr>\n",
       "    <tr>\n",
       "      <th>3</th>\n",
       "      <td>...Words-can-t-hurt-me-any./1/</td>\n",
       "      <td>...Words can't hurt me any.</td>\n",
       "      <td>NonInDelicto</td>\n",
       "      <td>2007-12-19</td>\n",
       "      <td>Pro</td>\n",
       "      <td>1.0</td>\n",
       "    </tr>\n",
       "    <tr>\n",
       "      <th>4</th>\n",
       "      <td>.9-repeated-is-equal-to-1./1/</td>\n",
       "      <td>.9 repeated is equal to 1.</td>\n",
       "      <td>cowpie1998</td>\n",
       "      <td>2011-04-07</td>\n",
       "      <td>Pro</td>\n",
       "      <td>1.0</td>\n",
       "    </tr>\n",
       "    <tr>\n",
       "      <th>5</th>\n",
       "      <td>.99-is-equal-to-one./1/</td>\n",
       "      <td>.99 is equal to one.</td>\n",
       "      <td>SweetCrackerJack</td>\n",
       "      <td>2013-12-24</td>\n",
       "      <td>Pro</td>\n",
       "      <td>1.0</td>\n",
       "    </tr>\n",
       "  </tbody>\n",
       "</table>\n",
       "</div>"
      ],
      "text/plain": [
       "                                          debate_key  \\\n",
       "1  .-Audis-are-junkers-except-to-rich-kids-with-l...   \n",
       "2  ....-Former-Secretary-of-State-Madeleine-Albri...   \n",
       "3                     ...Words-can-t-hurt-me-any./1/   \n",
       "4                      .9-repeated-is-equal-to-1./1/   \n",
       "5                            .99-is-equal-to-one./1/   \n",
       "\n",
       "                                        debate_title          username  \\\n",
       "1  . Audis are junkers, except to rich kids with ...       Max.Wallace   \n",
       "2  ....\"Former Secretary of State Madeleine Albri...   Lookingatissues   \n",
       "3                        ...Words can't hurt me any.      NonInDelicto   \n",
       "4                         .9 repeated is equal to 1.        cowpie1998   \n",
       "5                               .99 is equal to one.  SweetCrackerJack   \n",
       "\n",
       "  debate_date position  is_belief  \n",
       "1  2014-09-04      Pro        1.0  \n",
       "2  2017-01-30      Pro        1.0  \n",
       "3  2007-12-19      Pro        1.0  \n",
       "4  2011-04-07      Pro        1.0  \n",
       "5  2013-12-24      Pro        1.0  "
      ]
     },
     "execution_count": 15,
     "metadata": {},
     "output_type": "execute_result"
    }
   ],
   "source": [
    "df_filtered.head()"
   ]
  },
  {
   "cell_type": "code",
   "execution_count": 16,
   "id": "6efa13e8",
   "metadata": {},
   "outputs": [],
   "source": [
    "#add phrase to make belief statement\n",
    "\n",
    "pro_phrase = 'I agree with the following: '\n",
    "con_phrase = 'I disagree with the following: '\n",
    "\n",
    "phrases = []\n",
    "for i in range(len(df_filtered)):\n",
    "    position = df_filtered['position'].iloc[i]\n",
    "    \n",
    "    if position == 'Pro':\n",
    "        phrases.append(pro_phrase + df_filtered['debate_title'].iloc[i])\n",
    "    else:\n",
    "        phrases.append(con_phrase + df_filtered['debate_title'].iloc[i])"
   ]
  },
  {
   "cell_type": "code",
   "execution_count": 17,
   "id": "1ad98a25",
   "metadata": {},
   "outputs": [
    {
     "data": {
      "text/plain": [
       "197306"
      ]
     },
     "execution_count": 17,
     "metadata": {},
     "output_type": "execute_result"
    }
   ],
   "source": [
    "len(phrases)"
   ]
  },
  {
   "cell_type": "code",
   "execution_count": 18,
   "id": "6597aee7",
   "metadata": {},
   "outputs": [
    {
     "name": "stderr",
     "output_type": "stream",
     "text": [
      "/var/folders/r8/jdw1p2tj6jn34wf676kcsw_r0000gn/T/ipykernel_81853/3615872255.py:1: SettingWithCopyWarning: \n",
      "A value is trying to be set on a copy of a slice from a DataFrame.\n",
      "Try using .loc[row_indexer,col_indexer] = value instead\n",
      "\n",
      "See the caveats in the documentation: https://pandas.pydata.org/pandas-docs/stable/user_guide/indexing.html#returning-a-view-versus-a-copy\n",
      "  df_filtered['belief_statement'] = phrases\n"
     ]
    }
   ],
   "source": [
    "df_filtered['belief_statement'] = phrases"
   ]
  },
  {
   "cell_type": "code",
   "execution_count": 20,
   "id": "93939cad",
   "metadata": {},
   "outputs": [],
   "source": [
    "df_filtered.to_pickle('../dataset/03_Final_dataframe/df_ddo_including_only_truebeliefs(N197306).p')"
   ]
  },
  {
   "cell_type": "code",
   "execution_count": 21,
   "id": "f3694bdb",
   "metadata": {},
   "outputs": [
    {
     "data": {
      "text/plain": [
       "197306"
      ]
     },
     "execution_count": 21,
     "metadata": {},
     "output_type": "execute_result"
    }
   ],
   "source": [
    "len(df_filtered)"
   ]
  },
  {
   "cell_type": "markdown",
   "id": "e224979b",
   "metadata": {},
   "source": [
    "### Remove duplicated data"
   ]
  },
  {
   "cell_type": "code",
   "execution_count": 29,
   "id": "d09e9668",
   "metadata": {},
   "outputs": [
    {
     "data": {
      "text/plain": [
       "4999"
      ]
     },
     "execution_count": 29,
     "metadata": {},
     "output_type": "execute_result"
    }
   ],
   "source": [
    "len(df_filtered[df_filtered.duplicated()])"
   ]
  },
  {
   "cell_type": "code",
   "execution_count": 30,
   "id": "10f3e2fe",
   "metadata": {},
   "outputs": [],
   "source": [
    "df_filtered_nodup = df_filtered[~df_filtered.duplicated()]"
   ]
  },
  {
   "cell_type": "code",
   "execution_count": 31,
   "id": "732a233f",
   "metadata": {},
   "outputs": [
    {
     "data": {
      "text/plain": [
       "192307"
      ]
     },
     "execution_count": 31,
     "metadata": {},
     "output_type": "execute_result"
    }
   ],
   "source": [
    "len(df_filtered_nodup)"
   ]
  },
  {
   "cell_type": "code",
   "execution_count": 32,
   "id": "15748ec6",
   "metadata": {},
   "outputs": [],
   "source": [
    "df_filtered_nodup.to_pickle('../dataset/03_Final_dataframe/df_ddo_including_only_truebeliefs_nodup(N192307).p')"
   ]
  },
  {
   "cell_type": "code",
   "execution_count": null,
   "id": "ffcc9ee5",
   "metadata": {},
   "outputs": [],
   "source": []
  }
 ],
 "metadata": {
  "kernelspec": {
   "display_name": "Python 3 (ipykernel)",
   "language": "python",
   "name": "python3"
  },
  "language_info": {
   "codemirror_mode": {
    "name": "ipython",
    "version": 3
   },
   "file_extension": ".py",
   "mimetype": "text/x-python",
   "name": "python",
   "nbconvert_exporter": "python",
   "pygments_lexer": "ipython3",
   "version": "3.9.10"
  }
 },
 "nbformat": 4,
 "nbformat_minor": 5
}
