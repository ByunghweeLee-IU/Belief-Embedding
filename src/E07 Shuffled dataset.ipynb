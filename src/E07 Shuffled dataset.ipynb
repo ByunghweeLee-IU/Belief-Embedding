{
 "cells": [
  {
   "cell_type": "code",
   "execution_count": 1,
   "id": "b53aaab3-dc15-49f7-a38b-841a8189165a",
   "metadata": {},
   "outputs": [],
   "source": [
    "import pickle\n",
    "from tqdm import tqdm\n",
    "import numpy as np\n",
    "import pandas as pd"
   ]
  },
  {
   "cell_type": "markdown",
   "id": "c409f944-16b3-4995-a829-64cf53349419",
   "metadata": {},
   "source": [
    "## Generation of shuffled dataset"
   ]
  },
  {
   "cell_type": "code",
   "execution_count": 12,
   "id": "69101e5d-4a97-464c-b3bf-0106e91ff02a",
   "metadata": {},
   "outputs": [],
   "source": [
    "with open('../dataset/04_K-fold_triplets/train_triplet_idx0.p', 'rb') as f:\n",
    "    train_triplets = pickle.load(f)\n",
    "with open('../dataset/04_K-fold_triplets/test_triplet_idx0.p', 'rb') as f:\n",
    "    test_triplets = pickle.load(f)    "
   ]
  },
  {
   "cell_type": "code",
   "execution_count": 15,
   "id": "e3870b8e-15a1-4dee-a008-c706c21001bc",
   "metadata": {},
   "outputs": [
    {
     "data": {
      "text/plain": [
       "['I disagree with the following: The Environmental Protection agency finds no basis for existence in the U.S. Constitution',\n",
       " 'I disagree with the following: The Egg came before the Chicken [Pure logic] [No evidence]',\n",
       " 'I agree with the following: The Environmental Protection agency finds no basis for existence in the U.S. Constitution']"
      ]
     },
     "execution_count": 15,
     "metadata": {},
     "output_type": "execute_result"
    }
   ],
   "source": [
    "train_triplets[0]"
   ]
  },
  {
   "cell_type": "code",
   "execution_count": 14,
   "id": "70dbc003-ab7f-47da-a8c1-85f4419b00f2",
   "metadata": {},
   "outputs": [],
   "source": [
    "def swap_triplet(t1, t2, idx):\n",
    "    \"\"\"idx: index of element that needs to be swapped. 0, 1, or 2 \"\"\"\n",
    "    t1[idx], t2[idx] = t2[idx], t1[idx]\n",
    "    return t1, t2"
   ]
  },
  {
   "cell_type": "code",
   "execution_count": 16,
   "id": "663e8d4d-39ba-49b9-9abf-620563d205ba",
   "metadata": {},
   "outputs": [],
   "source": [
    "#shuffle train triplets \n",
    "for i in range(len(train_triplets)):\n",
    "\n",
    "    rand_idx1, rand_idx2 = i, i \n",
    "    \n",
    "    while rand_idx1 == i: \n",
    "        rand_idx1 = np.random.randint(len(train_triplets))\n",
    "    \n",
    "    while rand_idx2 == i: \n",
    "        rand_idx2 = np.random.randint(len(train_triplets))\n",
    "    \n",
    "    train_triplets[i], train_triplets[rand_idx1] = swap_triplet(train_triplets[i], train_triplets[rand_idx1], 1)\n",
    "    train_triplets[i], train_triplets[rand_idx2] = swap_triplet(train_triplets[i], train_triplets[rand_idx2], 2)\n",
    "    \n",
    "\n",
    "#shuffle test triplets \n",
    "for i in range(len(test_triplets)):\n",
    "\n",
    "    rand_idx1, rand_idx2 = i, i \n",
    "    \n",
    "    while rand_idx1 == i: \n",
    "        rand_idx1 = np.random.randint(len(test_triplets))\n",
    "    \n",
    "    while rand_idx2 == i: \n",
    "        rand_idx2 = np.random.randint(len(test_triplets))\n",
    "    \n",
    "    test_triplets[i], test_triplets[rand_idx1] = swap_triplet(test_triplets[i], test_triplets[rand_idx1], 1)\n",
    "    test_triplets[i], test_triplets[rand_idx2] = swap_triplet(test_triplets[i], test_triplets[rand_idx2], 2)\n"
   ]
  },
  {
   "cell_type": "code",
   "execution_count": 17,
   "id": "b5d2d05d-7cc5-4847-b8dd-6896f03d4e65",
   "metadata": {},
   "outputs": [
    {
     "data": {
      "text/plain": [
       "['I disagree with the following: The Environmental Protection agency finds no basis for existence in the U.S. Constitution',\n",
       " 'I agree with the following: tupac owns bigggie',\n",
       " 'I disagree with the following: Should Uniforms Be Worn In School?']"
      ]
     },
     "execution_count": 17,
     "metadata": {},
     "output_type": "execute_result"
    }
   ],
   "source": [
    "train_triplets[0]"
   ]
  },
  {
   "cell_type": "code",
   "execution_count": 18,
   "id": "81ed0ce4-0537-428c-a490-70f1d11b6cca",
   "metadata": {},
   "outputs": [],
   "source": [
    "with open('../dataset/Randomized_triplets/train_triplet_rand-shuffle.p','wb') as f:\n",
    "    pickle.dump(train_triplets, f)\n",
    "\n",
    "with open('../dataset/Randomized_triplets/test_triplet_rand-shuffle.p','wb') as f:\n",
    "    pickle.dump(test_triplets, f)"
   ]
  },
  {
   "cell_type": "code",
   "execution_count": null,
   "id": "632bfa49-5c63-4a6d-bb1f-e107510fd472",
   "metadata": {},
   "outputs": [],
   "source": []
  }
 ],
 "metadata": {
  "kernelspec": {
   "display_name": "Python 3 (ipykernel)",
   "language": "python",
   "name": "python3"
  },
  "language_info": {
   "codemirror_mode": {
    "name": "ipython",
    "version": 3
   },
   "file_extension": ".py",
   "mimetype": "text/x-python",
   "name": "python",
   "nbconvert_exporter": "python",
   "pygments_lexer": "ipython3",
   "version": "3.9.10"
  }
 },
 "nbformat": 4,
 "nbformat_minor": 5
}
