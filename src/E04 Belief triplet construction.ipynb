{
 "cells": [
  {
   "cell_type": "code",
   "execution_count": 1,
   "id": "9b3b6cbc",
   "metadata": {},
   "outputs": [],
   "source": [
    "import pickle\n",
    "import pandas as pd\n",
    "from pandas import Series\n",
    "from tqdm import tqdm\n",
    "import seaborn as sns\n",
    "import numpy as np\n",
    "\n",
    "import matplotlib\n",
    "%matplotlib inline\n",
    "from matplotlib import pyplot as plt\n",
    "from matplotlib import font_manager as fm\n",
    "from matplotlib import rc\n",
    "\n",
    "\n",
    "matplotlib.rcParams['figure.dpi'] = 150\n",
    "f_path = \"/System/Library/Fonts/Helvetica.ttc\"\n",
    "font_name = fm.FontProperties(fname=f_path).get_name()\n",
    "rc('font', family=font_name, size=13)"
   ]
  },
  {
   "cell_type": "code",
   "execution_count": 2,
   "id": "fc4d53ae",
   "metadata": {},
   "outputs": [],
   "source": [
    "df = pd.read_pickle('../dataset/03_Final_dataframe/df_ddo_including_only_truebeliefs_nodup(N192307).p')"
   ]
  },
  {
   "cell_type": "code",
   "execution_count": 3,
   "id": "4e3b9470",
   "metadata": {},
   "outputs": [
    {
     "data": {
      "text/html": [
       "<div>\n",
       "<style scoped>\n",
       "    .dataframe tbody tr th:only-of-type {\n",
       "        vertical-align: middle;\n",
       "    }\n",
       "\n",
       "    .dataframe tbody tr th {\n",
       "        vertical-align: top;\n",
       "    }\n",
       "\n",
       "    .dataframe thead th {\n",
       "        text-align: right;\n",
       "    }\n",
       "</style>\n",
       "<table border=\"1\" class=\"dataframe\">\n",
       "  <thead>\n",
       "    <tr style=\"text-align: right;\">\n",
       "      <th></th>\n",
       "      <th>debate_key</th>\n",
       "      <th>debate_title</th>\n",
       "      <th>username</th>\n",
       "      <th>debate_date</th>\n",
       "      <th>position</th>\n",
       "      <th>is_belief</th>\n",
       "      <th>belief_statement</th>\n",
       "    </tr>\n",
       "  </thead>\n",
       "  <tbody>\n",
       "    <tr>\n",
       "      <th>1</th>\n",
       "      <td>.-Audis-are-junkers-except-to-rich-kids-with-l...</td>\n",
       "      <td>. Audis are junkers, except to rich kids with ...</td>\n",
       "      <td>Max.Wallace</td>\n",
       "      <td>2014-09-04</td>\n",
       "      <td>Pro</td>\n",
       "      <td>1.0</td>\n",
       "      <td>I agree with the following: . Audis are junker...</td>\n",
       "    </tr>\n",
       "    <tr>\n",
       "      <th>2</th>\n",
       "      <td>....-Former-Secretary-of-State-Madeleine-Albri...</td>\n",
       "      <td>....\"Former Secretary of State Madeleine Albri...</td>\n",
       "      <td>Lookingatissues</td>\n",
       "      <td>2017-01-30</td>\n",
       "      <td>Pro</td>\n",
       "      <td>1.0</td>\n",
       "      <td>I agree with the following: ....\"Former Secret...</td>\n",
       "    </tr>\n",
       "    <tr>\n",
       "      <th>3</th>\n",
       "      <td>...Words-can-t-hurt-me-any./1/</td>\n",
       "      <td>...Words can't hurt me any.</td>\n",
       "      <td>NonInDelicto</td>\n",
       "      <td>2007-12-19</td>\n",
       "      <td>Pro</td>\n",
       "      <td>1.0</td>\n",
       "      <td>I agree with the following: ...Words can't hur...</td>\n",
       "    </tr>\n",
       "    <tr>\n",
       "      <th>4</th>\n",
       "      <td>.9-repeated-is-equal-to-1./1/</td>\n",
       "      <td>.9 repeated is equal to 1.</td>\n",
       "      <td>cowpie1998</td>\n",
       "      <td>2011-04-07</td>\n",
       "      <td>Pro</td>\n",
       "      <td>1.0</td>\n",
       "      <td>I agree with the following: .9 repeated is equ...</td>\n",
       "    </tr>\n",
       "    <tr>\n",
       "      <th>5</th>\n",
       "      <td>.99-is-equal-to-one./1/</td>\n",
       "      <td>.99 is equal to one.</td>\n",
       "      <td>SweetCrackerJack</td>\n",
       "      <td>2013-12-24</td>\n",
       "      <td>Pro</td>\n",
       "      <td>1.0</td>\n",
       "      <td>I agree with the following: .99 is equal to one.</td>\n",
       "    </tr>\n",
       "  </tbody>\n",
       "</table>\n",
       "</div>"
      ],
      "text/plain": [
       "                                          debate_key  \\\n",
       "1  .-Audis-are-junkers-except-to-rich-kids-with-l...   \n",
       "2  ....-Former-Secretary-of-State-Madeleine-Albri...   \n",
       "3                     ...Words-can-t-hurt-me-any./1/   \n",
       "4                      .9-repeated-is-equal-to-1./1/   \n",
       "5                            .99-is-equal-to-one./1/   \n",
       "\n",
       "                                        debate_title          username  \\\n",
       "1  . Audis are junkers, except to rich kids with ...       Max.Wallace   \n",
       "2  ....\"Former Secretary of State Madeleine Albri...   Lookingatissues   \n",
       "3                        ...Words can't hurt me any.      NonInDelicto   \n",
       "4                         .9 repeated is equal to 1.        cowpie1998   \n",
       "5                               .99 is equal to one.  SweetCrackerJack   \n",
       "\n",
       "  debate_date position  is_belief  \\\n",
       "1  2014-09-04      Pro        1.0   \n",
       "2  2017-01-30      Pro        1.0   \n",
       "3  2007-12-19      Pro        1.0   \n",
       "4  2011-04-07      Pro        1.0   \n",
       "5  2013-12-24      Pro        1.0   \n",
       "\n",
       "                                    belief_statement  \n",
       "1  I agree with the following: . Audis are junker...  \n",
       "2  I agree with the following: ....\"Former Secret...  \n",
       "3  I agree with the following: ...Words can't hur...  \n",
       "4  I agree with the following: .9 repeated is equ...  \n",
       "5   I agree with the following: .99 is equal to one.  "
      ]
     },
     "execution_count": 3,
     "metadata": {},
     "output_type": "execute_result"
    }
   ],
   "source": [
    "df.head()"
   ]
  },
  {
   "cell_type": "code",
   "execution_count": 4,
   "id": "a84aca31",
   "metadata": {},
   "outputs": [
    {
     "name": "stdout",
     "output_type": "stream",
     "text": [
      "data size: 192307\n",
      "num debates: 65861\n",
      "num debate title: 59986\n",
      "num users: 40280\n",
      "average participation: 4.7742552135054614\n"
     ]
    }
   ],
   "source": [
    "print('data size:', len(df))\n",
    "print('num debates:', len(df['debate_key'].unique()))\n",
    "print('num debate title:', len(df['debate_title'].unique()))\n",
    "print('num users:', len(df['username'].unique()))\n",
    "print('average participation:', len(df)/len(df['username'].unique())  )"
   ]
  },
  {
   "cell_type": "code",
   "execution_count": 5,
   "id": "41a76869",
   "metadata": {},
   "outputs": [
    {
     "data": {
      "text/plain": [
       "4.7742552135054614"
      ]
     },
     "execution_count": 5,
     "metadata": {},
     "output_type": "execute_result"
    }
   ],
   "source": [
    "192307/40280"
   ]
  },
  {
   "cell_type": "code",
   "execution_count": 6,
   "id": "2511854b",
   "metadata": {},
   "outputs": [
    {
     "data": {
      "text/plain": [
       "119972"
      ]
     },
     "execution_count": 6,
     "metadata": {},
     "output_type": "execute_result"
    }
   ],
   "source": [
    "len(df['belief_statement'].unique())"
   ]
  },
  {
   "cell_type": "markdown",
   "id": "926cba98",
   "metadata": {},
   "source": [
    "## 5-fold dataset "
   ]
  },
  {
   "cell_type": "code",
   "execution_count": 7,
   "id": "0e1516fe",
   "metadata": {},
   "outputs": [],
   "source": [
    "from sklearn.model_selection import train_test_split"
   ]
  },
  {
   "cell_type": "code",
   "execution_count": 8,
   "id": "af523257",
   "metadata": {},
   "outputs": [
    {
     "name": "stdout",
     "output_type": "stream",
     "text": [
      "There are 59986 unique debates in debate.org dataset\n"
     ]
    }
   ],
   "source": [
    "debate_titles = df.debate_title.unique()\n",
    "print(f\"There are {len(debate_titles)} unique debates in debate.org dataset\")"
   ]
  },
  {
   "cell_type": "code",
   "execution_count": 9,
   "id": "eaa1c139",
   "metadata": {},
   "outputs": [
    {
     "data": {
      "text/plain": [
       "5"
      ]
     },
     "execution_count": 9,
     "metadata": {},
     "output_type": "execute_result"
    }
   ],
   "source": [
    "from sklearn.model_selection import KFold\n",
    "\n",
    "kf = KFold(n_splits=5)\n",
    "kf.get_n_splits(debate_titles)"
   ]
  },
  {
   "cell_type": "code",
   "execution_count": 10,
   "id": "a6fb4538",
   "metadata": {},
   "outputs": [
    {
     "name": "stdout",
     "output_type": "stream",
     "text": [
      "Fold 0:\n",
      "  Train: index=[11998 11999 12000 ... 59983 59984 59985]\n",
      "  Test:  index=[    0     1     2 ... 11995 11996 11997]\n",
      "47988 11998\n",
      "Fold 1:\n",
      "  Train: index=[    0     1     2 ... 59983 59984 59985]\n",
      "  Test:  index=[11998 11999 12000 ... 23992 23993 23994]\n",
      "47989 11997\n",
      "Fold 2:\n",
      "  Train: index=[    0     1     2 ... 59983 59984 59985]\n",
      "  Test:  index=[23995 23996 23997 ... 35989 35990 35991]\n",
      "47989 11997\n",
      "Fold 3:\n",
      "  Train: index=[    0     1     2 ... 59983 59984 59985]\n",
      "  Test:  index=[35992 35993 35994 ... 47986 47987 47988]\n",
      "47989 11997\n",
      "Fold 4:\n",
      "  Train: index=[    0     1     2 ... 47986 47987 47988]\n",
      "  Test:  index=[47989 47990 47991 ... 59983 59984 59985]\n",
      "47989 11997\n"
     ]
    }
   ],
   "source": [
    "train_indices = []\n",
    "test_indices  = []\n",
    "\n",
    "for i, (train_index, test_index) in enumerate(kf.split(debate_titles)):\n",
    "    print(f\"Fold {i}:\")\n",
    "    print(f\"  Train: index={train_index}\")  \n",
    "    print(f\"  Test:  index={test_index}\")    \n",
    "    print(len(train_index), len(test_index))\n",
    "\n",
    "    train_indices.append(train_index)\n",
    "    test_indices.append(test_index)"
   ]
  },
  {
   "cell_type": "code",
   "execution_count": 34,
   "id": "2f780d40",
   "metadata": {},
   "outputs": [
    {
     "name": "stdout",
     "output_type": "stream",
     "text": [
      "Train size: 153698 Test size: 38609\n",
      "Train size: 151618 Test size: 40689\n",
      "Train size: 151524 Test size: 40783\n",
      "Train size: 157602 Test size: 34705\n",
      "Train size: 154786 Test size: 37521\n"
     ]
    }
   ],
   "source": [
    "for i in range(5):\n",
    "    \n",
    "    train_titles = debate_titles[train_indices[i]]\n",
    "    test_titles = debate_titles[test_indices[i]]\n",
    "    df_train = df[df['debate_title'].isin(train_titles)]\n",
    "    df_test  = df[df['debate_title'].isin(test_titles)]\n",
    "        \n",
    "    df_train.to_pickle('../dataset/04_K-fold_dataset/df_train_idx%d.p'%(i))\n",
    "    df_test.to_pickle('../dataset/04_K-fold_dataset/df_test_idx%d.p'%(i))\n",
    "    \n",
    "    print(\"Train size:\",len(df_train), \"Test size:\",len(df_test))"
   ]
  },
  {
   "cell_type": "markdown",
   "id": "ebaa04d1",
   "metadata": {},
   "source": [
    "## Triplet dataset 생성"
   ]
  },
  {
   "cell_type": "code",
   "execution_count": 35,
   "id": "15b3b19b",
   "metadata": {},
   "outputs": [],
   "source": [
    "from collections import defaultdict \n",
    "from itertools import combinations"
   ]
  },
  {
   "cell_type": "code",
   "execution_count": 36,
   "id": "c48dfa02",
   "metadata": {},
   "outputs": [],
   "source": [
    "pro_phrase = 'I agree with the following: '\n",
    "con_phrase = 'I disagree with the following: '\n",
    "\n",
    "def get_reverse_phrase(phrase):\n",
    "    if phrase == pro_phrase:\n",
    "        return con_phrase\n",
    "    elif phrase == con_phrase:\n",
    "        return pro_phrase\n",
    "    else: \n",
    "        print('error')"
   ]
  },
  {
   "cell_type": "code",
   "execution_count": 37,
   "id": "f66d4c64",
   "metadata": {},
   "outputs": [],
   "source": [
    "def get_opposite_belief(belief_statement):\n",
    "    position = \" \".join(belief_statement.split()[:5]) + ' '\n",
    "    title = \" \".join(belief_statement.split()[5:]) \n",
    "    \n",
    "    position_r = get_reverse_phrase(position)\n",
    "    opposite_belief = position_r + title\n",
    "    return opposite_belief"
   ]
  },
  {
   "cell_type": "code",
   "execution_count": 38,
   "id": "73daeebf",
   "metadata": {},
   "outputs": [
    {
     "data": {
      "text/plain": [
       "'I agree with the following: abc c c'"
      ]
     },
     "execution_count": 38,
     "metadata": {},
     "output_type": "execute_result"
    }
   ],
   "source": [
    "get_opposite_belief('I disagree with the following: abc c c ')"
   ]
  },
  {
   "cell_type": "code",
   "execution_count": 39,
   "id": "198ddf3f",
   "metadata": {},
   "outputs": [],
   "source": [
    "def get_belief_cooccurrence_dic(df):\n",
    "    \n",
    "    df_g = df.groupby('username')\n",
    "    corpus = []\n",
    "\n",
    "    for g, data in df_g:\n",
    "\n",
    "        data = data.sort_values(by='debate_date')\n",
    "        user_beliefs = list(data['belief_statement'].unique())\n",
    "        corpus.append(user_beliefs)\n",
    "        \n",
    "    \n",
    "    #co-occuring stance dictionary\n",
    "    belief2list = defaultdict(list)\n",
    "    \n",
    "    for b_list in corpus:\n",
    "        if len(b_list) == 1: \n",
    "            continue\n",
    "\n",
    "        for e1 in b_list:\n",
    "            for e2 in b_list:\n",
    "                if e1 != e2:\n",
    "                    belief2list[e1].append(e2)\n",
    "                    \n",
    "    return belief2list"
   ]
  },
  {
   "cell_type": "code",
   "execution_count": 40,
   "id": "622a0ca9",
   "metadata": {},
   "outputs": [],
   "source": [
    "def get_stance_triplet(belief2list):\n",
    "    \n",
    "    belief_triplet = []\n",
    "\n",
    "    for s in tqdm(belief2list):\n",
    "\n",
    "        anchor = s\n",
    "        positive_samples = belief2list[s] \n",
    "        opposite_belief = get_opposite_belief(s)\n",
    "\n",
    "        if not opposite_belief in belief2list: #use only direct opposite stance as a negative sample\n",
    "            negative_samples = [opposite_belief]\n",
    "        else:\n",
    "            negative_samples = [opposite_belief] + belief2list[opposite_belief]\n",
    "\n",
    "        #if vote history is too long: Sample 5 stances from history \n",
    "        thres = 5\n",
    "        if len(positive_samples) > thres-1:\n",
    "            positive_samples = np.random.choice(positive_samples, size=thres, replace=False)\n",
    "\n",
    "        if len(negative_samples) > thres-1:\n",
    "            #to ensure including directly opposite stance\n",
    "            other_samples = np.random.choice(negative_samples[1:], size=thres-1, replace=False)        \n",
    "            negative_samples = np.concatenate((negative_samples[:1], other_samples)) \n",
    "\n",
    "        #make triplet examples \n",
    "        for pos in positive_samples:\n",
    "            for neg in negative_samples:\n",
    "                example = [anchor, pos, neg]\n",
    "                belief_triplet.append(example)\n",
    "    \n",
    "    return belief_triplet"
   ]
  },
  {
   "cell_type": "code",
   "execution_count": 41,
   "id": "e7dfd079",
   "metadata": {
    "scrolled": true
   },
   "outputs": [
    {
     "name": "stderr",
     "output_type": "stream",
     "text": [
      "  0%|                                                                                                            | 0/5 [00:00<?, ?it/s]\n",
      "  0%|                                                                                                        | 0/80441 [00:00<?, ?it/s]\u001b[A\n",
      "  0%|▍                                                                                           | 366/80441 [00:00<00:21, 3658.43it/s]\u001b[A\n",
      "  1%|▊                                                                                           | 732/80441 [00:00<00:22, 3573.77it/s]\u001b[A\n",
      "  1%|█▏                                                                                         | 1097/80441 [00:00<00:21, 3606.78it/s]\u001b[A\n",
      "  2%|█▉                                                                                         | 1761/80441 [00:00<00:16, 4793.48it/s]\u001b[A\n",
      "  3%|██▉                                                                                        | 2627/80441 [00:00<00:12, 6176.39it/s]\u001b[A\n",
      "  5%|████▎                                                                                      | 3852/80441 [00:00<00:09, 8233.04it/s]\u001b[A\n",
      "  6%|█████▌                                                                                     | 4953/80441 [00:00<00:08, 9136.23it/s]\u001b[A\n",
      "  8%|██████▊                                                                                    | 6046/80441 [00:00<00:07, 9700.47it/s]\u001b[A\n",
      "  9%|███████▉                                                                                   | 7017/80441 [00:00<00:07, 9644.43it/s]\u001b[A\n",
      " 10%|█████████                                                                                 | 8126/80441 [00:01<00:07, 10082.27it/s]\u001b[A\n",
      " 11%|██████████▏                                                                               | 9147/80441 [00:01<00:07, 10113.41it/s]\u001b[A\n",
      " 13%|███████████▌                                                                             | 10401/80441 [00:01<00:06, 10841.85it/s]\u001b[A\n",
      " 14%|████████████▋                                                                            | 11521/80441 [00:01<00:06, 10947.22it/s]\u001b[A\n",
      " 16%|█████████████▉                                                                           | 12617/80441 [00:01<00:06, 10890.65it/s]\u001b[A\n",
      " 17%|███████████████▏                                                                         | 13775/80441 [00:01<00:06, 11091.60it/s]\u001b[A\n",
      " 19%|████████████████▌                                                                        | 14991/80441 [00:01<00:05, 11410.15it/s]\u001b[A\n",
      " 20%|█████████████████▊                                                                       | 16133/80441 [00:01<00:06, 10058.87it/s]\u001b[A\n",
      " 22%|███████████████████▏                                                                     | 17338/80441 [00:01<00:05, 10604.36it/s]\u001b[A\n",
      " 23%|████████████████████▍                                                                    | 18500/80441 [00:01<00:05, 10888.87it/s]\u001b[A\n",
      " 25%|█████████████████████▊                                                                   | 19726/80441 [00:02<00:05, 11278.26it/s]\u001b[A\n",
      " 26%|███████████████████████▏                                                                 | 20992/80441 [00:02<00:05, 11676.77it/s]\u001b[A\n",
      " 28%|████████████████████████▌                                                                | 22172/80441 [00:02<00:05, 11596.41it/s]\u001b[A\n",
      " 29%|█████████████████████████▊                                                               | 23341/80441 [00:02<00:04, 11596.72it/s]\u001b[A\n",
      " 31%|███████████████████████████▍                                                             | 24804/80441 [00:02<00:04, 12489.29it/s]\u001b[A\n",
      " 33%|████████████████████████████▉                                                            | 26150/80441 [00:02<00:04, 12776.54it/s]\u001b[A\n",
      " 34%|██████████████████████████████▌                                                          | 27611/80441 [00:02<00:03, 13311.30it/s]\u001b[A\n",
      " 36%|████████████████████████████████                                                         | 28998/80441 [00:02<00:03, 13475.66it/s]\u001b[A\n",
      " 38%|█████████████████████████████████▌                                                       | 30349/80441 [00:02<00:03, 13230.32it/s]\u001b[A\n",
      " 39%|███████████████████████████████████                                                      | 31675/80441 [00:02<00:03, 12410.66it/s]\u001b[A\n",
      " 41%|████████████████████████████████████▍                                                    | 32928/80441 [00:03<00:03, 12343.61it/s]\u001b[A\n",
      " 43%|█████████████████████████████████████▉                                                   | 34276/80441 [00:03<00:03, 12666.10it/s]\u001b[A\n",
      " 44%|███████████████████████████████████████▊                                                  | 35550/80441 [00:03<00:09, 4634.05it/s]\u001b[A\n",
      " 46%|█████████████████████████████████████████▏                                                | 36796/80441 [00:03<00:07, 5663.27it/s]\u001b[A\n",
      " 48%|██████████████████████████████████████████▉                                               | 38362/80441 [00:04<00:05, 7244.26it/s]\u001b[A\n",
      " 49%|████████████████████████████████████████████▍                                             | 39719/80441 [00:04<00:04, 8408.39it/s]\u001b[A\n",
      " 51%|█████████████████████████████████████████████▊                                           | 41357/80441 [00:04<00:03, 10069.20it/s]\u001b[A\n",
      " 53%|███████████████████████████████████████████████▎                                         | 42783/80441 [00:04<00:03, 11027.63it/s]\u001b[A\n",
      " 55%|████████████████████████████████████████████████▊                                        | 44164/80441 [00:04<00:03, 11652.40it/s]\u001b[A\n",
      " 57%|██████████████████████████████████████████████████▍                                      | 45536/80441 [00:04<00:03, 11382.19it/s]\u001b[A\n",
      " 59%|████████████████████████████████████████████████████▍                                    | 47347/80441 [00:04<00:02, 13112.46it/s]\u001b[A\n",
      " 61%|██████████████████████████████████████████████████████▎                                  | 49039/80441 [00:04<00:02, 14129.16it/s]\u001b[A\n",
      " 63%|███████████████████████████████████████████████████████▉                                 | 50555/80441 [00:04<00:02, 14357.86it/s]\u001b[A\n",
      " 65%|█████████████████████████████████████████████████████████▉                               | 52409/80441 [00:05<00:01, 15540.80it/s]\u001b[A\n",
      " 67%|███████████████████████████████████████████████████████████▉                             | 54207/80441 [00:05<00:01, 16233.84it/s]\u001b[A\n",
      " 69%|█████████████████████████████████████████████████████████████▊                           | 55875/80441 [00:05<00:01, 15718.60it/s]\u001b[A\n",
      " 72%|████████████████████████████████████████████████████████████████                         | 57901/80441 [00:05<00:01, 17014.96it/s]\u001b[A\n",
      " 74%|█████████████████████████████████████████████████████████████████▉                       | 59633/80441 [00:05<00:01, 16838.73it/s]\u001b[A\n",
      " 76%|███████████████████████████████████████████████████████████████████▊                     | 61339/80441 [00:05<00:01, 16518.62it/s]\u001b[A\n",
      " 78%|█████████████████████████████████████████████████████████████████████▋                   | 63007/80441 [00:05<00:01, 16277.93it/s]\u001b[A\n",
      " 81%|███████████████████████████████████████████████████████████████████████▊                 | 64925/80441 [00:05<00:00, 17111.40it/s]\u001b[A\n",
      " 83%|█████████████████████████████████████████████████████████████████████████▋               | 66648/80441 [00:05<00:00, 16470.91it/s]\u001b[A\n",
      " 85%|███████████████████████████████████████████████████████████████████████████▋             | 68438/80441 [00:05<00:00, 16878.92it/s]\u001b[A\n",
      " 87%|█████████████████████████████████████████████████████████████████████████████▌           | 70137/80441 [00:06<00:00, 12744.37it/s]\u001b[A\n",
      " 90%|████████████████████████████████████████████████████████████████████████████████▏        | 72523/80441 [00:06<00:00, 15386.71it/s]\u001b[A\n",
      " 93%|██████████████████████████████████████████████████████████████████████████████████▉      | 74950/80441 [00:06<00:00, 17637.84it/s]\u001b[A\n",
      " 96%|█████████████████████████████████████████████████████████████████████████████████████▌   | 77346/80441 [00:06<00:00, 19318.41it/s]\u001b[A\n"
     ]
    },
    {
     "name": "stderr",
     "output_type": "stream",
     "text": [
      "100%|█████████████████████████████████████████████████████████████████████████████████████████| 80441/80441 [00:06<00:00, 12120.82it/s]\u001b[A\n",
      "\n",
      "  0%|                                                                                                        | 0/16939 [00:00<?, ?it/s]\u001b[A\n",
      " 14%|█████████████                                                                             | 2450/16939 [00:00<00:00, 24497.34it/s]\u001b[A\n",
      " 29%|██████████████████████████▎                                                                | 4900/16939 [00:00<00:01, 6240.92it/s]\u001b[A\n",
      " 48%|███████████████████████████████████████████▏                                              | 8133/16939 [00:00<00:00, 10839.93it/s]\u001b[A\n",
      " 70%|█████████████████████████████████████████████████████████████▉                           | 11788/16939 [00:00<00:00, 16011.82it/s]\u001b[A\n",
      "100%|█████████████████████████████████████████████████████████████████████████████████████████| 16939/16939 [00:01<00:00, 16491.50it/s]\u001b[A\n",
      " 20%|████████████████████                                                                                | 1/5 [00:21<01:25, 21.47s/it]\n",
      "  0%|                                                                                                        | 0/80404 [00:00<?, ?it/s]\u001b[A\n",
      "  1%|▌                                                                                           | 438/80404 [00:00<00:18, 4376.49it/s]\u001b[A\n",
      "  1%|█                                                                                           | 876/80404 [00:00<00:20, 3860.37it/s]\u001b[A\n",
      "  2%|█▌                                                                                         | 1360/80404 [00:00<00:18, 4272.04it/s]\u001b[A\n",
      "  3%|██▌                                                                                        | 2249/80404 [00:00<00:12, 6012.46it/s]\u001b[A\n",
      "  4%|███▌                                                                                       | 3192/80404 [00:00<00:10, 7209.25it/s]\u001b[A\n",
      "  5%|████▊                                                                                      | 4303/80404 [00:00<00:08, 8509.30it/s]\u001b[A\n",
      "  7%|██████▏                                                                                    | 5475/80404 [00:00<00:07, 9545.17it/s]\u001b[A\n",
      "  8%|███████▍                                                                                   | 6554/80404 [00:00<00:07, 9926.09it/s]\u001b[A\n",
      " 10%|████████▌                                                                                 | 7692/80404 [00:00<00:07, 10375.49it/s]\u001b[A\n",
      " 11%|█████████▊                                                                                | 8734/80404 [00:01<00:06, 10249.87it/s]\u001b[A\n",
      " 12%|███████████                                                                              | 10045/80404 [00:01<00:06, 11113.37it/s]\u001b[A\n",
      " 14%|████████████▍                                                                            | 11290/80404 [00:01<00:06, 11507.43it/s]\u001b[A\n",
      " 15%|█████████████▊                                                                           | 12444/80404 [00:01<00:06, 11326.03it/s]\u001b[A\n",
      " 17%|███████████████                                                                          | 13579/80404 [00:01<00:06, 11073.89it/s]\u001b[A\n",
      " 18%|████████████████▍                                                                        | 14819/80404 [00:01<00:05, 11459.65it/s]\u001b[A\n",
      " 20%|█████████████████▋                                                                       | 15968/80404 [00:01<00:06, 10202.59it/s]\u001b[A\n",
      " 21%|███████████████████▏                                                                      | 17134/80404 [00:02<00:14, 4239.05it/s]\u001b[A\n",
      " 23%|████████████████████▍                                                                     | 18219/80404 [00:02<00:12, 5129.83it/s]\u001b[A\n",
      " 24%|█████████████████████▊                                                                    | 19483/80404 [00:02<00:09, 6341.56it/s]\u001b[A\n",
      " 26%|███████████████████████▏                                                                  | 20664/80404 [00:02<00:08, 7365.14it/s]\u001b[A\n",
      " 27%|████████████████████████▌                                                                 | 21895/80404 [00:02<00:06, 8409.16it/s]\u001b[A\n",
      " 29%|█████████████████████████▉                                                                | 23137/80404 [00:02<00:06, 9336.54it/s]\u001b[A\n",
      " 31%|███████████████████████████▎                                                             | 24659/80404 [00:02<00:05, 10799.36it/s]\u001b[A\n",
      " 32%|████████████████████████████▉                                                            | 26097/80404 [00:03<00:04, 11737.09it/s]\u001b[A\n",
      " 34%|██████████████████████████████▎                                                          | 27440/80404 [00:03<00:04, 12197.03it/s]\u001b[A\n",
      " 36%|███████████████████████████████▉                                                         | 28824/80404 [00:03<00:04, 12656.25it/s]\u001b[A\n",
      " 38%|█████████████████████████████████▍                                                       | 30192/80404 [00:03<00:03, 12943.95it/s]\u001b[A\n",
      " 39%|██████████████████████████████████▉                                                      | 31540/80404 [00:03<00:03, 12352.26it/s]\u001b[A\n",
      " 41%|████████████████████████████████████▎                                                    | 32818/80404 [00:03<00:03, 12053.22it/s]\u001b[A\n",
      " 43%|█████████████████████████████████████▊                                                   | 34184/80404 [00:03<00:03, 12500.80it/s]\u001b[A\n",
      " 44%|███████████████████████████████████████▍                                                 | 35671/80404 [00:03<00:03, 13176.30it/s]\u001b[A\n",
      " 46%|█████████████████████████████████████████                                                | 37069/80404 [00:03<00:03, 13408.86it/s]\u001b[A\n",
      " 48%|██████████████████████████████████████████▉                                              | 38767/80404 [00:03<00:02, 14446.41it/s]\u001b[A\n",
      " 50%|████████████████████████████████████████████▌                                            | 40225/80404 [00:04<00:02, 14467.31it/s]\u001b[A\n",
      " 52%|██████████████████████████████████████████████▍                                          | 41981/80404 [00:04<00:02, 15364.93it/s]\u001b[A\n",
      " 54%|████████████████████████████████████████████████▏                                        | 43525/80404 [00:04<00:02, 14759.14it/s]\u001b[A\n",
      " 56%|█████████████████████████████████████████████████▊                                       | 45011/80404 [00:04<00:02, 12909.67it/s]\u001b[A\n",
      " 58%|███████████████████████████████████████████████████▉                                     | 46877/80404 [00:04<00:02, 14431.51it/s]\u001b[A\n",
      " 61%|█████████████████████████████████████████████████████▉                                   | 48772/80404 [00:04<00:02, 15661.26it/s]\u001b[A\n",
      " 63%|███████████████████████████████████████████████████████▊                                 | 50386/80404 [00:04<00:01, 15294.91it/s]\u001b[A\n",
      " 65%|█████████████████████████████████████████████████████████▊                               | 52259/80404 [00:04<00:01, 16255.35it/s]\u001b[A\n",
      " 67%|███████████████████████████████████████████████████████████▉                             | 54119/80404 [00:04<00:01, 16924.94it/s]\u001b[A\n",
      " 69%|█████████████████████████████████████████████████████████████▊                           | 55837/80404 [00:05<00:01, 16387.87it/s]\u001b[A\n",
      " 72%|████████████████████████████████████████████████████████████████                         | 57917/80404 [00:05<00:01, 17645.37it/s]\u001b[A\n",
      " 74%|██████████████████████████████████████████████████████████████████▊                       | 59702/80404 [00:05<00:03, 6166.16it/s]\u001b[A\n",
      " 76%|████████████████████████████████████████████████████████████████████▍                     | 61183/80404 [00:06<00:02, 7254.27it/s]\u001b[A\n",
      " 78%|██████████████████████████████████████████████████████████████████████▌                   | 63002/80404 [00:06<00:01, 8921.50it/s]\u001b[A\n",
      " 81%|███████████████████████████████████████████████████████████████████████▉                 | 64943/80404 [00:06<00:01, 10795.26it/s]\u001b[A\n",
      " 83%|█████████████████████████████████████████████████████████████████████████▋               | 66578/80404 [00:06<00:01, 11703.60it/s]\u001b[A\n"
     ]
    },
    {
     "name": "stderr",
     "output_type": "stream",
     "text": [
      " 85%|████████████████████████████████████████████████████████████████████████████             | 68719/80404 [00:06<00:00, 13857.56it/s]\u001b[A\n",
      " 88%|██████████████████████████████████████████████████████████████████████████████           | 70477/80404 [00:06<00:00, 11458.91it/s]\u001b[A\n",
      " 91%|████████████████████████████████████████████████████████████████████████████████▋        | 72915/80404 [00:06<00:00, 14178.27it/s]\u001b[A\n",
      " 94%|███████████████████████████████████████████████████████████████████████████████████▎     | 75279/80404 [00:06<00:00, 16362.75it/s]\u001b[A\n",
      " 97%|█████████████████████████████████████████████████████████████████████████████████████▉   | 77636/80404 [00:06<00:00, 18152.35it/s]\u001b[A\n",
      "100%|█████████████████████████████████████████████████████████████████████████████████████████| 80404/80404 [00:07<00:00, 11359.96it/s]\u001b[A\n",
      "\n",
      "  0%|                                                                                                        | 0/16925 [00:00<?, ?it/s]\u001b[A\n",
      " 14%|████████████▏                                                                             | 2293/16925 [00:00<00:00, 22896.12it/s]\u001b[A\n",
      " 32%|████████████████████████████▍                                                             | 5337/16925 [00:00<00:00, 27315.77it/s]\u001b[A\n",
      " 52%|██████████████████████████████████████████████▌                                           | 8755/16925 [00:00<00:00, 30443.81it/s]\u001b[A\n",
      "100%|█████████████████████████████████████████████████████████████████████████████████████████| 16925/16925 [00:00<00:00, 33855.21it/s]\u001b[A\n",
      " 40%|████████████████████████████████████████                                                            | 2/5 [00:42<01:03, 21.17s/it]\n",
      "  0%|                                                                                                        | 0/80113 [00:00<?, ?it/s]\u001b[A\n",
      "  1%|▍                                                                                           | 417/80113 [00:00<00:19, 4146.95it/s]\u001b[A\n",
      "  1%|▉                                                                                           | 832/80113 [00:00<00:19, 4006.18it/s]\u001b[A\n",
      "  2%|█▌                                                                                         | 1412/80113 [00:00<00:16, 4808.43it/s]\u001b[A\n",
      "  3%|██▋                                                                                        | 2331/80113 [00:00<00:11, 6512.45it/s]\u001b[A\n",
      "  4%|████                                                                                       | 3572/80113 [00:00<00:08, 8614.38it/s]\u001b[A\n",
      "  6%|█████▎                                                                                     | 4701/80113 [00:00<00:07, 9517.47it/s]\u001b[A\n",
      "  7%|██████▋                                                                                   | 5920/80113 [00:00<00:07, 10387.20it/s]\u001b[A\n",
      "  9%|████████                                                                                  | 7135/80113 [00:00<00:06, 10944.87it/s]\u001b[A\n",
      " 10%|█████████▍                                                                                | 8405/80113 [00:00<00:06, 11491.58it/s]\u001b[A\n",
      " 12%|██████████▊                                                                                | 9556/80113 [00:01<00:15, 4432.30it/s]\u001b[A\n",
      " 14%|████████████▎                                                                             | 10966/80113 [00:01<00:11, 5835.18it/s]\u001b[A\n",
      " 15%|█████████████▋                                                                            | 12133/80113 [00:01<00:09, 6836.97it/s]\u001b[A\n",
      " 17%|██████████████▉                                                                           | 13252/80113 [00:01<00:08, 7694.00it/s]\u001b[A\n",
      " 18%|████████████████▍                                                                         | 14623/80113 [00:01<00:07, 9014.35it/s]\u001b[A\n",
      " 20%|█████████████████▋                                                                        | 15793/80113 [00:02<00:06, 9219.34it/s]\u001b[A\n",
      " 21%|███████████████████                                                                      | 17135/80113 [00:02<00:06, 10251.24it/s]\u001b[A\n",
      " 23%|████████████████████▌                                                                    | 18471/80113 [00:02<00:05, 11058.01it/s]\u001b[A\n",
      " 25%|██████████████████████                                                                   | 19870/80113 [00:02<00:05, 11847.64it/s]\u001b[A\n",
      " 27%|███████████████████████▊                                                                 | 21395/80113 [00:02<00:04, 12793.63it/s]\u001b[A\n",
      " 28%|█████████████████████████▎                                                               | 22748/80113 [00:02<00:04, 12453.04it/s]\u001b[A\n",
      " 30%|███████████████████████████                                                              | 24373/80113 [00:02<00:04, 13517.22it/s]\u001b[A\n",
      " 32%|████████████████████████████▊                                                            | 25978/80113 [00:02<00:03, 14239.55it/s]\u001b[A\n",
      " 34%|██████████████████████████████▌                                                          | 27551/80113 [00:02<00:03, 14669.27it/s]\u001b[A\n",
      " 36%|████████████████████████████████▎                                                        | 29044/80113 [00:02<00:03, 14329.60it/s]\u001b[A\n",
      " 38%|█████████████████████████████████▉                                                       | 30497/80113 [00:03<00:03, 14036.69it/s]\u001b[A\n",
      " 40%|███████████████████████████████████▍                                                     | 31915/80113 [00:03<00:03, 13917.32it/s]\u001b[A\n",
      " 42%|█████████████████████████████████████▏                                                   | 33491/80113 [00:03<00:03, 14447.75it/s]\u001b[A\n",
      " 44%|██████████████████████████████████████▉                                                  | 35016/80113 [00:03<00:03, 14681.49it/s]\u001b[A\n",
      " 46%|████████████████████████████████████████▌                                                | 36492/80113 [00:03<00:03, 14432.54it/s]\u001b[A\n",
      " 48%|██████████████████████████████████████████▍                                              | 38224/80113 [00:03<00:02, 15273.68it/s]\u001b[A\n",
      " 50%|████████████████████████████████████████████▏                                            | 39758/80113 [00:03<00:02, 15289.12it/s]\u001b[A\n",
      " 52%|██████████████████████████████████████████████▎                                          | 41675/80113 [00:03<00:02, 16431.55it/s]\u001b[A\n",
      " 54%|████████████████████████████████████████████████▏                                        | 43323/80113 [00:03<00:02, 16006.16it/s]\u001b[A\n",
      " 56%|█████████████████████████████████████████████████▉                                       | 44929/80113 [00:04<00:02, 14355.78it/s]\u001b[A\n",
      " 59%|████████████████████████████████████████████████████▏                                    | 46935/80113 [00:04<00:02, 15908.62it/s]\u001b[A\n",
      " 61%|██████████████████████████████████████████████████████▌                                   | 48566/80113 [00:04<00:05, 6012.20it/s]\u001b[A\n",
      " 63%|████████████████████████████████████████████████████████▌                                 | 50356/80113 [00:04<00:03, 7563.37it/s]\u001b[A\n",
      " 65%|██████████████████████████████████████████████████████████▊                               | 52321/80113 [00:05<00:02, 9458.70it/s]\u001b[A\n",
      " 68%|████████████████████████████████████████████████████████████▎                            | 54290/80113 [00:05<00:02, 11333.77it/s]\u001b[A\n",
      " 70%|██████████████████████████████████████████████████████████████▌                          | 56328/80113 [00:05<00:01, 13210.49it/s]\u001b[A\n",
      " 73%|█████████████████████████████████████████████████████████████████                        | 58519/80113 [00:05<00:01, 15199.07it/s]\u001b[A\n",
      " 75%|███████████████████████████████████████████████████████████████████▏                     | 60428/80113 [00:05<00:01, 16138.02it/s]\u001b[A\n",
      " 78%|█████████████████████████████████████████████████████████████████████▏                   | 62335/80113 [00:05<00:01, 16159.65it/s]\u001b[A\n",
      " 80%|███████████████████████████████████████████████████████████████████████▌                 | 64470/80113 [00:05<00:00, 17519.09it/s]\u001b[A\n",
      " 83%|█████████████████████████████████████████████████████████████████████████▋               | 66385/80113 [00:05<00:00, 17599.86it/s]\u001b[A\n"
     ]
    },
    {
     "name": "stderr",
     "output_type": "stream",
     "text": [
      " 86%|████████████████████████████████████████████████████████████████████████████▍            | 68835/80113 [00:05<00:00, 19491.00it/s]\u001b[A\n",
      " 88%|██████████████████████████████████████████████████████████████████████████████▋          | 70881/80113 [00:06<00:00, 15844.94it/s]\u001b[A\n",
      " 92%|█████████████████████████████████████████████████████████████████████████████████▋       | 73545/80113 [00:06<00:00, 18481.30it/s]\u001b[A\n",
      " 95%|████████████████████████████████████████████████████████████████████████████████████▍    | 76040/80113 [00:06<00:00, 20154.80it/s]\u001b[A\n",
      "100%|█████████████████████████████████████████████████████████████████████████████████████████| 80113/80113 [00:06<00:00, 12470.54it/s]\u001b[A\n",
      "\n",
      "  0%|                                                                                                        | 0/17750 [00:00<?, ?it/s]\u001b[A\n",
      " 10%|█████████▏                                                                                | 1801/17750 [00:00<00:00, 18006.58it/s]\u001b[A\n",
      " 23%|████████████████████▌                                                                     | 4058/17750 [00:00<00:00, 20684.89it/s]\u001b[A\n",
      " 38%|██████████████████████████████████                                                        | 6707/17750 [00:00<00:00, 23326.15it/s]\u001b[A\n",
      " 54%|████████████████████████████████████████████████▎                                         | 9531/17750 [00:00<00:00, 25263.73it/s]\u001b[A\n",
      " 71%|██████████████████████████████████████████████████████████████▉                          | 12542/17750 [00:00<00:00, 27009.78it/s]\u001b[A\n",
      "100%|█████████████████████████████████████████████████████████████████████████████████████████| 17750/17750 [00:00<00:00, 26632.30it/s]\u001b[A\n",
      " 60%|████████████████████████████████████████████████████████████                                        | 3/5 [01:02<00:41, 20.80s/it]\n",
      "  0%|                                                                                                        | 0/81503 [00:00<?, ?it/s]\u001b[A\n",
      "  0%|▍                                                                                           | 373/81503 [00:00<00:21, 3716.29it/s]\u001b[A\n",
      "  1%|▊                                                                                           | 745/81503 [00:00<00:23, 3472.54it/s]\u001b[A\n",
      "  1%|█▏                                                                                         | 1094/81503 [00:00<00:23, 3386.93it/s]\u001b[A\n",
      "  2%|█▉                                                                                         | 1684/81503 [00:00<00:18, 4323.03it/s]\u001b[A\n",
      "  3%|██▋                                                                                        | 2423/81503 [00:00<00:14, 5393.23it/s]\u001b[A\n",
      "  4%|███▌                                                                                       | 3156/81503 [00:00<00:12, 6029.84it/s]\u001b[A\n",
      "  5%|████▊                                                                                      | 4267/81503 [00:00<00:10, 7662.49it/s]\u001b[A\n",
      "  6%|█████▊                                                                                     | 5231/81503 [00:00<00:09, 8279.49it/s]\u001b[A\n",
      "  8%|███████                                                                                    | 6312/81503 [00:00<00:08, 9061.74it/s]\u001b[A\n",
      "  9%|████████▏                                                                                  | 7328/81503 [00:01<00:07, 9397.21it/s]\u001b[A\n",
      " 10%|█████████▎                                                                                 | 8393/81503 [00:01<00:07, 9778.54it/s]\u001b[A\n",
      " 12%|██████████▍                                                                                | 9373/81503 [00:01<00:07, 9633.78it/s]\u001b[A\n",
      " 13%|███████████▌                                                                             | 10612/81503 [00:01<00:06, 10454.73it/s]\u001b[A\n",
      " 14%|████████████▊                                                                            | 11768/81503 [00:01<00:06, 10779.55it/s]\u001b[A\n",
      " 16%|██████████████                                                                           | 12848/81503 [00:01<00:06, 10544.40it/s]\u001b[A\n",
      " 17%|███████████████▏                                                                         | 13905/81503 [00:01<00:06, 10430.59it/s]\u001b[A\n",
      " 19%|████████████████▌                                                                        | 15147/81503 [00:01<00:06, 11004.81it/s]\u001b[A\n",
      " 20%|█████████████████▉                                                                        | 16250/81503 [00:01<00:06, 9744.97it/s]\u001b[A\n",
      " 21%|███████████████████                                                                      | 17422/81503 [00:01<00:06, 10269.63it/s]\u001b[A\n",
      " 23%|████████████████████▏                                                                    | 18474/81503 [00:02<00:06, 10077.76it/s]\u001b[A\n",
      " 24%|█████████████████████▌                                                                   | 19762/81503 [00:02<00:05, 10860.84it/s]\u001b[A\n",
      " 26%|██████████████████████▉                                                                  | 20983/81503 [00:02<00:05, 11245.51it/s]\u001b[A\n",
      " 27%|████████████████████████▎                                                                | 22313/81503 [00:02<00:05, 11835.08it/s]\u001b[A\n",
      " 29%|█████████████████████████▋                                                               | 23509/81503 [00:02<00:05, 11187.84it/s]\u001b[A\n",
      " 30%|██████████████████████████▉                                                              | 24686/81503 [00:02<00:05, 11345.43it/s]\u001b[A\n",
      " 32%|████████████████████████████▌                                                            | 26155/81503 [00:02<00:04, 12305.85it/s]\u001b[A\n",
      " 34%|█████████████████████████████▉                                                           | 27398/81503 [00:02<00:04, 12021.01it/s]\u001b[A\n",
      " 35%|███████████████████████████████▌                                                         | 28886/81503 [00:02<00:04, 12841.51it/s]\u001b[A\n",
      " 37%|████████████████████████████████▉                                                        | 30180/81503 [00:03<00:04, 12416.99it/s]\u001b[A\n",
      " 39%|██████████████████████████████████▋                                                       | 31431/81503 [00:03<00:11, 4539.31it/s]\u001b[A\n",
      " 40%|████████████████████████████████████                                                      | 32637/81503 [00:03<00:08, 5516.13it/s]\u001b[A\n",
      " 41%|█████████████████████████████████████▏                                                    | 33695/81503 [00:03<00:07, 6309.07it/s]\u001b[A\n",
      " 43%|██████████████████████████████████████▊                                                   | 35096/81503 [00:04<00:06, 7715.20it/s]\u001b[A\n",
      " 45%|████████████████████████████████████████▎                                                 | 36451/81503 [00:04<00:05, 8923.03it/s]\u001b[A\n",
      " 46%|█████████████████████████████████████████▋                                                | 37746/81503 [00:04<00:04, 9841.71it/s]\u001b[A\n",
      " 48%|███████████████████████████████████████████                                              | 39442/81503 [00:04<00:03, 11591.04it/s]\u001b[A\n",
      " 50%|████████████████████████████████████████████▌                                            | 40830/81503 [00:04<00:03, 12184.73it/s]\u001b[A\n",
      " 52%|██████████████████████████████████████████████▍                                          | 42553/81503 [00:04<00:02, 13549.07it/s]\u001b[A\n",
      " 54%|████████████████████████████████████████████████                                         | 44033/81503 [00:04<00:02, 13498.33it/s]\u001b[A\n",
      " 56%|█████████████████████████████████████████████████▋                                       | 45470/81503 [00:04<00:03, 11962.08it/s]\u001b[A\n",
      " 58%|███████████████████████████████████████████████████▍                                     | 47077/81503 [00:04<00:02, 13014.97it/s]\u001b[A\n",
      " 60%|█████████████████████████████████████████████████████▌                                   | 49047/81503 [00:05<00:02, 14811.85it/s]\u001b[A\n",
      " 62%|███████████████████████████████████████████████████████▎                                 | 50606/81503 [00:05<00:02, 14690.55it/s]\u001b[A\n",
      " 64%|█████████████████████████████████████████████████████████▏                               | 52412/81503 [00:05<00:01, 15628.79it/s]\u001b[A\n"
     ]
    },
    {
     "name": "stderr",
     "output_type": "stream",
     "text": [
      " 66%|███████████████████████████████████████████████████████████▏                             | 54194/81503 [00:05<00:01, 16250.99it/s]\u001b[A\n",
      " 69%|████████████████████████████████████████████████████████████▉                            | 55854/81503 [00:05<00:01, 16196.46it/s]\u001b[A\n",
      " 71%|██████████████████████████████████████████████████████████████▊                          | 57572/81503 [00:05<00:01, 16481.53it/s]\u001b[A\n",
      " 73%|████████████████████████████████████████████████████████████████▉                        | 59519/81503 [00:05<00:01, 17356.68it/s]\u001b[A\n",
      " 75%|██████████████████████████████████████████████████████████████████▉                      | 61270/81503 [00:05<00:01, 16637.41it/s]\u001b[A\n",
      " 77%|████████████████████████████████████████████████████████████████████▋                    | 62950/81503 [00:05<00:01, 15504.71it/s]\u001b[A\n",
      " 80%|██████████████████████████████████████████████████████████████████████▊                  | 64805/81503 [00:05<00:01, 16344.67it/s]\u001b[A\n",
      " 82%|████████████████████████████████████████████████████████████████████████▊                | 66733/81503 [00:06<00:00, 17173.17it/s]\u001b[A\n",
      " 84%|██████████████████████████████████████████████████████████████████████████▊              | 68473/81503 [00:06<00:00, 16646.55it/s]\u001b[A\n",
      " 86%|████████████████████████████████████████████████████████████████████████████▊            | 70330/81503 [00:06<00:00, 17191.51it/s]\u001b[A\n",
      " 88%|██████████████████████████████████████████████████████████████████████████████▋          | 72065/81503 [00:06<00:00, 13739.15it/s]\u001b[A\n",
      " 91%|█████████████████████████████████████████████████████████████████████████████████▏       | 74352/81503 [00:06<00:00, 15998.19it/s]\u001b[A\n",
      " 94%|████████████████████████████████████████████████████████████████████████████████████▏     | 76208/81503 [00:07<00:00, 6026.03it/s]\u001b[A\n",
      " 97%|██████████████████████████████████████████████████████████████████████████████████████▉   | 78680/81503 [00:07<00:00, 8247.67it/s]\u001b[A\n",
      "100%|█████████████████████████████████████████████████████████████████████████████████████████| 81503/81503 [00:07<00:00, 10713.42it/s]\u001b[A\n",
      "\n",
      "  0%|                                                                                                        | 0/15823 [00:00<?, ?it/s]\u001b[A\n",
      " 20%|██████████████████▎                                                                       | 3223/15823 [00:00<00:00, 32228.42it/s]\u001b[A\n",
      " 46%|█████████████████████████████████████████▊                                                | 7350/15823 [00:00<00:00, 37545.54it/s]\u001b[A\n",
      "100%|█████████████████████████████████████████████████████████████████████████████████████████| 15823/15823 [00:00<00:00, 41855.91it/s]\u001b[A\n",
      " 80%|████████████████████████████████████████████████████████████████████████████████                    | 4/5 [01:24<00:21, 21.34s/it]\n",
      "  0%|                                                                                                        | 0/80312 [00:00<?, ?it/s]\u001b[A\n",
      "  0%|▍                                                                                           | 391/80312 [00:00<00:20, 3907.07it/s]\u001b[A\n",
      "  1%|▉                                                                                           | 782/80312 [00:00<00:22, 3485.94it/s]\u001b[A\n",
      "  1%|█▎                                                                                         | 1202/80312 [00:00<00:20, 3787.77it/s]\u001b[A\n",
      "  2%|██                                                                                         | 1863/80312 [00:00<00:16, 4854.34it/s]\u001b[A\n",
      "  4%|███▏                                                                                       | 2814/80312 [00:00<00:11, 6488.20it/s]\u001b[A\n",
      "  5%|████▍                                                                                      | 3939/80312 [00:00<00:09, 8078.10it/s]\u001b[A\n",
      "  6%|█████▋                                                                                     | 5047/80312 [00:00<00:08, 9042.48it/s]\u001b[A\n",
      "  8%|███████                                                                                    | 6213/80312 [00:00<00:07, 9861.71it/s]\u001b[A\n",
      "  9%|████████▏                                                                                 | 7339/80312 [00:00<00:07, 10292.22it/s]\u001b[A\n",
      " 11%|█████████▌                                                                                | 8530/80312 [00:01<00:06, 10778.25it/s]\u001b[A\n",
      " 12%|██████████▉                                                                               | 9714/80312 [00:01<00:06, 11100.69it/s]\u001b[A\n",
      " 14%|████████████▎                                                                            | 11073/80312 [00:01<00:05, 11849.86it/s]\u001b[A\n",
      " 15%|█████████████▌                                                                           | 12260/80312 [00:01<00:05, 11432.17it/s]\u001b[A\n",
      " 17%|██████████████▊                                                                          | 13408/80312 [00:01<00:05, 11295.55it/s]\u001b[A\n",
      " 18%|████████████████▎                                                                        | 14708/80312 [00:01<00:05, 11787.30it/s]\u001b[A\n",
      " 20%|█████████████████▌                                                                       | 15891/80312 [00:01<00:06, 10647.40it/s]\u001b[A\n",
      " 21%|███████████████████                                                                      | 17211/80312 [00:01<00:05, 11340.61it/s]\u001b[A\n",
      " 23%|████████████████████▎                                                                    | 18367/80312 [00:01<00:05, 11317.15it/s]\u001b[A\n",
      " 25%|█████████████████████▉                                                                   | 19741/80312 [00:01<00:05, 12003.58it/s]\u001b[A\n",
      " 26%|███████████████████████▍                                                                 | 21181/80312 [00:02<00:04, 12692.36it/s]\u001b[A\n",
      " 28%|████████████████████████▉                                                                | 22463/80312 [00:02<00:04, 12467.21it/s]\u001b[A\n",
      " 30%|██████████████████████████▎                                                              | 23761/80312 [00:02<00:04, 12614.69it/s]\u001b[A\n",
      " 32%|████████████████████████████                                                             | 25332/80312 [00:02<00:04, 13522.15it/s]\u001b[A\n",
      " 33%|█████████████████████████████▌                                                           | 26692/80312 [00:02<00:03, 13436.50it/s]\u001b[A\n",
      " 35%|███████████████████████████████▎                                                         | 28230/80312 [00:02<00:03, 14008.27it/s]\u001b[A\n",
      " 37%|████████████████████████████████▊                                                        | 29636/80312 [00:02<00:03, 13878.95it/s]\u001b[A\n",
      " 39%|██████████████████████████████████▊                                                       | 31028/80312 [00:03<00:09, 5034.32it/s]\u001b[A\n",
      " 40%|████████████████████████████████████▏                                                     | 32271/80312 [00:03<00:07, 6015.04it/s]\u001b[A\n",
      " 42%|█████████████████████████████████████▌                                                    | 33534/80312 [00:03<00:06, 7068.38it/s]\u001b[A\n",
      " 43%|███████████████████████████████████████                                                   | 34861/80312 [00:03<00:05, 8217.61it/s]\u001b[A\n",
      " 45%|████████████████████████████████████████▋                                                 | 36288/80312 [00:03<00:04, 9483.19it/s]\u001b[A\n",
      " 47%|█████████████████████████████████████████▉                                               | 37883/80312 [00:03<00:03, 10971.70it/s]\u001b[A\n",
      " 49%|███████████████████████████████████████████▋                                             | 39462/80312 [00:03<00:03, 12163.23it/s]\u001b[A\n",
      " 51%|█████████████████████████████████████████████▋                                           | 41271/80312 [00:04<00:02, 13708.23it/s]\u001b[A\n",
      " 53%|███████████████████████████████████████████████▍                                         | 42815/80312 [00:04<00:02, 13724.85it/s]\u001b[A\n",
      " 55%|█████████████████████████████████████████████████                                        | 44309/80312 [00:04<00:02, 13284.33it/s]\u001b[A\n",
      " 57%|██████████████████████████████████████████████████▋                                      | 45724/80312 [00:04<00:02, 13484.10it/s]\u001b[A\n"
     ]
    },
    {
     "name": "stderr",
     "output_type": "stream",
     "text": [
      " 60%|█████████████████████████████████████████████████████                                    | 47893/80312 [00:04<00:02, 15758.02it/s]\u001b[A\n",
      " 62%|██████████████████████████████████████████████████████▉                                  | 49532/80312 [00:04<00:01, 15588.38it/s]\u001b[A\n",
      " 64%|████████████████████████████████████████████████████████▉                                | 51409/80312 [00:04<00:01, 16491.01it/s]\u001b[A\n",
      " 66%|███████████████████████████████████████████████████████████                              | 53307/80312 [00:04<00:01, 17208.74it/s]\u001b[A\n",
      " 69%|█████████████████████████████████████████████████████████████                            | 55056/80312 [00:04<00:01, 17266.80it/s]\u001b[A\n",
      " 71%|███████████████████████████████████████████████████████████████                          | 56916/80312 [00:05<00:01, 17657.97it/s]\u001b[A\n",
      " 73%|█████████████████████████████████████████████████████████████████▎                       | 58961/80312 [00:05<00:01, 18481.13it/s]\u001b[A\n",
      " 76%|███████████████████████████████████████████████████████████████████▍                     | 60821/80312 [00:05<00:01, 18400.14it/s]\u001b[A\n",
      " 78%|█████████████████████████████████████████████████████████████████████▍                   | 62669/80312 [00:05<00:01, 17242.86it/s]\u001b[A\n",
      " 81%|███████████████████████████████████████████████████████████████████████▋                 | 64704/80312 [00:05<00:00, 18113.25it/s]\u001b[A\n",
      " 83%|█████████████████████████████████████████████████████████████████████████▋               | 66534/80312 [00:05<00:00, 17552.06it/s]\u001b[A\n",
      " 86%|████████████████████████████████████████████████████████████████████████████▎            | 68832/80312 [00:05<00:00, 19096.80it/s]\u001b[A\n",
      " 88%|██████████████████████████████████████████████████████████████████████████████▍          | 70761/80312 [00:05<00:00, 14537.64it/s]\u001b[A\n",
      " 91%|█████████████████████████████████████████████████████████████████████████████████▏       | 73252/80312 [00:05<00:00, 17012.53it/s]\u001b[A\n",
      " 94%|████████████████████████████████████████████████████████████████████████████████████     | 75807/80312 [00:06<00:00, 19183.04it/s]\u001b[A\n",
      " 97%|███████████████████████████████████████████████████████████████████████████████████████▌  | 78133/80312 [00:06<00:00, 7295.40it/s]\u001b[A\n",
      "100%|█████████████████████████████████████████████████████████████████████████████████████████| 80312/80312 [00:06<00:00, 11529.35it/s]\u001b[A\n",
      "\n",
      "  0%|                                                                                                        | 0/17193 [00:00<?, ?it/s]\u001b[A\n",
      " 14%|████████████▊                                                                             | 2450/17193 [00:00<00:00, 24484.32it/s]\u001b[A\n",
      " 30%|███████████████████████████▎                                                              | 5208/17193 [00:00<00:00, 26304.07it/s]\u001b[A\n",
      " 48%|███████████████████████████████████████████                                               | 8227/17193 [00:00<00:00, 28073.43it/s]\u001b[A\n",
      " 68%|████████████████████████████████████████████████████████████▉                            | 11775/17193 [00:00<00:00, 30994.94it/s]\u001b[A\n",
      "100%|█████████████████████████████████████████████████████████████████████████████████████████| 17193/17193 [00:00<00:00, 31593.87it/s]\u001b[A\n",
      "100%|████████████████████████████████████████████████████████████████████████████████████████████████████| 5/5 [01:45<00:00, 21.17s/it]\n"
     ]
    }
   ],
   "source": [
    "for i in tqdm(range(5)):\n",
    "    df_train = pd.read_pickle('../dataset/04_K-fold_dataset/df_train_idx%d.p'%(i))\n",
    "    df_test = pd.read_pickle('../dataset/04_K-fold_dataset/df_test_idx%d.p'%(i))\n",
    "\n",
    "    belief2list_train = get_belief_cooccurrence_dic(df_train)\n",
    "    belief2list_test  = get_belief_cooccurrence_dic(df_test)\n",
    "    \n",
    "    train_triplets = get_stance_triplet(belief2list_train)\n",
    "    test_triplets  = get_stance_triplet(belief2list_test)\n",
    "    \n",
    "    with open('../dataset/04_K-fold_triplets/train_triplet_idx%d.p'%i,'wb') as f:\n",
    "        pickle.dump(train_triplets, f)\n",
    "        \n",
    "    with open('../dataset/04_K-fold_triplets/test_triplet_idx%d.p'%i,'wb') as f:\n",
    "        pickle.dump(test_triplets, f)"
   ]
  },
  {
   "cell_type": "code",
   "execution_count": 22,
   "id": "6cba6b00",
   "metadata": {},
   "outputs": [
    {
     "data": {
      "text/plain": [
       "('#triplets ~', 1343346)"
      ]
     },
     "execution_count": 22,
     "metadata": {},
     "output_type": "execute_result"
    }
   ],
   "source": [
    "\"#triplets ~\",len(train_triplets)"
   ]
  },
  {
   "cell_type": "code",
   "execution_count": 42,
   "id": "a52e718c",
   "metadata": {},
   "outputs": [
    {
     "name": "stdout",
     "output_type": "stream",
     "text": [
      "train 0 1351986\n",
      "train 1 1355004\n",
      "train 2 1328074\n",
      "train 3 1412283\n",
      "train 4 1343346\n",
      "test 0 233404\n",
      "test 1 229331\n",
      "test 2 267252\n",
      "test 3 181810\n",
      "test 4 243191\n"
     ]
    }
   ],
   "source": [
    "numtrip_train = []\n",
    "\n",
    "for i in range(5):\n",
    "    with open('../dataset/04_K-fold_triplets/train_triplet_idx%d.p'%i,'rb') as f:\n",
    "        dat = pickle.load(f)\n",
    "    print(\"train\", i, len(dat))\n",
    "    \n",
    "    numtrip_train.append(len(dat))\n",
    "    \n",
    "numtrip_test = []\n",
    "\n",
    "for i in range(5):\n",
    "    with open('../dataset/04_K-fold_triplets/test_triplet_idx%d.p'%i,'rb') as f:\n",
    "        dat = pickle.load(f)\n",
    "    print(\"test\", i, len(dat))\n",
    "    \n",
    "    numtrip_test.append(len(dat))    "
   ]
  },
  {
   "cell_type": "code",
   "execution_count": 43,
   "id": "70eb075f",
   "metadata": {},
   "outputs": [
    {
     "data": {
      "text/plain": [
       "(1358138.6, 230997.6)"
      ]
     },
     "execution_count": 43,
     "metadata": {},
     "output_type": "execute_result"
    }
   ],
   "source": [
    "np.average(numtrip_train), np.average(numtrip_test)"
   ]
  },
  {
   "cell_type": "markdown",
   "id": "729eb681",
   "metadata": {},
   "source": [
    "## 중복 데이터를 제거 "
   ]
  },
  {
   "cell_type": "code",
   "execution_count": 47,
   "id": "40ba69eb",
   "metadata": {},
   "outputs": [
    {
     "name": "stdout",
     "output_type": "stream",
     "text": [
      "4098\n",
      "901\n",
      "4021\n",
      "978\n",
      "3592\n",
      "1407\n",
      "4350\n",
      "649\n",
      "3935\n",
      "1064\n"
     ]
    }
   ],
   "source": [
    "train_sets = []\n",
    "test_sets  = []\n",
    "\n",
    "\n",
    "for i in range(5):    \n",
    "    \n",
    "    df_train = pd.read_pickle('../dataset/04_K-fold_dataset/df_train_idx%d.p'%(i))\n",
    "    df_test  = pd.read_pickle('../dataset/04_K-fold_dataset/df_test_idx%d.p'%(i))\n",
    "    \n",
    "    df_train_nodup = df_train[~df_train.duplicated()]\n",
    "    df_test_nodup  = df_test[~df_test.duplicated()]\n",
    "    \n",
    "    df_train_nodup.to_pickle('../dataset/04_K-fold_dataset_nodup/df_train_idx%d.p'%(i))\n",
    "    df_test_nodup.to_pickle('../dataset/04_K-fold_dataset_nodup/df_test_idx%d.p'%(i))\n",
    "    \n",
    "    print(len(df_train)-len(df_train_nodup))\n",
    "    print(len(df_test)-len(df_test_nodup))"
   ]
  },
  {
   "cell_type": "markdown",
   "id": "1d74d7d4",
   "metadata": {},
   "source": [
    "### downstream을 위해 공통 유저만 남긴 데이터 (train test에서) nodup version으로"
   ]
  },
  {
   "cell_type": "code",
   "execution_count": 49,
   "id": "ae0763f0",
   "metadata": {},
   "outputs": [
    {
     "name": "stdout",
     "output_type": "stream",
     "text": [
      "# votes: Train, Train_common, Test, Test_common\n",
      "153698 111724 38609 33208\n",
      "# voters: Train, Train_common, Test, Test_common\n",
      "35447 10173 15006 10173\n",
      "\n",
      "# votes: Train, Train_common, Test, Test_common\n",
      "151618 110860 40689 35171\n",
      "# voters: Train, Train_common, Test, Test_common\n",
      "35362 10401 15319 10401\n",
      "\n",
      "# votes: Train, Train_common, Test, Test_common\n",
      "151524 107163 40783 36060\n",
      "# voters: Train, Train_common, Test, Test_common\n",
      "36092 9706 13894 9706\n",
      "\n",
      "# votes: Train, Train_common, Test, Test_common\n",
      "157602 113625 34705 27733\n",
      "# voters: Train, Train_common, Test, Test_common\n",
      "34205 9675 15750 9675\n",
      "\n",
      "# votes: Train, Train_common, Test, Test_common\n",
      "154786 110227 37521 33007\n",
      "# voters: Train, Train_common, Test, Test_common\n",
      "36220 9744 13804 9744\n",
      "\n"
     ]
    }
   ],
   "source": [
    "train_sets = []\n",
    "test_sets  = []\n",
    "\n",
    "BASE_PATH = '../dataset/04_K-fold_dataset_nodup/'\n",
    "\n",
    "for i in range(5):    \n",
    "    \n",
    "    df_train = pd.read_pickle(BASE_PATH + 'df_train_idx%d.p'%(i))\n",
    "    df_test  = pd.read_pickle(BASE_PATH + 'df_test_idx%d.p'%(i))\n",
    "        \n",
    "    train_users = df_train.username.unique()\n",
    "    test_users  = df_test.username.unique()\n",
    "    \n",
    "    common_users = []\n",
    "    for u in test_users:\n",
    "        if u in train_users:\n",
    "            common_users.append(u)\n",
    "    \n",
    "    df_train_common = df_train[df_train['username'].isin(common_users)]\n",
    "    df_test_common  = df_test[df_test['username'].isin(common_users)]\n",
    "    \n",
    "    \n",
    "    train_sets.append(df_train_common)\n",
    "    test_sets.append(df_test_common)\n",
    "    \n",
    "    \n",
    "    print(\"# votes: Train, Train_common, Test, Test_common\")\n",
    "    print(len(df_train), len(df_train_common), len(df_test), len(df_test_common))\n",
    "    print(\"# voters: Train, Train_common, Test, Test_common\")\n",
    "    print(len(df_train.username.unique()), len(df_train_common.username.unique()), len(df_test.username.unique()), len(df_test_common.username.unique()))\n",
    "    print()"
   ]
  },
  {
   "cell_type": "code",
   "execution_count": 52,
   "id": "a434db89",
   "metadata": {},
   "outputs": [],
   "source": [
    "BASE_PATH = '../dataset/04_K-fold_dataset_commonusers_nodup/'\n",
    "\n",
    "for i in range(5):    \n",
    "    \n",
    "    train_sets[i].to_pickle(BASE_PATH + 'df_commonuser_train_idx%d.p'%(i))\n",
    "    test_sets[i].to_pickle(BASE_PATH + 'df_commonuser_test_idx%d.p'%(i))\n",
    "    "
   ]
  },
  {
   "cell_type": "markdown",
   "id": "cf0e9007",
   "metadata": {},
   "source": [
    "### Original ver"
   ]
  },
  {
   "cell_type": "code",
   "execution_count": 55,
   "id": "c191c5bd",
   "metadata": {},
   "outputs": [
    {
     "name": "stdout",
     "output_type": "stream",
     "text": [
      "# votes: Train, Train_common, Test, Test_common\n",
      "157796 115432 39510 34091\n",
      "# voters: Train, Train_common, Test, Test_common\n",
      "35447 10173 15006 10173\n",
      "\n",
      "# votes: Train, Train_common, Test, Test_common\n",
      "155639 114565 41667 36126\n",
      "# voters: Train, Train_common, Test, Test_common\n",
      "35362 10401 15319 10401\n",
      "\n",
      "# votes: Train, Train_common, Test, Test_common\n",
      "155116 110549 42190 37435\n",
      "# voters: Train, Train_common, Test, Test_common\n",
      "36092 9706 13894 9706\n",
      "\n",
      "# votes: Train, Train_common, Test, Test_common\n",
      "161952 117424 35354 28366\n",
      "# voters: Train, Train_common, Test, Test_common\n",
      "34205 9675 15750 9675\n",
      "\n",
      "# votes: Train, Train_common, Test, Test_common\n",
      "158721 113819 38585 34057\n",
      "# voters: Train, Train_common, Test, Test_common\n",
      "36220 9744 13804 9744\n",
      "\n"
     ]
    }
   ],
   "source": [
    "train_sets = []\n",
    "test_sets  = []\n",
    "\n",
    "BASE_PATH = '../dataset/04_K-fold_dataset/'\n",
    "\n",
    "for i in range(5):    \n",
    "    \n",
    "    df_train = pd.read_pickle(BASE_PATH + 'df_train_idx%d.p'%(i))\n",
    "    df_test  = pd.read_pickle(BASE_PATH + 'df_test_idx%d.p'%(i))\n",
    "        \n",
    "    train_users = df_train.username.unique()\n",
    "    test_users  = df_test.username.unique()\n",
    "    \n",
    "    common_users = []\n",
    "    for u in test_users:\n",
    "        if u in train_users:\n",
    "            common_users.append(u)\n",
    "    \n",
    "    df_train_common = df_train[df_train['username'].isin(common_users)]\n",
    "    df_test_common  = df_test[df_test['username'].isin(common_users)]\n",
    "    \n",
    "    \n",
    "    train_sets.append(df_train_common)\n",
    "    test_sets.append(df_test_common)\n",
    "    \n",
    "    \n",
    "    print(\"# votes: Train, Train_common, Test, Test_common\")\n",
    "    print(len(df_train), len(df_train_common), len(df_test), len(df_test_common))\n",
    "    print(\"# voters: Train, Train_common, Test, Test_common\")\n",
    "    print(len(df_train.username.unique()), len(df_train_common.username.unique()), len(df_test.username.unique()), len(df_test_common.username.unique()))\n",
    "    print()"
   ]
  },
  {
   "cell_type": "code",
   "execution_count": 58,
   "id": "ad875eac",
   "metadata": {},
   "outputs": [],
   "source": [
    "BASE_PATH = '../data/04_K-fold_triplets_commonusers/'\n",
    "\n",
    "for i in range(5):    \n",
    "    \n",
    "    train_sets[i].to_pickle(BASE_PATH + 'df_commonuser_train_idx%d.p'%(i))\n",
    "    test_sets[i].to_pickle(BASE_PATH + 'df_commonuser_test_idx%d.p'%(i))\n",
    "    "
   ]
  }
 ],
 "metadata": {
  "kernelspec": {
   "display_name": "Python 3 (ipykernel)",
   "language": "python",
   "name": "python3"
  },
  "language_info": {
   "codemirror_mode": {
    "name": "ipython",
    "version": 3
   },
   "file_extension": ".py",
   "mimetype": "text/x-python",
   "name": "python",
   "nbconvert_exporter": "python",
   "pygments_lexer": "ipython3",
   "version": "3.9.10"
  }
 },
 "nbformat": 4,
 "nbformat_minor": 5
}
