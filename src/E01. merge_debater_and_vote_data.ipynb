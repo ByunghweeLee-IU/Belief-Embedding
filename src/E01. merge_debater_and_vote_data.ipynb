{
 "cells": [
  {
   "cell_type": "code",
   "execution_count": 4,
   "id": "a518c992",
   "metadata": {},
   "outputs": [],
   "source": [
    "import pickle\n",
    "import pandas as pd\n",
    "from pandas import Series\n",
    "from tqdm import tqdm\n",
    "import seaborn as sns\n",
    "\n",
    "import matplotlib\n",
    "%matplotlib inline\n",
    "from matplotlib import pyplot as plt\n",
    "from matplotlib import font_manager as fm\n",
    "from matplotlib import rc\n",
    "\n",
    "matplotlib.rcParams['figure.dpi'] = 150\n",
    "f_path = \"/System/Library/Fonts/Helvetica.ttc\"\n",
    "font_name = fm.FontProperties(fname=f_path).get_name()\n",
    "rc('font', family=font_name, size=13)"
   ]
  },
  {
   "cell_type": "markdown",
   "id": "14185e4e",
   "metadata": {},
   "source": [
    "### Full data statictics"
   ]
  },
  {
   "cell_type": "code",
   "execution_count": 7,
   "id": "c6e0e307",
   "metadata": {},
   "outputs": [],
   "source": [
    "df_voter = pd.read_pickle(\"../dataset/02_ddo_initial_filtering/df_voter_full.p\")"
   ]
  },
  {
   "cell_type": "code",
   "execution_count": 8,
   "id": "879e6c3e",
   "metadata": {},
   "outputs": [
    {
     "data": {
      "text/html": [
       "<div>\n",
       "<style scoped>\n",
       "    .dataframe tbody tr th:only-of-type {\n",
       "        vertical-align: middle;\n",
       "    }\n",
       "\n",
       "    .dataframe tbody tr th {\n",
       "        vertical-align: top;\n",
       "    }\n",
       "\n",
       "    .dataframe thead th {\n",
       "        text-align: right;\n",
       "    }\n",
       "</style>\n",
       "<table border=\"1\" class=\"dataframe\">\n",
       "  <thead>\n",
       "    <tr style=\"text-align: right;\">\n",
       "      <th></th>\n",
       "      <th>debate_key</th>\n",
       "      <th>debate_title</th>\n",
       "      <th>debate_date</th>\n",
       "      <th>voter_name</th>\n",
       "      <th>voter_position</th>\n",
       "      <th>debate_id</th>\n",
       "      <th>stance</th>\n",
       "      <th>debate_title_stance_debateidx</th>\n",
       "      <th>debate_title_stance</th>\n",
       "    </tr>\n",
       "  </thead>\n",
       "  <tbody>\n",
       "    <tr>\n",
       "      <th>0</th>\n",
       "      <td>.-.-.-Ha-YOURE-GOING-DOWN-BEEM0R/1/</td>\n",
       "      <td>. . . Ha! YOU'RE GOING DOWN, BEEM0R!</td>\n",
       "      <td>2009-02-02</td>\n",
       "      <td>Cliff.Stamp</td>\n",
       "      <td>Tie</td>\n",
       "      <td>0</td>\n",
       "      <td>0_Tie</td>\n",
       "      <td>Tie_. . . Ha! YOU'RE GOING DOWN, BEEM0R![0]</td>\n",
       "      <td>Tie_. . . Ha! YOU'RE GOING DOWN, BEEM0R!</td>\n",
       "    </tr>\n",
       "    <tr>\n",
       "      <th>1</th>\n",
       "      <td>.-.-.-Ha-YOURE-GOING-DOWN-BEEM0R/1/</td>\n",
       "      <td>. . . Ha! YOU'RE GOING DOWN, BEEM0R!</td>\n",
       "      <td>2009-02-02</td>\n",
       "      <td>jat93</td>\n",
       "      <td>Con</td>\n",
       "      <td>0</td>\n",
       "      <td>0_Con</td>\n",
       "      <td>Con_. . . Ha! YOU'RE GOING DOWN, BEEM0R![0]</td>\n",
       "      <td>Con_. . . Ha! YOU'RE GOING DOWN, BEEM0R!</td>\n",
       "    </tr>\n",
       "    <tr>\n",
       "      <th>2</th>\n",
       "      <td>.-.-.-Ha-YOURE-GOING-DOWN-BEEM0R/1/</td>\n",
       "      <td>. . . Ha! YOU'RE GOING DOWN, BEEM0R!</td>\n",
       "      <td>2009-02-02</td>\n",
       "      <td>Logical-Master</td>\n",
       "      <td>Tie</td>\n",
       "      <td>0</td>\n",
       "      <td>0_Tie</td>\n",
       "      <td>Tie_. . . Ha! YOU'RE GOING DOWN, BEEM0R![0]</td>\n",
       "      <td>Tie_. . . Ha! YOU'RE GOING DOWN, BEEM0R!</td>\n",
       "    </tr>\n",
       "    <tr>\n",
       "      <th>3</th>\n",
       "      <td>.-.-.-Ha-YOURE-GOING-DOWN-BEEM0R/1/</td>\n",
       "      <td>. . . Ha! YOU'RE GOING DOWN, BEEM0R!</td>\n",
       "      <td>2009-02-02</td>\n",
       "      <td>Kleptin</td>\n",
       "      <td>Tie</td>\n",
       "      <td>0</td>\n",
       "      <td>0_Tie</td>\n",
       "      <td>Tie_. . . Ha! YOU'RE GOING DOWN, BEEM0R![0]</td>\n",
       "      <td>Tie_. . . Ha! YOU'RE GOING DOWN, BEEM0R!</td>\n",
       "    </tr>\n",
       "    <tr>\n",
       "      <th>4</th>\n",
       "      <td>.-.-.-Ha-YOURE-GOING-DOWN-BEEM0R/1/</td>\n",
       "      <td>. . . Ha! YOU'RE GOING DOWN, BEEM0R!</td>\n",
       "      <td>2009-02-02</td>\n",
       "      <td>Tatarize</td>\n",
       "      <td>Tie</td>\n",
       "      <td>0</td>\n",
       "      <td>0_Tie</td>\n",
       "      <td>Tie_. . . Ha! YOU'RE GOING DOWN, BEEM0R![0]</td>\n",
       "      <td>Tie_. . . Ha! YOU'RE GOING DOWN, BEEM0R!</td>\n",
       "    </tr>\n",
       "  </tbody>\n",
       "</table>\n",
       "</div>"
      ],
      "text/plain": [
       "                            debate_key                          debate_title  \\\n",
       "0  .-.-.-Ha-YOURE-GOING-DOWN-BEEM0R/1/  . . . Ha! YOU'RE GOING DOWN, BEEM0R!   \n",
       "1  .-.-.-Ha-YOURE-GOING-DOWN-BEEM0R/1/  . . . Ha! YOU'RE GOING DOWN, BEEM0R!   \n",
       "2  .-.-.-Ha-YOURE-GOING-DOWN-BEEM0R/1/  . . . Ha! YOU'RE GOING DOWN, BEEM0R!   \n",
       "3  .-.-.-Ha-YOURE-GOING-DOWN-BEEM0R/1/  . . . Ha! YOU'RE GOING DOWN, BEEM0R!   \n",
       "4  .-.-.-Ha-YOURE-GOING-DOWN-BEEM0R/1/  . . . Ha! YOU'RE GOING DOWN, BEEM0R!   \n",
       "\n",
       "  debate_date      voter_name voter_position  debate_id stance  \\\n",
       "0  2009-02-02     Cliff.Stamp            Tie          0  0_Tie   \n",
       "1  2009-02-02           jat93            Con          0  0_Con   \n",
       "2  2009-02-02  Logical-Master            Tie          0  0_Tie   \n",
       "3  2009-02-02         Kleptin            Tie          0  0_Tie   \n",
       "4  2009-02-02        Tatarize            Tie          0  0_Tie   \n",
       "\n",
       "                 debate_title_stance_debateidx  \\\n",
       "0  Tie_. . . Ha! YOU'RE GOING DOWN, BEEM0R![0]   \n",
       "1  Con_. . . Ha! YOU'RE GOING DOWN, BEEM0R![0]   \n",
       "2  Tie_. . . Ha! YOU'RE GOING DOWN, BEEM0R![0]   \n",
       "3  Tie_. . . Ha! YOU'RE GOING DOWN, BEEM0R![0]   \n",
       "4  Tie_. . . Ha! YOU'RE GOING DOWN, BEEM0R![0]   \n",
       "\n",
       "                        debate_title_stance  \n",
       "0  Tie_. . . Ha! YOU'RE GOING DOWN, BEEM0R!  \n",
       "1  Con_. . . Ha! YOU'RE GOING DOWN, BEEM0R!  \n",
       "2  Tie_. . . Ha! YOU'RE GOING DOWN, BEEM0R!  \n",
       "3  Tie_. . . Ha! YOU'RE GOING DOWN, BEEM0R!  \n",
       "4  Tie_. . . Ha! YOU'RE GOING DOWN, BEEM0R!  "
      ]
     },
     "execution_count": 8,
     "metadata": {},
     "output_type": "execute_result"
    }
   ],
   "source": [
    "df_voter.head()"
   ]
  },
  {
   "cell_type": "code",
   "execution_count": 12,
   "id": "2b29df91",
   "metadata": {},
   "outputs": [
    {
     "name": "stdout",
     "output_type": "stream",
     "text": [
      "data size: 199210\n",
      "num debates: 48887\n",
      "num debate title: 43575\n",
      "num users: 9076\n",
      "average participation: 21.949096518289995\n"
     ]
    }
   ],
   "source": [
    "print('data size:', len(df_voter))\n",
    "print('num debates:', len(df_voter['debate_key'].unique()))\n",
    "print('num debate title:', len(df_voter['debate_title'].unique()))\n",
    "print('num users:', len(df_voter['voter_name'].unique()))\n",
    "print('average participation:', len(df_voter)/len(df_voter['voter_name'].unique())  )"
   ]
  },
  {
   "cell_type": "markdown",
   "id": "ffbfcfc0",
   "metadata": {},
   "source": [
    "### Vote data"
   ]
  },
  {
   "cell_type": "code",
   "execution_count": 4,
   "id": "88db48ba",
   "metadata": {},
   "outputs": [
    {
     "data": {
      "text/html": [
       "<div>\n",
       "<style scoped>\n",
       "    .dataframe tbody tr th:only-of-type {\n",
       "        vertical-align: middle;\n",
       "    }\n",
       "\n",
       "    .dataframe tbody tr th {\n",
       "        vertical-align: top;\n",
       "    }\n",
       "\n",
       "    .dataframe thead th {\n",
       "        text-align: right;\n",
       "    }\n",
       "</style>\n",
       "<table border=\"1\" class=\"dataframe\">\n",
       "  <thead>\n",
       "    <tr style=\"text-align: right;\">\n",
       "      <th></th>\n",
       "      <th>debate_key</th>\n",
       "      <th>debate_title</th>\n",
       "      <th>debate_date</th>\n",
       "      <th>username</th>\n",
       "      <th>position</th>\n",
       "    </tr>\n",
       "  </thead>\n",
       "  <tbody>\n",
       "    <tr>\n",
       "      <th>1</th>\n",
       "      <td>.-.-.-Ha-YOURE-GOING-DOWN-BEEM0R/1/</td>\n",
       "      <td>. . . Ha! YOU'RE GOING DOWN, BEEM0R!</td>\n",
       "      <td>2009-02-02</td>\n",
       "      <td>jat93</td>\n",
       "      <td>Con</td>\n",
       "    </tr>\n",
       "    <tr>\n",
       "      <th>5</th>\n",
       "      <td>.-.-.-Ha-YOURE-GOING-DOWN-BEEM0R/1/</td>\n",
       "      <td>. . . Ha! YOU'RE GOING DOWN, BEEM0R!</td>\n",
       "      <td>2009-02-02</td>\n",
       "      <td>philosphical</td>\n",
       "      <td>Pro</td>\n",
       "    </tr>\n",
       "    <tr>\n",
       "      <th>6</th>\n",
       "      <td>.-.-.-Ha-YOURE-GOING-DOWN-BEEM0R/1/</td>\n",
       "      <td>. . . Ha! YOU'RE GOING DOWN, BEEM0R!</td>\n",
       "      <td>2009-02-02</td>\n",
       "      <td>rougeagent21</td>\n",
       "      <td>Pro</td>\n",
       "    </tr>\n",
       "    <tr>\n",
       "      <th>7</th>\n",
       "      <td>.-.-.-Ha-YOURE-GOING-DOWN-BEEM0R/1/</td>\n",
       "      <td>. . . Ha! YOU'RE GOING DOWN, BEEM0R!</td>\n",
       "      <td>2009-02-02</td>\n",
       "      <td>Wii_Master_Nin</td>\n",
       "      <td>Con</td>\n",
       "    </tr>\n",
       "    <tr>\n",
       "      <th>8</th>\n",
       "      <td>.-.-.-Ha-YOURE-GOING-DOWN-BEEM0R/1/</td>\n",
       "      <td>. . . Ha! YOU'RE GOING DOWN, BEEM0R!</td>\n",
       "      <td>2009-02-02</td>\n",
       "      <td>NYCDiesel</td>\n",
       "      <td>Pro</td>\n",
       "    </tr>\n",
       "  </tbody>\n",
       "</table>\n",
       "</div>"
      ],
      "text/plain": [
       "                            debate_key                          debate_title  \\\n",
       "1  .-.-.-Ha-YOURE-GOING-DOWN-BEEM0R/1/  . . . Ha! YOU'RE GOING DOWN, BEEM0R!   \n",
       "5  .-.-.-Ha-YOURE-GOING-DOWN-BEEM0R/1/  . . . Ha! YOU'RE GOING DOWN, BEEM0R!   \n",
       "6  .-.-.-Ha-YOURE-GOING-DOWN-BEEM0R/1/  . . . Ha! YOU'RE GOING DOWN, BEEM0R!   \n",
       "7  .-.-.-Ha-YOURE-GOING-DOWN-BEEM0R/1/  . . . Ha! YOU'RE GOING DOWN, BEEM0R!   \n",
       "8  .-.-.-Ha-YOURE-GOING-DOWN-BEEM0R/1/  . . . Ha! YOU'RE GOING DOWN, BEEM0R!   \n",
       "\n",
       "  debate_date        username position  \n",
       "1  2009-02-02           jat93      Con  \n",
       "5  2009-02-02    philosphical      Pro  \n",
       "6  2009-02-02    rougeagent21      Pro  \n",
       "7  2009-02-02  Wii_Master_Nin      Con  \n",
       "8  2009-02-02       NYCDiesel      Pro  "
      ]
     },
     "execution_count": 4,
     "metadata": {},
     "output_type": "execute_result"
    }
   ],
   "source": [
    "df_vote    = pd.read_pickle('../dataset/02_ddo_initial_filtering/df_voter_full_notie_essential.p')\n",
    "df_vote.columns = ['debate_key', 'debate_title',  'debate_date', 'username', 'position']\n",
    "df_vote.head()"
   ]
  },
  {
   "cell_type": "code",
   "execution_count": 3,
   "id": "a2472799",
   "metadata": {},
   "outputs": [],
   "source": [
    "df_vote.to_pickle('../data/02_ddo_initial_filtering/df_voter_full_notie_essential_formatted.p')"
   ]
  },
  {
   "cell_type": "code",
   "execution_count": 16,
   "id": "95531f2d",
   "metadata": {},
   "outputs": [
    {
     "name": "stdout",
     "output_type": "stream",
     "text": [
      "data size: 75939\n",
      "num debates: 29009\n",
      "num debate title: 26014\n",
      "num users: 5736\n"
     ]
    }
   ],
   "source": [
    "print('data size:', len(df_vote))\n",
    "print('num debates:', len(df_vote['debate_key'].unique()))\n",
    "print('num debate title:', len(df_vote['debate_title'].unique()))\n",
    "print('num users:', len(df_vote['username'].unique()))\n"
   ]
  },
  {
   "cell_type": "code",
   "execution_count": 17,
   "id": "af4a321c",
   "metadata": {},
   "outputs": [],
   "source": [
    "vote_participation_counts = df_vote['username'].value_counts().values"
   ]
  },
  {
   "cell_type": "markdown",
   "id": "3f22eb7a",
   "metadata": {},
   "source": [
    "### Debater data"
   ]
  },
  {
   "cell_type": "code",
   "execution_count": 8,
   "id": "561ba7a3",
   "metadata": {},
   "outputs": [
    {
     "data": {
      "text/html": [
       "<div>\n",
       "<style scoped>\n",
       "    .dataframe tbody tr th:only-of-type {\n",
       "        vertical-align: middle;\n",
       "    }\n",
       "\n",
       "    .dataframe tbody tr th {\n",
       "        vertical-align: top;\n",
       "    }\n",
       "\n",
       "    .dataframe thead th {\n",
       "        text-align: right;\n",
       "    }\n",
       "</style>\n",
       "<table border=\"1\" class=\"dataframe\">\n",
       "  <thead>\n",
       "    <tr style=\"text-align: right;\">\n",
       "      <th></th>\n",
       "      <th>debate_key</th>\n",
       "      <th>debate_title</th>\n",
       "      <th>pro_user</th>\n",
       "      <th>con_user</th>\n",
       "      <th>start_date</th>\n",
       "      <th>category</th>\n",
       "    </tr>\n",
       "  </thead>\n",
       "  <tbody>\n",
       "    <tr>\n",
       "      <th>0</th>\n",
       "      <td>.-.-.-Ha-YOURE-GOING-DOWN-BEEM0R/1/</td>\n",
       "      <td>. . . Ha! YOU'RE GOING DOWN, BEEM0R!</td>\n",
       "      <td>Logical-Master</td>\n",
       "      <td>beem0r</td>\n",
       "      <td>2009-02-02</td>\n",
       "      <td>Miscellaneous</td>\n",
       "    </tr>\n",
       "    <tr>\n",
       "      <th>1</th>\n",
       "      <td>.-Audis-are-junkers-except-to-rich-kids-with-l...</td>\n",
       "      <td>. Audis are junkers, except to rich kids with ...</td>\n",
       "      <td>Max.Wallace</td>\n",
       "      <td>TheCalmCanadian</td>\n",
       "      <td>2014-09-04</td>\n",
       "      <td>Cars</td>\n",
       "    </tr>\n",
       "    <tr>\n",
       "      <th>2</th>\n",
       "      <td>....-Former-Secretary-of-State-Madeleine-Albri...</td>\n",
       "      <td>....\"Former Secretary of State Madeleine Albri...</td>\n",
       "      <td>Lookingatissues</td>\n",
       "      <td>Tide_Bleach</td>\n",
       "      <td>2017-01-30</td>\n",
       "      <td>Politics</td>\n",
       "    </tr>\n",
       "    <tr>\n",
       "      <th>3</th>\n",
       "      <td>...Words-can-t-hurt-me-any./1/</td>\n",
       "      <td>...Words can't hurt me any.</td>\n",
       "      <td>NonInDelicto</td>\n",
       "      <td>debaterjake</td>\n",
       "      <td>2007-12-19</td>\n",
       "      <td>Society</td>\n",
       "    </tr>\n",
       "    <tr>\n",
       "      <th>4</th>\n",
       "      <td>.9-repeated-is-equal-to-1./1/</td>\n",
       "      <td>.9 repeated is equal to 1.</td>\n",
       "      <td>cowpie1998</td>\n",
       "      <td>Extremely-Far-Right</td>\n",
       "      <td>2011-04-07</td>\n",
       "      <td>Science</td>\n",
       "    </tr>\n",
       "  </tbody>\n",
       "</table>\n",
       "</div>"
      ],
      "text/plain": [
       "                                          debate_key  \\\n",
       "0                .-.-.-Ha-YOURE-GOING-DOWN-BEEM0R/1/   \n",
       "1  .-Audis-are-junkers-except-to-rich-kids-with-l...   \n",
       "2  ....-Former-Secretary-of-State-Madeleine-Albri...   \n",
       "3                     ...Words-can-t-hurt-me-any./1/   \n",
       "4                      .9-repeated-is-equal-to-1./1/   \n",
       "\n",
       "                                        debate_title         pro_user  \\\n",
       "0               . . . Ha! YOU'RE GOING DOWN, BEEM0R!   Logical-Master   \n",
       "1  . Audis are junkers, except to rich kids with ...      Max.Wallace   \n",
       "2  ....\"Former Secretary of State Madeleine Albri...  Lookingatissues   \n",
       "3                        ...Words can't hurt me any.     NonInDelicto   \n",
       "4                         .9 repeated is equal to 1.       cowpie1998   \n",
       "\n",
       "              con_user start_date       category  \n",
       "0               beem0r 2009-02-02  Miscellaneous  \n",
       "1      TheCalmCanadian 2014-09-04           Cars  \n",
       "2          Tide_Bleach 2017-01-30       Politics  \n",
       "3          debaterjake 2007-12-19        Society  \n",
       "4  Extremely-Far-Right 2011-04-07        Science  "
      ]
     },
     "execution_count": 8,
     "metadata": {},
     "output_type": "execute_result"
    }
   ],
   "source": [
    "df_debater = pd.read_pickle('../dataset/02_ddo_initial_filtering/df_debaters.p')\n",
    "df_debater.head()"
   ]
  },
  {
   "cell_type": "code",
   "execution_count": 10,
   "id": "cfb3df8d",
   "metadata": {},
   "outputs": [
    {
     "name": "stdout",
     "output_type": "stream",
     "text": [
      "data size: 78376\n",
      "num debates: 78345\n",
      "num debate title: 68900\n"
     ]
    }
   ],
   "source": [
    "print('data size:', len(df_debater))\n",
    "print('num debates:', len(df_debater['debate_key'].unique()))\n",
    "print('num debate title:', len(df_debater['debate_title'].unique()))"
   ]
  },
  {
   "cell_type": "code",
   "execution_count": 11,
   "id": "2c9960a3",
   "metadata": {},
   "outputs": [
    {
     "name": "stdout",
     "output_type": "stream",
     "text": [
      "num unique users (debaters): 42906\n"
     ]
    }
   ],
   "source": [
    "all_debaters = df_debater['pro_user'].to_list() + df_debater['con_user'].to_list()\n",
    "all_debaters = Series(all_debaters)\n",
    "print(\"num unique users (debaters):\", len(all_debaters.unique()))"
   ]
  },
  {
   "cell_type": "code",
   "execution_count": 12,
   "id": "757260bd",
   "metadata": {},
   "outputs": [],
   "source": [
    "debate_participation_counts = all_debaters.value_counts().values"
   ]
  },
  {
   "cell_type": "code",
   "execution_count": 13,
   "id": "b49c7f0a",
   "metadata": {},
   "outputs": [
    {
     "data": {
      "text/plain": [
       "156752"
      ]
     },
     "execution_count": 13,
     "metadata": {},
     "output_type": "execute_result"
    }
   ],
   "source": [
    "sum(debate_participation_counts)"
   ]
  },
  {
   "cell_type": "code",
   "execution_count": 14,
   "id": "acb3a1e0",
   "metadata": {},
   "outputs": [
    {
     "data": {
      "text/plain": [
       "3.653381811401669"
      ]
     },
     "execution_count": 14,
     "metadata": {},
     "output_type": "execute_result"
    }
   ],
   "source": [
    "156752/42906"
   ]
  },
  {
   "cell_type": "markdown",
   "id": "ab446ce5",
   "metadata": {},
   "source": [
    "### Comparison"
   ]
  },
  {
   "cell_type": "code",
   "execution_count": 18,
   "id": "82bdb6d6",
   "metadata": {},
   "outputs": [
    {
     "data": {
      "image/png": "[encoded data removed]",
      "text/plain": [
       "<Figure size 900x600 with 1 Axes>"
      ]
     },
     "metadata": {
      "needs_background": "light"
     },
     "output_type": "display_data"
    }
   ],
   "source": [
    "fig, ax = plt.subplots()\n",
    "sns.histplot(debate_participation_counts, label='Debaters', binwidth=1, ax=ax)\n",
    "sns.histplot(vote_participation_counts, label='Voters', binwidth=1, ax=ax, color='orange')\n",
    "\n",
    "plt.xlabel('Number of participation')\n",
    "plt.xscale('log')\n",
    "plt.legend()\n",
    "\n",
    "plt.savefig('../fig/dataprocess/voter_vs_debater_(logx).pdf', transparent=True, bbox_inches='tight')"
   ]
  },
  {
   "cell_type": "markdown",
   "id": "ab1f7b45",
   "metadata": {},
   "source": [
    "## Integration of two dataset"
   ]
  },
  {
   "cell_type": "code",
   "execution_count": 19,
   "id": "b4404a34",
   "metadata": {},
   "outputs": [
    {
     "data": {
      "text/html": [
       "<div>\n",
       "<style scoped>\n",
       "    .dataframe tbody tr th:only-of-type {\n",
       "        vertical-align: middle;\n",
       "    }\n",
       "\n",
       "    .dataframe tbody tr th {\n",
       "        vertical-align: top;\n",
       "    }\n",
       "\n",
       "    .dataframe thead th {\n",
       "        text-align: right;\n",
       "    }\n",
       "</style>\n",
       "<table border=\"1\" class=\"dataframe\">\n",
       "  <thead>\n",
       "    <tr style=\"text-align: right;\">\n",
       "      <th></th>\n",
       "      <th>debate_key</th>\n",
       "      <th>debate_title</th>\n",
       "      <th>debate_date</th>\n",
       "      <th>username</th>\n",
       "      <th>position</th>\n",
       "    </tr>\n",
       "  </thead>\n",
       "  <tbody>\n",
       "    <tr>\n",
       "      <th>1</th>\n",
       "      <td>.-.-.-Ha-YOURE-GOING-DOWN-BEEM0R/1/</td>\n",
       "      <td>. . . Ha! YOU'RE GOING DOWN, BEEM0R!</td>\n",
       "      <td>2009-02-02</td>\n",
       "      <td>jat93</td>\n",
       "      <td>Con</td>\n",
       "    </tr>\n",
       "    <tr>\n",
       "      <th>5</th>\n",
       "      <td>.-.-.-Ha-YOURE-GOING-DOWN-BEEM0R/1/</td>\n",
       "      <td>. . . Ha! YOU'RE GOING DOWN, BEEM0R!</td>\n",
       "      <td>2009-02-02</td>\n",
       "      <td>philosphical</td>\n",
       "      <td>Pro</td>\n",
       "    </tr>\n",
       "    <tr>\n",
       "      <th>6</th>\n",
       "      <td>.-.-.-Ha-YOURE-GOING-DOWN-BEEM0R/1/</td>\n",
       "      <td>. . . Ha! YOU'RE GOING DOWN, BEEM0R!</td>\n",
       "      <td>2009-02-02</td>\n",
       "      <td>rougeagent21</td>\n",
       "      <td>Pro</td>\n",
       "    </tr>\n",
       "    <tr>\n",
       "      <th>7</th>\n",
       "      <td>.-.-.-Ha-YOURE-GOING-DOWN-BEEM0R/1/</td>\n",
       "      <td>. . . Ha! YOU'RE GOING DOWN, BEEM0R!</td>\n",
       "      <td>2009-02-02</td>\n",
       "      <td>Wii_Master_Nin</td>\n",
       "      <td>Con</td>\n",
       "    </tr>\n",
       "    <tr>\n",
       "      <th>8</th>\n",
       "      <td>.-.-.-Ha-YOURE-GOING-DOWN-BEEM0R/1/</td>\n",
       "      <td>. . . Ha! YOU'RE GOING DOWN, BEEM0R!</td>\n",
       "      <td>2009-02-02</td>\n",
       "      <td>NYCDiesel</td>\n",
       "      <td>Pro</td>\n",
       "    </tr>\n",
       "  </tbody>\n",
       "</table>\n",
       "</div>"
      ],
      "text/plain": [
       "                            debate_key                          debate_title  \\\n",
       "1  .-.-.-Ha-YOURE-GOING-DOWN-BEEM0R/1/  . . . Ha! YOU'RE GOING DOWN, BEEM0R!   \n",
       "5  .-.-.-Ha-YOURE-GOING-DOWN-BEEM0R/1/  . . . Ha! YOU'RE GOING DOWN, BEEM0R!   \n",
       "6  .-.-.-Ha-YOURE-GOING-DOWN-BEEM0R/1/  . . . Ha! YOU'RE GOING DOWN, BEEM0R!   \n",
       "7  .-.-.-Ha-YOURE-GOING-DOWN-BEEM0R/1/  . . . Ha! YOU'RE GOING DOWN, BEEM0R!   \n",
       "8  .-.-.-Ha-YOURE-GOING-DOWN-BEEM0R/1/  . . . Ha! YOU'RE GOING DOWN, BEEM0R!   \n",
       "\n",
       "  debate_date        username position  \n",
       "1  2009-02-02           jat93      Con  \n",
       "5  2009-02-02    philosphical      Pro  \n",
       "6  2009-02-02    rougeagent21      Pro  \n",
       "7  2009-02-02  Wii_Master_Nin      Con  \n",
       "8  2009-02-02       NYCDiesel      Pro  "
      ]
     },
     "execution_count": 19,
     "metadata": {},
     "output_type": "execute_result"
    }
   ],
   "source": [
    "df_vote.head()"
   ]
  },
  {
   "cell_type": "code",
   "execution_count": 20,
   "id": "f4f9ed36",
   "metadata": {},
   "outputs": [
    {
     "data": {
      "text/html": [
       "<div>\n",
       "<style scoped>\n",
       "    .dataframe tbody tr th:only-of-type {\n",
       "        vertical-align: middle;\n",
       "    }\n",
       "\n",
       "    .dataframe tbody tr th {\n",
       "        vertical-align: top;\n",
       "    }\n",
       "\n",
       "    .dataframe thead th {\n",
       "        text-align: right;\n",
       "    }\n",
       "</style>\n",
       "<table border=\"1\" class=\"dataframe\">\n",
       "  <thead>\n",
       "    <tr style=\"text-align: right;\">\n",
       "      <th></th>\n",
       "      <th>debate_key</th>\n",
       "      <th>debate_title</th>\n",
       "      <th>pro_user</th>\n",
       "      <th>con_user</th>\n",
       "      <th>start_date</th>\n",
       "      <th>category</th>\n",
       "    </tr>\n",
       "  </thead>\n",
       "  <tbody>\n",
       "    <tr>\n",
       "      <th>0</th>\n",
       "      <td>.-.-.-Ha-YOURE-GOING-DOWN-BEEM0R/1/</td>\n",
       "      <td>. . . Ha! YOU'RE GOING DOWN, BEEM0R!</td>\n",
       "      <td>Logical-Master</td>\n",
       "      <td>beem0r</td>\n",
       "      <td>2009-02-02</td>\n",
       "      <td>Miscellaneous</td>\n",
       "    </tr>\n",
       "    <tr>\n",
       "      <th>1</th>\n",
       "      <td>.-Audis-are-junkers-except-to-rich-kids-with-l...</td>\n",
       "      <td>. Audis are junkers, except to rich kids with ...</td>\n",
       "      <td>Max.Wallace</td>\n",
       "      <td>TheCalmCanadian</td>\n",
       "      <td>2014-09-04</td>\n",
       "      <td>Cars</td>\n",
       "    </tr>\n",
       "    <tr>\n",
       "      <th>2</th>\n",
       "      <td>....-Former-Secretary-of-State-Madeleine-Albri...</td>\n",
       "      <td>....\"Former Secretary of State Madeleine Albri...</td>\n",
       "      <td>Lookingatissues</td>\n",
       "      <td>Tide_Bleach</td>\n",
       "      <td>2017-01-30</td>\n",
       "      <td>Politics</td>\n",
       "    </tr>\n",
       "    <tr>\n",
       "      <th>3</th>\n",
       "      <td>...Words-can-t-hurt-me-any./1/</td>\n",
       "      <td>...Words can't hurt me any.</td>\n",
       "      <td>NonInDelicto</td>\n",
       "      <td>debaterjake</td>\n",
       "      <td>2007-12-19</td>\n",
       "      <td>Society</td>\n",
       "    </tr>\n",
       "    <tr>\n",
       "      <th>4</th>\n",
       "      <td>.9-repeated-is-equal-to-1./1/</td>\n",
       "      <td>.9 repeated is equal to 1.</td>\n",
       "      <td>cowpie1998</td>\n",
       "      <td>Extremely-Far-Right</td>\n",
       "      <td>2011-04-07</td>\n",
       "      <td>Science</td>\n",
       "    </tr>\n",
       "  </tbody>\n",
       "</table>\n",
       "</div>"
      ],
      "text/plain": [
       "                                          debate_key  \\\n",
       "0                .-.-.-Ha-YOURE-GOING-DOWN-BEEM0R/1/   \n",
       "1  .-Audis-are-junkers-except-to-rich-kids-with-l...   \n",
       "2  ....-Former-Secretary-of-State-Madeleine-Albri...   \n",
       "3                     ...Words-can-t-hurt-me-any./1/   \n",
       "4                      .9-repeated-is-equal-to-1./1/   \n",
       "\n",
       "                                        debate_title         pro_user  \\\n",
       "0               . . . Ha! YOU'RE GOING DOWN, BEEM0R!   Logical-Master   \n",
       "1  . Audis are junkers, except to rich kids with ...      Max.Wallace   \n",
       "2  ....\"Former Secretary of State Madeleine Albri...  Lookingatissues   \n",
       "3                        ...Words can't hurt me any.     NonInDelicto   \n",
       "4                         .9 repeated is equal to 1.       cowpie1998   \n",
       "\n",
       "              con_user start_date       category  \n",
       "0               beem0r 2009-02-02  Miscellaneous  \n",
       "1      TheCalmCanadian 2014-09-04           Cars  \n",
       "2          Tide_Bleach 2017-01-30       Politics  \n",
       "3          debaterjake 2007-12-19        Society  \n",
       "4  Extremely-Far-Right 2011-04-07        Science  "
      ]
     },
     "execution_count": 20,
     "metadata": {},
     "output_type": "execute_result"
    }
   ],
   "source": [
    "df_debater.head()"
   ]
  },
  {
   "cell_type": "code",
   "execution_count": 21,
   "id": "de71cacb",
   "metadata": {},
   "outputs": [
    {
     "name": "stderr",
     "output_type": "stream",
     "text": [
      "/var/folders/r8/jdw1p2tj6jn34wf676kcsw_r0000gn/T/ipykernel_75299/2895185664.py:3: SettingWithCopyWarning: \n",
      "A value is trying to be set on a copy of a slice from a DataFrame.\n",
      "Try using .loc[row_indexer,col_indexer] = value instead\n",
      "\n",
      "See the caveats in the documentation: https://pandas.pydata.org/pandas-docs/stable/user_guide/indexing.html#returning-a-view-versus-a-copy\n",
      "  df_debater_pro['position'] = 'Pro'\n",
      "/var/folders/r8/jdw1p2tj6jn34wf676kcsw_r0000gn/T/ipykernel_75299/2895185664.py:7: SettingWithCopyWarning: \n",
      "A value is trying to be set on a copy of a slice from a DataFrame.\n",
      "Try using .loc[row_indexer,col_indexer] = value instead\n",
      "\n",
      "See the caveats in the documentation: https://pandas.pydata.org/pandas-docs/stable/user_guide/indexing.html#returning-a-view-versus-a-copy\n",
      "  df_debater_con['position'] = 'Con'\n"
     ]
    }
   ],
   "source": [
    "#change format similar to the voter data\n",
    "df_debater_pro = df_debater[['debate_key', 'debate_title', 'pro_user', 'start_date']]\n",
    "df_debater_pro['position'] = 'Pro'\n",
    "df_debater_pro.columns = ['debate_key', 'debate_title', 'username', 'debate_date', 'position']\n",
    "\n",
    "df_debater_con = df_debater[['debate_key', 'debate_title', 'con_user', 'start_date']]\n",
    "df_debater_con['position'] = 'Con'\n",
    "df_debater_con.columns = ['debate_key', 'debate_title', 'username', 'debate_date', 'position']"
   ]
  },
  {
   "cell_type": "code",
   "execution_count": 22,
   "id": "9eba2b7b",
   "metadata": {},
   "outputs": [
    {
     "name": "stdout",
     "output_type": "stream",
     "text": [
      "156752\n"
     ]
    },
    {
     "data": {
      "text/html": [
       "<div>\n",
       "<style scoped>\n",
       "    .dataframe tbody tr th:only-of-type {\n",
       "        vertical-align: middle;\n",
       "    }\n",
       "\n",
       "    .dataframe tbody tr th {\n",
       "        vertical-align: top;\n",
       "    }\n",
       "\n",
       "    .dataframe thead th {\n",
       "        text-align: right;\n",
       "    }\n",
       "</style>\n",
       "<table border=\"1\" class=\"dataframe\">\n",
       "  <thead>\n",
       "    <tr style=\"text-align: right;\">\n",
       "      <th></th>\n",
       "      <th>debate_key</th>\n",
       "      <th>debate_title</th>\n",
       "      <th>username</th>\n",
       "      <th>debate_date</th>\n",
       "      <th>position</th>\n",
       "    </tr>\n",
       "  </thead>\n",
       "  <tbody>\n",
       "    <tr>\n",
       "      <th>0</th>\n",
       "      <td>.-.-.-Ha-YOURE-GOING-DOWN-BEEM0R/1/</td>\n",
       "      <td>. . . Ha! YOU'RE GOING DOWN, BEEM0R!</td>\n",
       "      <td>Logical-Master</td>\n",
       "      <td>2009-02-02</td>\n",
       "      <td>Pro</td>\n",
       "    </tr>\n",
       "    <tr>\n",
       "      <th>1</th>\n",
       "      <td>.-Audis-are-junkers-except-to-rich-kids-with-l...</td>\n",
       "      <td>. Audis are junkers, except to rich kids with ...</td>\n",
       "      <td>Max.Wallace</td>\n",
       "      <td>2014-09-04</td>\n",
       "      <td>Pro</td>\n",
       "    </tr>\n",
       "    <tr>\n",
       "      <th>2</th>\n",
       "      <td>....-Former-Secretary-of-State-Madeleine-Albri...</td>\n",
       "      <td>....\"Former Secretary of State Madeleine Albri...</td>\n",
       "      <td>Lookingatissues</td>\n",
       "      <td>2017-01-30</td>\n",
       "      <td>Pro</td>\n",
       "    </tr>\n",
       "    <tr>\n",
       "      <th>3</th>\n",
       "      <td>...Words-can-t-hurt-me-any./1/</td>\n",
       "      <td>...Words can't hurt me any.</td>\n",
       "      <td>NonInDelicto</td>\n",
       "      <td>2007-12-19</td>\n",
       "      <td>Pro</td>\n",
       "    </tr>\n",
       "    <tr>\n",
       "      <th>4</th>\n",
       "      <td>.9-repeated-is-equal-to-1./1/</td>\n",
       "      <td>.9 repeated is equal to 1.</td>\n",
       "      <td>cowpie1998</td>\n",
       "      <td>2011-04-07</td>\n",
       "      <td>Pro</td>\n",
       "    </tr>\n",
       "  </tbody>\n",
       "</table>\n",
       "</div>"
      ],
      "text/plain": [
       "                                          debate_key  \\\n",
       "0                .-.-.-Ha-YOURE-GOING-DOWN-BEEM0R/1/   \n",
       "1  .-Audis-are-junkers-except-to-rich-kids-with-l...   \n",
       "2  ....-Former-Secretary-of-State-Madeleine-Albri...   \n",
       "3                     ...Words-can-t-hurt-me-any./1/   \n",
       "4                      .9-repeated-is-equal-to-1./1/   \n",
       "\n",
       "                                        debate_title         username  \\\n",
       "0               . . . Ha! YOU'RE GOING DOWN, BEEM0R!   Logical-Master   \n",
       "1  . Audis are junkers, except to rich kids with ...      Max.Wallace   \n",
       "2  ....\"Former Secretary of State Madeleine Albri...  Lookingatissues   \n",
       "3                        ...Words can't hurt me any.     NonInDelicto   \n",
       "4                         .9 repeated is equal to 1.       cowpie1998   \n",
       "\n",
       "  debate_date position  \n",
       "0  2009-02-02      Pro  \n",
       "1  2014-09-04      Pro  \n",
       "2  2017-01-30      Pro  \n",
       "3  2007-12-19      Pro  \n",
       "4  2011-04-07      Pro  "
      ]
     },
     "execution_count": 22,
     "metadata": {},
     "output_type": "execute_result"
    }
   ],
   "source": [
    "df_debater_concat = pd.concat([df_debater_pro, df_debater_con], axis=0) \n",
    "print(len(df_debater_concat))\n",
    "df_debater_concat.head()"
   ]
  },
  {
   "cell_type": "code",
   "execution_count": 115,
   "id": "f30f7d72",
   "metadata": {},
   "outputs": [],
   "source": [
    "df_debater_concat.to_pickle('../data/02_ddo_initial_filtering/df_debater_formatted.p')"
   ]
  },
  {
   "cell_type": "markdown",
   "id": "713ed097",
   "metadata": {},
   "source": [
    "### Merge two debaters and voters data"
   ]
  },
  {
   "cell_type": "code",
   "execution_count": 24,
   "id": "2e07472d",
   "metadata": {},
   "outputs": [
    {
     "data": {
      "text/html": [
       "<div>\n",
       "<style scoped>\n",
       "    .dataframe tbody tr th:only-of-type {\n",
       "        vertical-align: middle;\n",
       "    }\n",
       "\n",
       "    .dataframe tbody tr th {\n",
       "        vertical-align: top;\n",
       "    }\n",
       "\n",
       "    .dataframe thead th {\n",
       "        text-align: right;\n",
       "    }\n",
       "</style>\n",
       "<table border=\"1\" class=\"dataframe\">\n",
       "  <thead>\n",
       "    <tr style=\"text-align: right;\">\n",
       "      <th></th>\n",
       "      <th>debate_key</th>\n",
       "      <th>debate_title</th>\n",
       "      <th>username</th>\n",
       "      <th>debate_date</th>\n",
       "      <th>position</th>\n",
       "    </tr>\n",
       "  </thead>\n",
       "  <tbody>\n",
       "    <tr>\n",
       "      <th>0</th>\n",
       "      <td>.-.-.-Ha-YOURE-GOING-DOWN-BEEM0R/1/</td>\n",
       "      <td>. . . Ha! YOU'RE GOING DOWN, BEEM0R!</td>\n",
       "      <td>Logical-Master</td>\n",
       "      <td>2009-02-02</td>\n",
       "      <td>Pro</td>\n",
       "    </tr>\n",
       "    <tr>\n",
       "      <th>1</th>\n",
       "      <td>.-Audis-are-junkers-except-to-rich-kids-with-l...</td>\n",
       "      <td>. Audis are junkers, except to rich kids with ...</td>\n",
       "      <td>Max.Wallace</td>\n",
       "      <td>2014-09-04</td>\n",
       "      <td>Pro</td>\n",
       "    </tr>\n",
       "    <tr>\n",
       "      <th>2</th>\n",
       "      <td>....-Former-Secretary-of-State-Madeleine-Albri...</td>\n",
       "      <td>....\"Former Secretary of State Madeleine Albri...</td>\n",
       "      <td>Lookingatissues</td>\n",
       "      <td>2017-01-30</td>\n",
       "      <td>Pro</td>\n",
       "    </tr>\n",
       "    <tr>\n",
       "      <th>3</th>\n",
       "      <td>...Words-can-t-hurt-me-any./1/</td>\n",
       "      <td>...Words can't hurt me any.</td>\n",
       "      <td>NonInDelicto</td>\n",
       "      <td>2007-12-19</td>\n",
       "      <td>Pro</td>\n",
       "    </tr>\n",
       "    <tr>\n",
       "      <th>4</th>\n",
       "      <td>.9-repeated-is-equal-to-1./1/</td>\n",
       "      <td>.9 repeated is equal to 1.</td>\n",
       "      <td>cowpie1998</td>\n",
       "      <td>2011-04-07</td>\n",
       "      <td>Pro</td>\n",
       "    </tr>\n",
       "    <tr>\n",
       "      <th>...</th>\n",
       "      <td>...</td>\n",
       "      <td>...</td>\n",
       "      <td>...</td>\n",
       "      <td>...</td>\n",
       "      <td>...</td>\n",
       "    </tr>\n",
       "    <tr>\n",
       "      <th>199201</th>\n",
       "      <td>zoos/1/</td>\n",
       "      <td>zoos</td>\n",
       "      <td>RoyLatham</td>\n",
       "      <td>2009-05-18</td>\n",
       "      <td>Pro</td>\n",
       "    </tr>\n",
       "    <tr>\n",
       "      <th>199205</th>\n",
       "      <td>zygote-is-not-A-person/1/</td>\n",
       "      <td>zygote is not A person</td>\n",
       "      <td>progressivedem22</td>\n",
       "      <td>2014-01-30</td>\n",
       "      <td>Pro</td>\n",
       "    </tr>\n",
       "    <tr>\n",
       "      <th>199206</th>\n",
       "      <td>zygote-is-not-A-person/1/</td>\n",
       "      <td>zygote is not A person</td>\n",
       "      <td>saxman</td>\n",
       "      <td>2014-01-30</td>\n",
       "      <td>Con</td>\n",
       "    </tr>\n",
       "    <tr>\n",
       "      <th>199207</th>\n",
       "      <td>zygote-is-not-A-person/1/</td>\n",
       "      <td>zygote is not A person</td>\n",
       "      <td>CynicalDiogenes</td>\n",
       "      <td>2014-01-30</td>\n",
       "      <td>Con</td>\n",
       "    </tr>\n",
       "    <tr>\n",
       "      <th>199208</th>\n",
       "      <td>zygote-is-not-A-person/1/</td>\n",
       "      <td>zygote is not A person</td>\n",
       "      <td>black_squirrel</td>\n",
       "      <td>2014-01-30</td>\n",
       "      <td>Pro</td>\n",
       "    </tr>\n",
       "  </tbody>\n",
       "</table>\n",
       "<p>232691 rows × 5 columns</p>\n",
       "</div>"
      ],
      "text/plain": [
       "                                               debate_key  \\\n",
       "0                     .-.-.-Ha-YOURE-GOING-DOWN-BEEM0R/1/   \n",
       "1       .-Audis-are-junkers-except-to-rich-kids-with-l...   \n",
       "2       ....-Former-Secretary-of-State-Madeleine-Albri...   \n",
       "3                          ...Words-can-t-hurt-me-any./1/   \n",
       "4                           .9-repeated-is-equal-to-1./1/   \n",
       "...                                                   ...   \n",
       "199201                                            zoos/1/   \n",
       "199205                          zygote-is-not-A-person/1/   \n",
       "199206                          zygote-is-not-A-person/1/   \n",
       "199207                          zygote-is-not-A-person/1/   \n",
       "199208                          zygote-is-not-A-person/1/   \n",
       "\n",
       "                                             debate_title          username  \\\n",
       "0                    . . . Ha! YOU'RE GOING DOWN, BEEM0R!    Logical-Master   \n",
       "1       . Audis are junkers, except to rich kids with ...       Max.Wallace   \n",
       "2       ....\"Former Secretary of State Madeleine Albri...   Lookingatissues   \n",
       "3                             ...Words can't hurt me any.      NonInDelicto   \n",
       "4                              .9 repeated is equal to 1.        cowpie1998   \n",
       "...                                                   ...               ...   \n",
       "199201                                               zoos         RoyLatham   \n",
       "199205                             zygote is not A person  progressivedem22   \n",
       "199206                             zygote is not A person            saxman   \n",
       "199207                             zygote is not A person   CynicalDiogenes   \n",
       "199208                             zygote is not A person    black_squirrel   \n",
       "\n",
       "       debate_date position  \n",
       "0       2009-02-02      Pro  \n",
       "1       2014-09-04      Pro  \n",
       "2       2017-01-30      Pro  \n",
       "3       2007-12-19      Pro  \n",
       "4       2011-04-07      Pro  \n",
       "...            ...      ...  \n",
       "199201  2009-05-18      Pro  \n",
       "199205  2014-01-30      Pro  \n",
       "199206  2014-01-30      Con  \n",
       "199207  2014-01-30      Con  \n",
       "199208  2014-01-30      Pro  \n",
       "\n",
       "[232691 rows x 5 columns]"
      ]
     },
     "execution_count": 24,
     "metadata": {},
     "output_type": "execute_result"
    }
   ],
   "source": [
    "df_combined = pd.concat([df_debater_concat, df_vote], axis=0)\n",
    "df_combined"
   ]
  },
  {
   "cell_type": "code",
   "execution_count": null,
   "id": "d0e9b7b8",
   "metadata": {},
   "outputs": [],
   "source": [
    "df_combined.to_pickle('../data/02_ddo_initial_filtering/df_debater_vote_merged.p')"
   ]
  },
  {
   "cell_type": "code",
   "execution_count": 24,
   "id": "4ce0c1ff",
   "metadata": {},
   "outputs": [],
   "source": [
    "df_combined = pd.read_pickle('../data/02_ddo_initial_filtering/df_debater_vote_merged.p')"
   ]
  },
  {
   "cell_type": "code",
   "execution_count": 25,
   "id": "b7f0cb9f",
   "metadata": {},
   "outputs": [
    {
     "data": {
      "text/html": [
       "<div>\n",
       "<style scoped>\n",
       "    .dataframe tbody tr th:only-of-type {\n",
       "        vertical-align: middle;\n",
       "    }\n",
       "\n",
       "    .dataframe tbody tr th {\n",
       "        vertical-align: top;\n",
       "    }\n",
       "\n",
       "    .dataframe thead th {\n",
       "        text-align: right;\n",
       "    }\n",
       "</style>\n",
       "<table border=\"1\" class=\"dataframe\">\n",
       "  <thead>\n",
       "    <tr style=\"text-align: right;\">\n",
       "      <th></th>\n",
       "      <th>debate_key</th>\n",
       "      <th>debate_title</th>\n",
       "      <th>username</th>\n",
       "      <th>debate_date</th>\n",
       "      <th>position</th>\n",
       "    </tr>\n",
       "  </thead>\n",
       "  <tbody>\n",
       "    <tr>\n",
       "      <th>0</th>\n",
       "      <td>.-.-.-Ha-YOURE-GOING-DOWN-BEEM0R/1/</td>\n",
       "      <td>. . . Ha! YOU'RE GOING DOWN, BEEM0R!</td>\n",
       "      <td>Logical-Master</td>\n",
       "      <td>2009-02-02</td>\n",
       "      <td>Pro</td>\n",
       "    </tr>\n",
       "    <tr>\n",
       "      <th>1</th>\n",
       "      <td>.-Audis-are-junkers-except-to-rich-kids-with-l...</td>\n",
       "      <td>. Audis are junkers, except to rich kids with ...</td>\n",
       "      <td>Max.Wallace</td>\n",
       "      <td>2014-09-04</td>\n",
       "      <td>Pro</td>\n",
       "    </tr>\n",
       "    <tr>\n",
       "      <th>2</th>\n",
       "      <td>....-Former-Secretary-of-State-Madeleine-Albri...</td>\n",
       "      <td>....\"Former Secretary of State Madeleine Albri...</td>\n",
       "      <td>Lookingatissues</td>\n",
       "      <td>2017-01-30</td>\n",
       "      <td>Pro</td>\n",
       "    </tr>\n",
       "    <tr>\n",
       "      <th>3</th>\n",
       "      <td>...Words-can-t-hurt-me-any./1/</td>\n",
       "      <td>...Words can't hurt me any.</td>\n",
       "      <td>NonInDelicto</td>\n",
       "      <td>2007-12-19</td>\n",
       "      <td>Pro</td>\n",
       "    </tr>\n",
       "    <tr>\n",
       "      <th>4</th>\n",
       "      <td>.9-repeated-is-equal-to-1./1/</td>\n",
       "      <td>.9 repeated is equal to 1.</td>\n",
       "      <td>cowpie1998</td>\n",
       "      <td>2011-04-07</td>\n",
       "      <td>Pro</td>\n",
       "    </tr>\n",
       "  </tbody>\n",
       "</table>\n",
       "</div>"
      ],
      "text/plain": [
       "                                          debate_key  \\\n",
       "0                .-.-.-Ha-YOURE-GOING-DOWN-BEEM0R/1/   \n",
       "1  .-Audis-are-junkers-except-to-rich-kids-with-l...   \n",
       "2  ....-Former-Secretary-of-State-Madeleine-Albri...   \n",
       "3                     ...Words-can-t-hurt-me-any./1/   \n",
       "4                      .9-repeated-is-equal-to-1./1/   \n",
       "\n",
       "                                        debate_title         username  \\\n",
       "0               . . . Ha! YOU'RE GOING DOWN, BEEM0R!   Logical-Master   \n",
       "1  . Audis are junkers, except to rich kids with ...      Max.Wallace   \n",
       "2  ....\"Former Secretary of State Madeleine Albri...  Lookingatissues   \n",
       "3                        ...Words can't hurt me any.     NonInDelicto   \n",
       "4                         .9 repeated is equal to 1.       cowpie1998   \n",
       "\n",
       "  debate_date position  \n",
       "0  2009-02-02      Pro  \n",
       "1  2014-09-04      Pro  \n",
       "2  2017-01-30      Pro  \n",
       "3  2007-12-19      Pro  \n",
       "4  2011-04-07      Pro  "
      ]
     },
     "execution_count": 25,
     "metadata": {},
     "output_type": "execute_result"
    }
   ],
   "source": [
    "df_combined.head()"
   ]
  },
  {
   "cell_type": "code",
   "execution_count": 27,
   "id": "198bc594",
   "metadata": {},
   "outputs": [
    {
     "name": "stdout",
     "output_type": "stream",
     "text": [
      "data size: 232691\n",
      "num debates: 78362\n",
      "num debate title: 68900\n",
      "num users: 44510\n",
      "average participation: 5.227836441249157\n"
     ]
    }
   ],
   "source": [
    "print('data size:', len(df_combined))\n",
    "print('num debates:', len(df_combined['debate_key'].unique()))\n",
    "print('num debate title:', len(df_combined['debate_title'].unique()))\n",
    "print('num users:', len(df_combined['username'].unique()))\n",
    "print('average participation:', len(df_combined)/len(df_combined['username'].unique())  )"
   ]
  },
  {
   "cell_type": "code",
   "execution_count": 39,
   "id": "4e1411f7",
   "metadata": {},
   "outputs": [
    {
     "data": {
      "image/png": "[encoded data removed]",
      "text/plain": [
       "<Figure size 900x600 with 1 Axes>"
      ]
     },
     "metadata": {
      "needs_background": "light"
     },
     "output_type": "display_data"
    }
   ],
   "source": [
    "plt.figure()\n",
    "sns.histplot(df_combined['username'].value_counts().values, label='Debaters+Voters',color='r', binwidth=1)\n",
    "sns.histplot(debate_participation_counts, label='Debaters', binwidth=1)\n",
    "sns.histplot(vote_participation_counts, label='Voters', binwidth=1, color='orange')\n",
    "\n",
    "plt.xlabel('Number of participation')\n",
    "plt.xscale('log')\n",
    "plt.legend()\n",
    "plt.savefig('../fig/dataprocess/number_of_participation_voter_debater_(logx).pdf',transparent=True, bbox_inches='tight')"
   ]
  },
  {
   "cell_type": "code",
   "execution_count": 40,
   "id": "edb2f3c8",
   "metadata": {},
   "outputs": [
    {
     "data": {
      "image/png": "[encoded data removed]",
      "text/plain": [
       "<Figure size 900x600 with 1 Axes>"
      ]
     },
     "metadata": {
      "needs_background": "light"
     },
     "output_type": "display_data"
    }
   ],
   "source": [
    "plt.figure()\n",
    "sns.histplot(df_combined['username'].value_counts().values, label='Debaters+Voters',color='r', binwidth=1)\n",
    "sns.histplot(debate_participation_counts, label='Debaters', binwidth=1)\n",
    "sns.histplot(vote_participation_counts, label='Voters', binwidth=1, color='orange')\n",
    "\n",
    "plt.xlabel('Number of participation')\n",
    "plt.xlim(2,50)\n",
    "plt.ylim(0,10000)\n",
    "plt.legend()\n",
    "plt.savefig('../fig/dataprocess/number_of_participation_voter_debater_(linearx).pdf', transparent=True, bbox_inches='tight')"
   ]
  },
  {
   "cell_type": "code",
   "execution_count": 160,
   "id": "47cf6eae",
   "metadata": {},
   "outputs": [
    {
     "name": "stdout",
     "output_type": "stream",
     "text": [
      "# User with records more than 2: 21113\n"
     ]
    }
   ],
   "source": [
    "user_up2 = df_combined['username'].value_counts()[(df_combined['username'].value_counts() != 1)]\n",
    "user_up2.keys()\n",
    "print('# User with records more than 2:', len(user_up2.keys()))\n",
    "user_up2_list = list(user_up2.keys())"
   ]
  },
  {
   "cell_type": "code",
   "execution_count": 162,
   "id": "2a19c200",
   "metadata": {},
   "outputs": [
    {
     "data": {
      "text/html": [
       "<div>\n",
       "<style scoped>\n",
       "    .dataframe tbody tr th:only-of-type {\n",
       "        vertical-align: middle;\n",
       "    }\n",
       "\n",
       "    .dataframe tbody tr th {\n",
       "        vertical-align: top;\n",
       "    }\n",
       "\n",
       "    .dataframe thead th {\n",
       "        text-align: right;\n",
       "    }\n",
       "</style>\n",
       "<table border=\"1\" class=\"dataframe\">\n",
       "  <thead>\n",
       "    <tr style=\"text-align: right;\">\n",
       "      <th></th>\n",
       "      <th>debate_key</th>\n",
       "      <th>debate_title</th>\n",
       "      <th>username</th>\n",
       "      <th>debate_date</th>\n",
       "      <th>position</th>\n",
       "    </tr>\n",
       "  </thead>\n",
       "  <tbody>\n",
       "    <tr>\n",
       "      <th>0</th>\n",
       "      <td>.-.-.-Ha-YOURE-GOING-DOWN-BEEM0R/1/</td>\n",
       "      <td>. . . Ha! YOU'RE GOING DOWN, BEEM0R!</td>\n",
       "      <td>Logical-Master</td>\n",
       "      <td>2009-02-02</td>\n",
       "      <td>Pro</td>\n",
       "    </tr>\n",
       "    <tr>\n",
       "      <th>1</th>\n",
       "      <td>.-Audis-are-junkers-except-to-rich-kids-with-l...</td>\n",
       "      <td>. Audis are junkers, except to rich kids with ...</td>\n",
       "      <td>Max.Wallace</td>\n",
       "      <td>2014-09-04</td>\n",
       "      <td>Pro</td>\n",
       "    </tr>\n",
       "    <tr>\n",
       "      <th>2</th>\n",
       "      <td>....-Former-Secretary-of-State-Madeleine-Albri...</td>\n",
       "      <td>....\"Former Secretary of State Madeleine Albri...</td>\n",
       "      <td>Lookingatissues</td>\n",
       "      <td>2017-01-30</td>\n",
       "      <td>Pro</td>\n",
       "    </tr>\n",
       "    <tr>\n",
       "      <th>4</th>\n",
       "      <td>.9-repeated-is-equal-to-1./1/</td>\n",
       "      <td>.9 repeated is equal to 1.</td>\n",
       "      <td>cowpie1998</td>\n",
       "      <td>2011-04-07</td>\n",
       "      <td>Pro</td>\n",
       "    </tr>\n",
       "    <tr>\n",
       "      <th>5</th>\n",
       "      <td>.99-is-equal-to-one./1/</td>\n",
       "      <td>.99 is equal to one.</td>\n",
       "      <td>SweetCrackerJack</td>\n",
       "      <td>2013-12-24</td>\n",
       "      <td>Pro</td>\n",
       "    </tr>\n",
       "    <tr>\n",
       "      <th>...</th>\n",
       "      <td>...</td>\n",
       "      <td>...</td>\n",
       "      <td>...</td>\n",
       "      <td>...</td>\n",
       "      <td>...</td>\n",
       "    </tr>\n",
       "    <tr>\n",
       "      <th>199201</th>\n",
       "      <td>zoos/1/</td>\n",
       "      <td>zoos</td>\n",
       "      <td>RoyLatham</td>\n",
       "      <td>2009-05-18</td>\n",
       "      <td>Pro</td>\n",
       "    </tr>\n",
       "    <tr>\n",
       "      <th>199205</th>\n",
       "      <td>zygote-is-not-A-person/1/</td>\n",
       "      <td>zygote is not A person</td>\n",
       "      <td>progressivedem22</td>\n",
       "      <td>2014-01-30</td>\n",
       "      <td>Pro</td>\n",
       "    </tr>\n",
       "    <tr>\n",
       "      <th>199206</th>\n",
       "      <td>zygote-is-not-A-person/1/</td>\n",
       "      <td>zygote is not A person</td>\n",
       "      <td>saxman</td>\n",
       "      <td>2014-01-30</td>\n",
       "      <td>Con</td>\n",
       "    </tr>\n",
       "    <tr>\n",
       "      <th>199207</th>\n",
       "      <td>zygote-is-not-A-person/1/</td>\n",
       "      <td>zygote is not A person</td>\n",
       "      <td>CynicalDiogenes</td>\n",
       "      <td>2014-01-30</td>\n",
       "      <td>Con</td>\n",
       "    </tr>\n",
       "    <tr>\n",
       "      <th>199208</th>\n",
       "      <td>zygote-is-not-A-person/1/</td>\n",
       "      <td>zygote is not A person</td>\n",
       "      <td>black_squirrel</td>\n",
       "      <td>2014-01-30</td>\n",
       "      <td>Pro</td>\n",
       "    </tr>\n",
       "  </tbody>\n",
       "</table>\n",
       "<p>209294 rows × 5 columns</p>\n",
       "</div>"
      ],
      "text/plain": [
       "                                               debate_key  \\\n",
       "0                     .-.-.-Ha-YOURE-GOING-DOWN-BEEM0R/1/   \n",
       "1       .-Audis-are-junkers-except-to-rich-kids-with-l...   \n",
       "2       ....-Former-Secretary-of-State-Madeleine-Albri...   \n",
       "4                           .9-repeated-is-equal-to-1./1/   \n",
       "5                                 .99-is-equal-to-one./1/   \n",
       "...                                                   ...   \n",
       "199201                                            zoos/1/   \n",
       "199205                          zygote-is-not-A-person/1/   \n",
       "199206                          zygote-is-not-A-person/1/   \n",
       "199207                          zygote-is-not-A-person/1/   \n",
       "199208                          zygote-is-not-A-person/1/   \n",
       "\n",
       "                                             debate_title          username  \\\n",
       "0                    . . . Ha! YOU'RE GOING DOWN, BEEM0R!    Logical-Master   \n",
       "1       . Audis are junkers, except to rich kids with ...       Max.Wallace   \n",
       "2       ....\"Former Secretary of State Madeleine Albri...   Lookingatissues   \n",
       "4                              .9 repeated is equal to 1.        cowpie1998   \n",
       "5                                    .99 is equal to one.  SweetCrackerJack   \n",
       "...                                                   ...               ...   \n",
       "199201                                               zoos         RoyLatham   \n",
       "199205                             zygote is not A person  progressivedem22   \n",
       "199206                             zygote is not A person            saxman   \n",
       "199207                             zygote is not A person   CynicalDiogenes   \n",
       "199208                             zygote is not A person    black_squirrel   \n",
       "\n",
       "       debate_date position  \n",
       "0       2009-02-02      Pro  \n",
       "1       2014-09-04      Pro  \n",
       "2       2017-01-30      Pro  \n",
       "4       2011-04-07      Pro  \n",
       "5       2013-12-24      Pro  \n",
       "...            ...      ...  \n",
       "199201  2009-05-18      Pro  \n",
       "199205  2014-01-30      Pro  \n",
       "199206  2014-01-30      Con  \n",
       "199207  2014-01-30      Con  \n",
       "199208  2014-01-30      Pro  \n",
       "\n",
       "[209294 rows x 5 columns]"
      ]
     },
     "execution_count": 162,
     "metadata": {},
     "output_type": "execute_result"
    }
   ],
   "source": [
    "df_combined_userup2 = df_combined[df_combined['username'].isin(user_up2.keys())]\n",
    "df_combined_userup2"
   ]
  },
  {
   "cell_type": "code",
   "execution_count": 165,
   "id": "53042eea",
   "metadata": {},
   "outputs": [
    {
     "name": "stdout",
     "output_type": "stream",
     "text": [
      "data size: 209294\n",
      "num debates: 76925\n",
      "num debate title: 67686\n",
      "num users: 21113\n"
     ]
    }
   ],
   "source": [
    "print('data size:', len(df_combined_userup2))\n",
    "print('num debates:', len(df_combined_userup2['debate_key'].unique()))\n",
    "print('num debate title:', len(df_combined_userup2['debate_title'].unique()))\n",
    "print('num users:', len(df_combined_userup2['username'].unique()))"
   ]
  },
  {
   "cell_type": "code",
   "execution_count": 166,
   "id": "e59c1c26",
   "metadata": {},
   "outputs": [],
   "source": [
    "df_combined_userup2.to_pickle('../data/02_ddo_initial_filtering/df_debater_vote_merged_userup2.p')"
   ]
  },
  {
   "cell_type": "code",
   "execution_count": 174,
   "id": "376fe715",
   "metadata": {},
   "outputs": [
    {
     "name": "stdout",
     "output_type": "stream",
     "text": [
      "A border fence is useless\n",
      "a box that can never be opened is empty\n",
      "A breakdown in communication create segregation within our existence creators name.\n",
      "A Brutal Research Made On Fungi\n",
      "A business should not be forced to pay for maternity leave because pregnancies should be planned.\n",
      "A Canadian-style National Healthcare system would be a good thing for the United States to have.\n",
      "A Canal Should be Built on the Mexican-U.S Border\n",
      "A candidates religious beliefs should be considered when choosing whom to vote for in political race\n",
      "\"A cap on your costs, but no cap on your benefit.\" - Nancy Pelosi\n",
      "A capella is the correct form of worship\n",
      "A capella music is the correct form of worship\n",
      "A capitilist societs is better then a socialist one\n",
      "A Carbon Tax Should be Implemented in The United States.\n",
      "A career in pornography should be a more ethically respectable one than one in politics.\n",
      "A carpet mat can burn lightning with enough heat.\n",
      "A caveman would beat an astronaut in an unarmed fight to the death\n",
      "A chainsaw is the worst weapon in a zombie apocalypse\n",
      "A Chainsaw is the worst weapon to use in a zombie apocalypse.\n",
      "A Challenge To Non-Christians!\n",
      "A Chernobyl-type nuclear power accident cannot happen in the United States\n",
      "A child\"s purity should not be protected from the harsh realities of the world.\n",
      "a child's right to privacy should be valed above a parents right to know\n",
      "a child should be able to speak just as freely as adults..\n",
      "A Christian can lose their salvation 1\n",
      "A Christian can lose their salvation 2\n",
      "A Christian can not lose salvation\n",
      "A Christian Cannot Lose His Salvation\n",
      "A Christian/Catholic CAN be homosexual\n",
      "A Christian God exists\n",
      "a christian had they lived in the OTestament days should not have been compelled to stone sinners\n",
      "a christian had they lived in the OTestament days shouldn't have been compelled to stone sinners\n",
      "a christian had they lived in the OTestament days shouldn't have been compelled to stone sinners\n",
      "A Christian (One who has been saved from sin) Can Lose Their Salvation and Become Unsaved\n",
      "A Christian Ought to Vote Against Gay Marriage\n",
      "A Christian Ought to Vote Against Prop 8\n",
      "A Christian Should Vote Conservatively\n",
      "A Circle can fit into a square hole. (2)\n",
      "A Circle can fit into a square hole.\n",
      "a civil war in the USA is not likely in our life time\n",
      "a civil war in the USA is not likely in our life time\n",
      "A Class in Creativity\n",
      "A Clockwork Orange Debate: Do People Have a Right to make Wrong Choices?\n",
      "A College Degree Is No Longer Enough\n",
      "A comet impacted the Earth in 10,900 BC which had devastating results for the planet\n",
      "A coming new age, is global government needed for a technocratic society?\n",
      "A Command Economy has the Ability to be the most effective economic system\n",
      "A common man is a silent instigator under the cloak of a mute spectator\n",
      "a communist ecmnomic sestem is the best\n",
      "A complete border wall along the U.S/Mexico border.\n",
      "A complete border wall along the U.S/Mexico border.\n",
      "A complete gun ban in the United States\n",
      "A Completely Omnipotent Being Cannot Logically Exist\n",
      "A Comprehensive Immigration Reform is key to our Economy and one should be issued\n",
      "a computer gives a headache\n",
      "A conclusion to the art of communication\n",
      "A Conscious Mind, Based On Everything We Know, Is Probably The Basis And Grounding Of The Universe\n",
      "A conversation w/ a religious man\n",
      "A Conversation w/ an Atheist\n",
      "A Corporation can be \"too big to fail\"\n",
      "A Cosmological Argument for God is Sound\n",
      "A country always acts in it's own self interests\n",
      "A country shouldnt have the ability to ban games\n",
      "A crackdown on paedophile Catholic priests: it\"s time for a good old fashioned witch hunt\n",
      "a crazy idea ??\n",
      "A creator/creators probably exists\n",
      "A creator exists\n",
      "A Creator is the only rational explanation for the existence of the Universe.\n",
      "A creator of the universe does exist.\n",
      "A creator of the universe exists.\n",
      "A creator of the universe exists\n",
      "A Creator's Existence is Apparent\n",
      "A crocodile could beat a shark.\n",
      "A Crowbar is the best weapon to have during a Zombie Uprising.\n",
      "A Curfew for City Kids Under 18\n",
      "A Dalek would win in a fight\n",
      "A Debate from beyond the Grave: James Annesley was a Villain not a Victim\n",
      "A debate is won by using facts, analysis, and refutations, not by insulting ideas\n",
      "A debate of Bigots: languages\n",
      "A debate of some sort\n",
      "A debate on a certain controversy\n"
     ]
    }
   ],
   "source": [
    "for i in range(420,500):\n",
    "    print(df_combined_userup2['debate_title'].iloc[i])"
   ]
  },
  {
   "cell_type": "code",
   "execution_count": null,
   "id": "233436ad",
   "metadata": {},
   "outputs": [],
   "source": []
  }
 ],
 "metadata": {
  "kernelspec": {
   "display_name": "Python 3 (ipykernel)",
   "language": "python",
   "name": "python3"
  },
  "language_info": {
   "codemirror_mode": {
    "name": "ipython",
    "version": 3
   },
   "file_extension": ".py",
   "mimetype": "text/x-python",
   "name": "python",
   "nbconvert_exporter": "python",
   "pygments_lexer": "ipython3",
   "version": "3.9.10"
  }
 },
 "nbformat": 4,
 "nbformat_minor": 5
}
