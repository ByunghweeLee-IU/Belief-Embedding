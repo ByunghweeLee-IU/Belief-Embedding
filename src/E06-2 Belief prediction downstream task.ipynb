{
 "cells": [
  {
   "cell_type": "code",
   "execution_count": 1,
   "metadata": {},
   "outputs": [],
   "source": [
    "import torch\n",
    "import pickle\n",
    "from tqdm import tqdm\n",
    "import numpy as np\n",
    "import pandas as pd\n",
    "\n",
    "import matplotlib\n",
    "%matplotlib inline\n",
    "from matplotlib import pyplot as plt\n",
    "from matplotlib import font_manager as fm\n",
    "from matplotlib import rc\n",
    "matplotlib.rcParams['figure.dpi'] = 150\n",
    "\n",
    "import matplotlib.pyplot as plt\n",
    "from sentence_transformers import models, SentenceTransformer\n",
    "from collections import defaultdict\n",
    "import seaborn as sns\n",
    "from sklearn.metrics.pairwise import cosine_similarity\n",
    "\n",
    "from scipy.stats import binned_statistic\n",
    "\n",
    "from sklearn.metrics import f1_score\n",
    "from sklearn.metrics import accuracy_score"
   ]
  },
  {
   "cell_type": "markdown",
   "metadata": {},
   "source": [
    "epoch = 3 ver\n",
    "data_idx = [0,1,2,3,4]"
   ]
  },
  {
   "cell_type": "code",
   "execution_count": 2,
   "metadata": {},
   "outputs": [],
   "source": [
    "data_indices = [0,1,2,3,4]"
   ]
  },
  {
   "cell_type": "code",
   "execution_count": 3,
   "metadata": {},
   "outputs": [],
   "source": [
    "model_types = ['model_bert_ft', 'model_roberta-base_ft', 'model_bert', 'model_roberta-base']#, 'model_sbert_ft', 'model_sbert'\n",
    "model_labels = ['Finetuned BERT', 'Finetuned SBERT', 'BERT', 'SBERT'] #, 'Finetuned SBERT roberta', 'SBERT roberta'"
   ]
  },
  {
   "cell_type": "code",
   "execution_count": 4,
   "metadata": {},
   "outputs": [],
   "source": [
    "def load_model(model_type, data_idx):\n",
    "    \n",
    "    if model_type == 'model_bert':\n",
    "        bert = models.Transformer('bert-base-uncased')\n",
    "        pooler = models.Pooling(\n",
    "            bert.get_word_embedding_dimension(), #768\n",
    "            pooling_mode_mean_tokens=True #mean pooling\n",
    "        )\n",
    "        model = SentenceTransformer(modules=[bert, pooler])    \n",
    "    \n",
    "    if model_type == 'model_bert_ft':\n",
    "        MODEL_PATH = '../model/finetuned-BERT_idx%d_epoch3'%(data_idx)\n",
    "        model = SentenceTransformer(MODEL_PATH)\n",
    "    \n",
    "    if model_type == 'model_roberta-base':\n",
    "        model = SentenceTransformer('roberta-base-nli-stsb-mean-tokens')\n",
    "    \n",
    "    if model_type == 'model_roberta-base_ft':\n",
    "        MODEL_PATH = '../model/roberta-base_idx%d_epoch3'%(data_idx)\n",
    "        model = SentenceTransformer(MODEL_PATH)\n",
    "\n",
    "    return model"
   ]
  },
  {
   "cell_type": "markdown",
   "metadata": {},
   "source": [
    "## User embedding"
   ]
  },
  {
   "cell_type": "markdown",
   "metadata": {},
   "source": [
    "Goal: find user embeddings for each model and save them in the /dataset/UserEmbeddings/"
   ]
  },
  {
   "cell_type": "markdown",
   "metadata": {},
   "source": [
    " * Run __get_user_embeddings.py__ to get user belief embeddings and user embedding"
   ]
  },
  {
   "cell_type": "markdown",
   "metadata": {},
   "source": [
    "## Classification task - test set"
   ]
  },
  {
   "cell_type": "code",
   "execution_count": 24,
   "metadata": {
    "scrolled": true
   },
   "outputs": [
    {
     "name": "stdout",
     "output_type": "stream",
     "text": [
      "10173 users are included in both dataset.\n",
      "111724 33208\n"
     ]
    },
    {
     "name": "stderr",
     "output_type": "stream",
     "text": [
      "/tmp/ipykernel_1062089/3257292800.py:27: SettingWithCopyWarning: \n",
      "A value is trying to be set on a copy of a slice from a DataFrame.\n",
      "Try using .loc[row_indexer,col_indexer] = value instead\n",
      "\n",
      "See the caveats in the documentation: https://pandas.pydata.org/pandas-docs/stable/user_guide/indexing.html#returning-a-view-versus-a-copy\n",
      "  df_train_common['votelen'] = df_train_common['username'].map(user2votelen)\n",
      "/tmp/ipykernel_1062089/3257292800.py:28: SettingWithCopyWarning: \n",
      "A value is trying to be set on a copy of a slice from a DataFrame.\n",
      "Try using .loc[row_indexer,col_indexer] = value instead\n",
      "\n",
      "See the caveats in the documentation: https://pandas.pydata.org/pandas-docs/stable/user_guide/indexing.html#returning-a-view-versus-a-copy\n",
      "  df_test_common['votelen'] = df_test_common['username'].map(user2votelen)\n"
     ]
    },
    {
     "name": "stdout",
     "output_type": "stream",
     "text": [
      "10401 users are included in both dataset.\n",
      "110860 35171\n"
     ]
    },
    {
     "name": "stderr",
     "output_type": "stream",
     "text": [
      "/tmp/ipykernel_1062089/3257292800.py:27: SettingWithCopyWarning: \n",
      "A value is trying to be set on a copy of a slice from a DataFrame.\n",
      "Try using .loc[row_indexer,col_indexer] = value instead\n",
      "\n",
      "See the caveats in the documentation: https://pandas.pydata.org/pandas-docs/stable/user_guide/indexing.html#returning-a-view-versus-a-copy\n",
      "  df_train_common['votelen'] = df_train_common['username'].map(user2votelen)\n",
      "/tmp/ipykernel_1062089/3257292800.py:28: SettingWithCopyWarning: \n",
      "A value is trying to be set on a copy of a slice from a DataFrame.\n",
      "Try using .loc[row_indexer,col_indexer] = value instead\n",
      "\n",
      "See the caveats in the documentation: https://pandas.pydata.org/pandas-docs/stable/user_guide/indexing.html#returning-a-view-versus-a-copy\n",
      "  df_test_common['votelen'] = df_test_common['username'].map(user2votelen)\n"
     ]
    },
    {
     "name": "stdout",
     "output_type": "stream",
     "text": [
      "9706 users are included in both dataset.\n",
      "107163 36060\n"
     ]
    },
    {
     "name": "stderr",
     "output_type": "stream",
     "text": [
      "/tmp/ipykernel_1062089/3257292800.py:27: SettingWithCopyWarning: \n",
      "A value is trying to be set on a copy of a slice from a DataFrame.\n",
      "Try using .loc[row_indexer,col_indexer] = value instead\n",
      "\n",
      "See the caveats in the documentation: https://pandas.pydata.org/pandas-docs/stable/user_guide/indexing.html#returning-a-view-versus-a-copy\n",
      "  df_train_common['votelen'] = df_train_common['username'].map(user2votelen)\n",
      "/tmp/ipykernel_1062089/3257292800.py:28: SettingWithCopyWarning: \n",
      "A value is trying to be set on a copy of a slice from a DataFrame.\n",
      "Try using .loc[row_indexer,col_indexer] = value instead\n",
      "\n",
      "See the caveats in the documentation: https://pandas.pydata.org/pandas-docs/stable/user_guide/indexing.html#returning-a-view-versus-a-copy\n",
      "  df_test_common['votelen'] = df_test_common['username'].map(user2votelen)\n"
     ]
    },
    {
     "name": "stdout",
     "output_type": "stream",
     "text": [
      "9675 users are included in both dataset.\n",
      "113625 27733\n"
     ]
    },
    {
     "name": "stderr",
     "output_type": "stream",
     "text": [
      "/tmp/ipykernel_1062089/3257292800.py:27: SettingWithCopyWarning: \n",
      "A value is trying to be set on a copy of a slice from a DataFrame.\n",
      "Try using .loc[row_indexer,col_indexer] = value instead\n",
      "\n",
      "See the caveats in the documentation: https://pandas.pydata.org/pandas-docs/stable/user_guide/indexing.html#returning-a-view-versus-a-copy\n",
      "  df_train_common['votelen'] = df_train_common['username'].map(user2votelen)\n",
      "/tmp/ipykernel_1062089/3257292800.py:28: SettingWithCopyWarning: \n",
      "A value is trying to be set on a copy of a slice from a DataFrame.\n",
      "Try using .loc[row_indexer,col_indexer] = value instead\n",
      "\n",
      "See the caveats in the documentation: https://pandas.pydata.org/pandas-docs/stable/user_guide/indexing.html#returning-a-view-versus-a-copy\n",
      "  df_test_common['votelen'] = df_test_common['username'].map(user2votelen)\n"
     ]
    },
    {
     "name": "stdout",
     "output_type": "stream",
     "text": [
      "9744 users are included in both dataset.\n",
      "110227 33007\n"
     ]
    },
    {
     "name": "stderr",
     "output_type": "stream",
     "text": [
      "/tmp/ipykernel_1062089/3257292800.py:27: SettingWithCopyWarning: \n",
      "A value is trying to be set on a copy of a slice from a DataFrame.\n",
      "Try using .loc[row_indexer,col_indexer] = value instead\n",
      "\n",
      "See the caveats in the documentation: https://pandas.pydata.org/pandas-docs/stable/user_guide/indexing.html#returning-a-view-versus-a-copy\n",
      "  df_train_common['votelen'] = df_train_common['username'].map(user2votelen)\n",
      "/tmp/ipykernel_1062089/3257292800.py:28: SettingWithCopyWarning: \n",
      "A value is trying to be set on a copy of a slice from a DataFrame.\n",
      "Try using .loc[row_indexer,col_indexer] = value instead\n",
      "\n",
      "See the caveats in the documentation: https://pandas.pydata.org/pandas-docs/stable/user_guide/indexing.html#returning-a-view-versus-a-copy\n",
      "  df_test_common['votelen'] = df_test_common['username'].map(user2votelen)\n"
     ]
    }
   ],
   "source": [
    "for data_idx in range(5):\n",
    "\n",
    "    df_train = pd.read_pickle('../dataset/04_K-fold_dataset/df_train_idx%d.p'%(data_idx))\n",
    "    df_test  = pd.read_pickle('../dataset/04_K-fold_dataset/df_test_idx%d.p'%(data_idx))\n",
    "\n",
    "                              \n",
    "    #3.1 Find common users who are included in both train and test data\n",
    "    trainset_users = df_train['username'].unique()\n",
    "    testset_users = df_test['username'].unique()\n",
    "    \n",
    "    common_users = []\n",
    "    for user in testset_users:\n",
    "        if user in trainset_users:\n",
    "            common_users.append(user)\n",
    "    \n",
    "    print(f\"{len(common_users)} users are included in both dataset.\")       \n",
    "    \n",
    "    #3.2 generate dataframe composed of common user\n",
    "    df_train_common = df_train[df_train['username'].isin(common_users)] \n",
    "    df_test_common = df_test[df_test['username'].isin(common_users)] \n",
    "    \n",
    "    print(len(df_train_common), len(df_test_common))\n",
    "    \n",
    "    # Add vote length information  \n",
    "    user2votelen = dict(df_train_common['username'].value_counts())\n",
    "    lengths = list(user2votelen.values())\n",
    "    df_train_common['votelen'] = df_train_common['username'].map(user2votelen)\n",
    "    df_test_common['votelen'] = df_test_common['username'].map(user2votelen)\n",
    "\n",
    "    df_train_common.to_pickle('../dataset/DownstreamTask_Dataframe/df_train_common_dataidx%d.p'%(data_idx))\n",
    "    df_test_common.to_pickle('../dataset/DownstreamTask_Dataframe/df_test_common_dataidx%d.p'%(data_idx))"
   ]
  },
  {
   "cell_type": "markdown",
   "metadata": {},
   "source": [
    "## Statistics"
   ]
  },
  {
   "cell_type": "code",
   "execution_count": 17,
   "metadata": {},
   "outputs": [
    {
     "name": "stdout",
     "output_type": "stream",
     "text": [
      "data_idx:  1\n",
      "# debates:  42255 11581\n",
      "# Users:  10173 10173\n",
      "# Participation:  111724 33208\n",
      "# Participation per user: 10.98 3.26\n",
      "\n",
      "data_idx:  2\n",
      "# debates:  42464 11571\n",
      "# Users:  10401 10401\n",
      "# Participation:  110860 35171\n",
      "# Participation per user: 10.66 3.38\n",
      "\n",
      "data_idx:  3\n",
      "# debates:  40936 11720\n",
      "# Users:  9706 9706\n",
      "# Participation:  107163 36060\n",
      "# Participation per user: 11.04 3.72\n",
      "\n",
      "data_idx:  4\n",
      "# debates:  42409 11327\n",
      "# Users:  9675 9675\n",
      "# Participation:  113625 27733\n",
      "# Participation per user: 11.74 2.87\n",
      "\n",
      "data_idx:  5\n",
      "# debates:  41591 11682\n",
      "# Users:  9744 9744\n",
      "# Participation:  110227 33007\n",
      "# Participation per user: 11.31 3.39\n",
      "\n"
     ]
    }
   ],
   "source": [
    "for data_idx in range(5):\n",
    "\n",
    "    dat_train = pd.read_pickle('../dataset/DownstreamTask_Dataframe/df_train_common_dataidx%d.p'%(data_idx))\n",
    "    dat_test  = pd.read_pickle('../dataset/DownstreamTask_Dataframe/df_test_common_dataidx%d.p'%(data_idx))\n",
    "                              \n",
    "    #3.1 Find common users who are included in both train and test data\n",
    "    trainset_users = dat_train['username'].unique()\n",
    "    testset_users = dat_test['username'].unique()\n",
    "    \n",
    "    print(\"data_idx: \", data_idx+1)\n",
    "    print(\"# debates: \" , len(dat_train['debate_title'].unique()), len(dat_test['debate_title'].unique()))\n",
    "    print(\"# Users: \" , len(trainset_users), len(testset_users))\n",
    "    print(\"# Participation: \" , len(dat_train), len(dat_test))\n",
    "    print(\"# Participation per user: %.2f %.2f\"%(len(dat_train)/len(trainset_users), len(dat_test)/len(testset_users)))\n",
    "    print()"
   ]
  },
  {
   "cell_type": "code",
   "execution_count": 25,
   "metadata": {},
   "outputs": [],
   "source": [
    "def get_rephrase(s, pro=True):\n",
    "    pro_phrase = 'I agree with the following: '\n",
    "    con_phrase = 'I disagree with the following: '\n",
    "\n",
    "    if pro:\n",
    "        return pro_phrase + s\n",
    "    else:\n",
    "        return con_phrase + s"
   ]
  },
  {
   "cell_type": "code",
   "execution_count": 8,
   "metadata": {
    "scrolled": true
   },
   "outputs": [
    {
     "data": {
      "text/plain": [
       "\"for data_idx in range(5):\\n    for model_type in model_types:\\n        df_train = pd.read_pickle('../dataset/04_K-fold_dataset_nodup/df_train_idx%d.p'%(data_idx))\\n        df_test  = pd.read_pickle('../dataset/04_K-fold_dataset_nodup/df_test_idx%d.p'%(data_idx))\\n\\n        with open('../dataset/UserEmbeddings/user2embeddingvector_data(%d)_model(%s).p'%(data_idx, model_type), 'rb' ) as f :   \\n            user2embedding = pickle.load(f)\\n    \\n    #print(len(df_train['username'].unique()), len(user2embedding) )\""
      ]
     },
     "execution_count": 8,
     "metadata": {},
     "output_type": "execute_result"
    }
   ],
   "source": [
    "\"\"\"for data_idx in range(5):\n",
    "    for model_type in model_types:\n",
    "        df_train = pd.read_pickle('../dataset/04_K-fold_dataset/df_train_idx%d.p'%(data_idx))\n",
    "        df_test  = pd.read_pickle('../dataset/04_K-fold_dataset/df_test_idx%d.p'%(data_idx))\n",
    "\n",
    "        with open('../dataset/UserEmbeddings/user2embeddingvector_data(%d)_model(%s).p'%(data_idx, model_type), 'rb' ) as f :   \n",
    "            user2embedding = pickle.load(f)\n",
    "    \n",
    "    #print(len(df_train['username'].unique()), len(user2embedding) )\"\"\""
   ]
  },
  {
   "cell_type": "code",
   "execution_count": 21,
   "metadata": {},
   "outputs": [
    {
     "data": {
      "text/plain": [
       "\"\\nuser2avg_emb_train = {} #import user embeddings for each model for each data\\nfor model_type in model_types:\\n    user2avg_emb_train[model_type] = {}\\n    for data_idx in data_indices:\\n        with open('../dataset/UserEmbeddings/user2embeddingvector_data(%d)_model(%s).p'%(data_idx, model_type), 'rb' ) as f :   \\n            user2avg_emb_train[model_type][data_idx] = pickle.load(f)\\n\""
      ]
     },
     "execution_count": 21,
     "metadata": {},
     "output_type": "execute_result"
    }
   ],
   "source": [
    "\"\"\"\n",
    "user2avg_emb_train = {} #import user embeddings for each model for each data\n",
    "for model_type in model_types:\n",
    "    user2avg_emb_train[model_type] = {}\n",
    "    for data_idx in data_indices:\n",
    "        with open('../dataset/UserEmbeddings/user2embeddingvector_data(%d)_model(%s).p'%(data_idx, model_type), 'rb' ) as f :   \n",
    "            user2avg_emb_train[model_type][data_idx] = pickle.load(f)\n",
    "\"\"\"            "
   ]
  },
  {
   "cell_type": "markdown",
   "metadata": {},
   "source": [
    "### Prediction task "
   ]
  },
  {
   "cell_type": "code",
   "execution_count": 26,
   "metadata": {},
   "outputs": [],
   "source": [
    "def cosine_accuracy(x_pro_vec, x_con_vec, user_vec):\n",
    "    #cosine distance\n",
    "    y_pro = []\n",
    "    y_con = []\n",
    "    for i in range(len(x_pro_vec)):\n",
    "        a = cosine_similarity([x_pro_vec[i]], [user_vec[i]])[0][0]\n",
    "        b = cosine_similarity([x_con_vec[i]], [user_vec[i]])[0][0]\n",
    "        y_pro.append(a)\n",
    "        y_con.append(b)\n",
    "    y_pro = np.array(y_pro)\n",
    "    y_con = np.array(y_con)\n",
    "    y_hat = y_pro > y_con    \n",
    "\n",
    "    acc   = sum(y == y_hat)/len(y)*100\n",
    "    print(\"Acc(COS): %.2f%%\"%(acc))\n",
    "    return y_hat, acc\n",
    "\n",
    "def euclidean_accuracy(x_pro_vec, x_con_vec, user_vec):\n",
    "    #Euclidian distance\n",
    "    y_pro_euc = []\n",
    "    y_con_euc = []\n",
    "    d_min,d_max,d_avg,d_rel = [],[],[],[]\n",
    "    \n",
    "    for i in range(len(x_pro_vec)):\n",
    "        a = np.linalg.norm(x_pro_vec[i] - user_vec[i])\n",
    "        b = np.linalg.norm(x_con_vec[i] - user_vec[i])\n",
    "        y_pro_euc.append(a)\n",
    "        y_con_euc.append(b)\n",
    "        \n",
    "        d_min.append(np.min([a,b]))\n",
    "        d_max.append(np.max([a,b]))\n",
    "        d_avg.append(np.mean([a,b]))\n",
    "        d_rel.append(np.abs(a-b)/np.min([a,b]))\n",
    "    \n",
    "    y_pro_euc = np.array(y_pro_euc)\n",
    "    y_con_euc = np.array(y_con_euc)\n",
    "    y_hat_euc = y_pro_euc < y_con_euc    \n",
    "    \n",
    "    acc   = sum(y == y_hat_euc)/len(y)*100\n",
    "    print(\"Acc(EUC): %.2f%%\"%(acc))\n",
    "    return y_hat_euc, acc, d_min,d_max,d_avg,d_rel"
   ]
  },
  {
   "cell_type": "code",
   "execution_count": 30,
   "metadata": {
    "scrolled": true
   },
   "outputs": [
    {
     "name": "stdout",
     "output_type": "stream",
     "text": [
      "model_bert_ft data_idx 0\n",
      "Acc(EUC): 56.83%\n",
      "model_bert_ft data_idx 1\n",
      "Acc(EUC): 57.20%\n",
      "model_bert_ft data_idx 2\n",
      "Acc(EUC): 56.21%\n",
      "model_bert_ft data_idx 3\n",
      "Acc(EUC): 55.12%\n",
      "model_bert_ft data_idx 4\n",
      "Acc(EUC): 56.27%\n",
      "model_roberta-base_ft data_idx 0\n",
      "Acc(EUC): 58.77%\n",
      "model_roberta-base_ft data_idx 1\n",
      "Acc(EUC): 59.29%\n",
      "model_roberta-base_ft data_idx 2\n",
      "Acc(EUC): 57.14%\n",
      "model_roberta-base_ft data_idx 3\n",
      "Acc(EUC): 56.18%\n",
      "model_roberta-base_ft data_idx 4\n",
      "Acc(EUC): 56.91%\n",
      "model_bert data_idx 0\n",
      "Acc(EUC): 54.68%\n",
      "model_bert data_idx 1\n",
      "Acc(EUC): 53.60%\n",
      "model_bert data_idx 2\n",
      "Acc(EUC): 54.28%\n",
      "model_bert data_idx 3\n",
      "Acc(EUC): 53.34%\n",
      "model_bert data_idx 4\n",
      "Acc(EUC): 53.53%\n",
      "model_roberta-base data_idx 0\n",
      "Acc(EUC): 56.71%\n",
      "model_roberta-base data_idx 1\n",
      "Acc(EUC): 55.99%\n",
      "model_roberta-base data_idx 2\n",
      "Acc(EUC): 56.39%\n",
      "model_roberta-base data_idx 3\n",
      "Acc(EUC): 55.25%\n",
      "model_roberta-base data_idx 4\n",
      "Acc(EUC): 56.35%\n"
     ]
    }
   ],
   "source": [
    "#for model_type in model_types:    \n",
    "for model_type in model_types:    \n",
    "    for data_idx in range(0,5):\n",
    "\n",
    "        print(model_type, \"data_idx\",data_idx)\n",
    "        \n",
    "        #load data \n",
    "        df_sample = pd.read_pickle('../dataset/DownstreamTask_Dataframe/df_test_common_dataidx%d.p'%(data_idx))\n",
    "        \n",
    "        x = df_sample['debate_title']\n",
    "        y = df_sample['position'] == 'Pro' #pro=1 con=0\n",
    "        u = list(df_sample['username'])\n",
    "        \n",
    "        #generate two types of phrases for test set debate title \n",
    "        x_pro = [get_rephrase(e, pro=1) for e in x]\n",
    "        x_con = [get_rephrase(e, pro=0) for e in x]\n",
    "        \n",
    "        #load model\n",
    "        model = load_model(model_type, data_idx)\n",
    "        device = \"cuda:6\" if torch.cuda.is_available() else \"cpu\"\n",
    "        model.to(device)\n",
    "        \n",
    "        #generate pro/con vectors\n",
    "        x_pro_vec = model.encode(x_pro)\n",
    "        x_con_vec = model.encode(x_con)\n",
    "    \n",
    "        #get user embedding\n",
    "        with open('../dataset/UserEmbeddings/user2embeddingvector_data(%d)_model(%s).p'%(data_idx, model_type), 'rb' ) as f :   \n",
    "            user2embedding = pickle.load(f)\n",
    "        \n",
    "        user_vec  = [] \n",
    "        for e in u:\n",
    "            user_vec.append(user2embedding[e])\n",
    "\n",
    "        \n",
    "        #Evaluation\n",
    "        y_hat, acc, d_min, d_max, d_avg, d_rel = euclidean_accuracy(x_pro_vec, x_con_vec, user_vec)\n",
    "     \n",
    "        df_sample['predicted_outcome'] = y_hat        \n",
    "        df_sample['true_outcome'] = df_sample['position']=='Pro'\n",
    "        df_sample['d_min']= d_min\n",
    "        df_sample['d_max']= d_max\n",
    "        df_sample['d_avg']= d_avg\n",
    "        df_sample['d_rel']= d_rel        \n",
    "\n",
    "        df_sample.to_pickle('../dataset/DownstreamTask_Dataframe/downstream_results_data(%d)_model(%s).p'%(data_idx, model_type))\n",
    "            \n"
   ]
  },
  {
   "cell_type": "markdown",
   "metadata": {},
   "source": [
    "### baseline prediction - majority and random guess"
   ]
  },
  {
   "cell_type": "code",
   "execution_count": 3,
   "metadata": {},
   "outputs": [],
   "source": [
    "from collections import Counter\n",
    "\n",
    "def find_majority(x):\n",
    "    cnter = Counter(x)\n",
    "    return cnter.most_common()[0][0]\n",
    "    "
   ]
  },
  {
   "cell_type": "code",
   "execution_count": 7,
   "metadata": {},
   "outputs": [
    {
     "name": "stdout",
     "output_type": "stream",
     "text": [
      "data_idx 0\n",
      "data_idx 1\n",
      "data_idx 2\n",
      "data_idx 3\n",
      "data_idx 4\n"
     ]
    }
   ],
   "source": [
    "for data_idx in range(0,5):\n",
    "\n",
    "    print(\"data_idx\", data_idx)\n",
    "    \n",
    "    #load data \n",
    "    df_sample = pd.read_pickle('../dataset/DownstreamTask_Dataframe/df_test_common_dataidx%d.p'%(data_idx))\n",
    "\n",
    "    #train data record\n",
    "    df_before = pd.read_pickle('../dataset/DownstreamTask_Dataframe/df_train_common_dataidx%d.p'%(data_idx))\n",
    "\n",
    "    user2majority = {}\n",
    "    for user in df_sample['username'].unique():\n",
    "        prev_positions = df_before[df_before['username']==user]['position']\n",
    "        user2majority[user] = find_majority(prev_positions)\n",
    "    \n",
    "    \n",
    "    prev_positions = df_before['position']\n",
    "    group_majority_position = find_majority(prev_positions)\n",
    "    \n",
    "    user2majority_grouplevel = {}\n",
    "    for user in df_sample['username'].unique():\n",
    "        user2majority_grouplevel[user] = group_majority_position\n",
    "\n",
    "    #predict user belief\n",
    "    users = list(df_sample['username'])\n",
    "    y_pred = []\n",
    "    y_pred_group = []\n",
    "    \n",
    "    for u in users: \n",
    "        y_pred.append(user2majority[u]=='Pro')\n",
    "        y_pred_group.append(user2majority_grouplevel[u] == 'Pro')\n",
    "\n",
    "    for model_type in model_types:\n",
    "        df_ = pd.read_pickle('../dataset/DownstreamTask_Dataframe/downstream_results_data(%d)_model(%s).p'%(data_idx, model_type))\n",
    "        df_['majority_pred'] = y_pred\n",
    "        df_['majority_pred_group'] = y_pred_group\n",
    "        df_['random_pred'] = np.random.randint(0,2, size=len(users))\n",
    "        df_.to_pickle('../dataset/DownstreamTask_Dataframe/downstream_results_data(%d)_model(%s).p'%(data_idx, model_type))\n",
    "    \n",
    "    "
   ]
  },
  {
   "cell_type": "code",
   "execution_count": 8,
   "metadata": {},
   "outputs": [
    {
     "data": {
      "text/html": [
       "<div>\n",
       "<style scoped>\n",
       "    .dataframe tbody tr th:only-of-type {\n",
       "        vertical-align: middle;\n",
       "    }\n",
       "\n",
       "    .dataframe tbody tr th {\n",
       "        vertical-align: top;\n",
       "    }\n",
       "\n",
       "    .dataframe thead th {\n",
       "        text-align: right;\n",
       "    }\n",
       "</style>\n",
       "<table border=\"1\" class=\"dataframe\">\n",
       "  <thead>\n",
       "    <tr style=\"text-align: right;\">\n",
       "      <th></th>\n",
       "      <th>debate_key</th>\n",
       "      <th>debate_title</th>\n",
       "      <th>username</th>\n",
       "      <th>debate_date</th>\n",
       "      <th>position</th>\n",
       "      <th>is_belief</th>\n",
       "      <th>belief_statement</th>\n",
       "      <th>votelen</th>\n",
       "      <th>predicted_outcome</th>\n",
       "      <th>true_outcome</th>\n",
       "      <th>d_min</th>\n",
       "      <th>d_max</th>\n",
       "      <th>d_avg</th>\n",
       "      <th>d_rel</th>\n",
       "      <th>majority_pred</th>\n",
       "      <th>random_pred</th>\n",
       "      <th>majority_pred_group</th>\n",
       "    </tr>\n",
       "  </thead>\n",
       "  <tbody>\n",
       "    <tr>\n",
       "      <th>63730</th>\n",
       "      <td>The-Democratic-Peoples-Republic-of-Korea-is-no...</td>\n",
       "      <td>The Democratic People's Republic of Korea is n...</td>\n",
       "      <td>SteveMaxwell</td>\n",
       "      <td>2015-10-25</td>\n",
       "      <td>Pro</td>\n",
       "      <td>1.0</td>\n",
       "      <td>I agree with the following: The Democratic Peo...</td>\n",
       "      <td>1</td>\n",
       "      <td>True</td>\n",
       "      <td>True</td>\n",
       "      <td>24.716259</td>\n",
       "      <td>24.834814</td>\n",
       "      <td>24.775536</td>\n",
       "      <td>0.004797</td>\n",
       "      <td>True</td>\n",
       "      <td>0</td>\n",
       "      <td>False</td>\n",
       "    </tr>\n",
       "    <tr>\n",
       "      <th>63731</th>\n",
       "      <td>The-democrats-are-more-racist-than-the-republi...</td>\n",
       "      <td>The democrats are more racist than the republi...</td>\n",
       "      <td>Flipbook</td>\n",
       "      <td>2014-11-24</td>\n",
       "      <td>Pro</td>\n",
       "      <td>1.0</td>\n",
       "      <td>I agree with the following: The democrats are ...</td>\n",
       "      <td>8</td>\n",
       "      <td>False</td>\n",
       "      <td>True</td>\n",
       "      <td>16.578342</td>\n",
       "      <td>18.275551</td>\n",
       "      <td>17.426947</td>\n",
       "      <td>0.102375</td>\n",
       "      <td>False</td>\n",
       "      <td>0</td>\n",
       "      <td>False</td>\n",
       "    </tr>\n",
       "    <tr>\n",
       "      <th>63732</th>\n",
       "      <td>The-Democrats-are-not-protecting-the-US-Consti...</td>\n",
       "      <td>The Democrats are not protecting the US Consti...</td>\n",
       "      <td>Flipbook</td>\n",
       "      <td>2013-05-14</td>\n",
       "      <td>Pro</td>\n",
       "      <td>1.0</td>\n",
       "      <td>I agree with the following: The Democrats are ...</td>\n",
       "      <td>8</td>\n",
       "      <td>False</td>\n",
       "      <td>True</td>\n",
       "      <td>16.456379</td>\n",
       "      <td>17.252188</td>\n",
       "      <td>16.854282</td>\n",
       "      <td>0.048359</td>\n",
       "      <td>False</td>\n",
       "      <td>0</td>\n",
       "      <td>False</td>\n",
       "    </tr>\n",
       "    <tr>\n",
       "      <th>63733</th>\n",
       "      <td>The-Democrats-scare-me./1/</td>\n",
       "      <td>The Democrats scare me.</td>\n",
       "      <td>wingnut2280</td>\n",
       "      <td>2008-01-22</td>\n",
       "      <td>Pro</td>\n",
       "      <td>1.0</td>\n",
       "      <td>I agree with the following: The Democrats scar...</td>\n",
       "      <td>42</td>\n",
       "      <td>False</td>\n",
       "      <td>True</td>\n",
       "      <td>13.721004</td>\n",
       "      <td>15.272534</td>\n",
       "      <td>14.496769</td>\n",
       "      <td>0.113077</td>\n",
       "      <td>False</td>\n",
       "      <td>0</td>\n",
       "      <td>False</td>\n",
       "    </tr>\n",
       "    <tr>\n",
       "      <th>63734</th>\n",
       "      <td>The-democrats-show-their-true-colors-stalinist...</td>\n",
       "      <td>The democrats show their true colors - stalini...</td>\n",
       "      <td>Solarman1969</td>\n",
       "      <td>2008-02-15</td>\n",
       "      <td>Pro</td>\n",
       "      <td>1.0</td>\n",
       "      <td>I agree with the following: The democrats show...</td>\n",
       "      <td>55</td>\n",
       "      <td>True</td>\n",
       "      <td>True</td>\n",
       "      <td>15.502457</td>\n",
       "      <td>16.059826</td>\n",
       "      <td>15.781141</td>\n",
       "      <td>0.035954</td>\n",
       "      <td>True</td>\n",
       "      <td>1</td>\n",
       "      <td>False</td>\n",
       "    </tr>\n",
       "  </tbody>\n",
       "</table>\n",
       "</div>"
      ],
      "text/plain": [
       "                                              debate_key  \\\n",
       "63730  The-Democratic-Peoples-Republic-of-Korea-is-no...   \n",
       "63731  The-democrats-are-more-racist-than-the-republi...   \n",
       "63732  The-Democrats-are-not-protecting-the-US-Consti...   \n",
       "63733                         The-Democrats-scare-me./1/   \n",
       "63734  The-democrats-show-their-true-colors-stalinist...   \n",
       "\n",
       "                                            debate_title      username  \\\n",
       "63730  The Democratic People's Republic of Korea is n...  SteveMaxwell   \n",
       "63731  The democrats are more racist than the republi...      Flipbook   \n",
       "63732  The Democrats are not protecting the US Consti...      Flipbook   \n",
       "63733                            The Democrats scare me.   wingnut2280   \n",
       "63734  The democrats show their true colors - stalini...  Solarman1969   \n",
       "\n",
       "      debate_date position  is_belief  \\\n",
       "63730  2015-10-25      Pro        1.0   \n",
       "63731  2014-11-24      Pro        1.0   \n",
       "63732  2013-05-14      Pro        1.0   \n",
       "63733  2008-01-22      Pro        1.0   \n",
       "63734  2008-02-15      Pro        1.0   \n",
       "\n",
       "                                        belief_statement  votelen  \\\n",
       "63730  I agree with the following: The Democratic Peo...        1   \n",
       "63731  I agree with the following: The democrats are ...        8   \n",
       "63732  I agree with the following: The Democrats are ...        8   \n",
       "63733  I agree with the following: The Democrats scar...       42   \n",
       "63734  I agree with the following: The democrats show...       55   \n",
       "\n",
       "       predicted_outcome  true_outcome      d_min      d_max      d_avg  \\\n",
       "63730               True          True  24.716259  24.834814  24.775536   \n",
       "63731              False          True  16.578342  18.275551  17.426947   \n",
       "63732              False          True  16.456379  17.252188  16.854282   \n",
       "63733              False          True  13.721004  15.272534  14.496769   \n",
       "63734               True          True  15.502457  16.059826  15.781141   \n",
       "\n",
       "          d_rel  majority_pred  random_pred  majority_pred_group  \n",
       "63730  0.004797           True            0                False  \n",
       "63731  0.102375          False            0                False  \n",
       "63732  0.048359          False            0                False  \n",
       "63733  0.113077          False            0                False  \n",
       "63734  0.035954           True            1                False  "
      ]
     },
     "execution_count": 8,
     "metadata": {},
     "output_type": "execute_result"
    }
   ],
   "source": [
    "df_.head()"
   ]
  }
 ],
 "metadata": {
  "kernelspec": {
   "display_name": "Python 3 (ipykernel)",
   "language": "python",
   "name": "python3"
  },
  "language_info": {
   "codemirror_mode": {
    "name": "ipython",
    "version": 3
   },
   "file_extension": ".py",
   "mimetype": "text/x-python",
   "name": "python",
   "nbconvert_exporter": "python",
   "pygments_lexer": "ipython3",
   "version": "3.9.10"
  }
 },
 "nbformat": 4,
 "nbformat_minor": 4
}
